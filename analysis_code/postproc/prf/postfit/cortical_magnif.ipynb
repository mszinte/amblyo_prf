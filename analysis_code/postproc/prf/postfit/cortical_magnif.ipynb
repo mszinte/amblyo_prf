{
 "cells": [
  {
   "cell_type": "code",
   "execution_count": 3,
   "id": "a64d445e-a0d7-4aac-8bc6-48f4eeed7d59",
   "metadata": {},
   "outputs": [
    {
     "name": "stdout",
     "output_type": "stream",
     "text": [
      "/home/mchevillard/disks/meso_H/projects/stereo_prf/analysis_code/postproc/prf/postfit\n"
     ]
    }
   ],
   "source": [
    "cd ~/disks/meso_H/projects/stereo_prf/analysis_code/postproc/prf/postfit/"
   ]
  },
  {
   "cell_type": "code",
   "execution_count": null,
   "id": "95811814-d4e9-4cd8-b2b1-1293d1fc694e",
   "metadata": {},
   "outputs": [],
   "source": []
  },
  {
   "cell_type": "code",
   "execution_count": 1,
   "id": "ab6b5526-789c-476a-90d9-66e23861b17f",
   "metadata": {},
   "outputs": [],
   "source": [
    "######### 3rd library\n",
    "\n",
    "import neuropythy as ny\n",
    "import numpy as np\n",
    "import json\n",
    "import sys\n",
    "import nibabel as nb"
   ]
  },
  {
   "cell_type": "code",
   "execution_count": 9,
   "id": "421f4ba9-f1a8-441a-ba82-f65a361290c8",
   "metadata": {},
   "outputs": [],
   "source": [
    "# Inputs\n",
    "main_dir = \"/home/mchevillard/disks/meso_shared\"\n",
    "project_dir = \"amblyo_prf\"\n",
    "subject = \"sub-01\""
   ]
  },
  {
   "cell_type": "code",
   "execution_count": 10,
   "id": "b440b192-2123-47ce-be35-1250128bf4d7",
   "metadata": {},
   "outputs": [],
   "source": [
    "# Define analysis parameters\n",
    "with open('../../../settings.json') as f:\n",
    "    json_s = f.read()\n",
    "    analysis_info = json.loads(json_s)\n",
    "screen_size_cm = analysis_info['screen_size_cm']\n",
    "screen_distance_cm = analysis_info['screen_distance_cm']\n",
    "grid_nr = analysis_info['grid_nr']\n",
    "max_ecc_size = analysis_info['max_ecc_size']"
   ]
  },
  {
   "cell_type": "code",
   "execution_count": 11,
   "id": "f411476d-3f04-4d5a-aac4-808df0d8d708",
   "metadata": {},
   "outputs": [],
   "source": [
    "mesh = ny.load(\"{}/{}/derivatives/fmriprep/freesurfer/{}/surf/lh.inflated\".format(main_dir, project_dir, subject))"
   ]
  },
  {
   "cell_type": "code",
   "execution_count": 19,
   "id": "8f42551e-be85-42ea-a19e-dc156ed871db",
   "metadata": {},
   "outputs": [],
   "source": [
    "coords, faces, meta_data = nb.freesurfer.io.read_geometry(\"/home/mchevillard/disks/meso_shared/amblyo_prf/derivatives/fmriprep/freesurfer/sub-01/surf/lh.inflated\", read_metadata=True, read_stamp=False)"
   ]
  },
  {
   "cell_type": "code",
   "execution_count": 22,
   "id": "5b33b135-2460-42a0-ac86-12e837aece54",
   "metadata": {},
   "outputs": [],
   "source": [
    "#img = ny.make_image(coords, faces)\n",
    "#img = nb.Nifti1Image(coords, faces)"
   ]
  },
  {
   "cell_type": "code",
   "execution_count": 26,
   "id": "18da021a-e9af-4cbb-af25-352a656b066b",
   "metadata": {},
   "outputs": [
    {
     "name": "stdout",
     "output_type": "stream",
     "text": [
      "[ 0.          0.48717949  0.97435897  1.46153846  1.94871795  2.43589744\n",
      "  2.92307692  3.41025641  3.8974359   4.38461538  4.87179487  5.35897436\n",
      "  5.84615385  6.33333333  6.82051282  7.30769231  7.79487179  8.28205128\n",
      "  8.76923077  9.25641026  9.74358974 10.23076923 10.71794872 11.20512821\n",
      " 11.69230769 12.17948718 12.66666667 13.15384615 13.64102564 14.12820513\n",
      " 14.61538462 15.1025641  15.58974359 16.07692308 16.56410256 17.05128205\n",
      " 17.53846154 18.02564103 18.51282051 19.        ]\n"
     ]
    }
   ],
   "source": [
    "# Create array of eccentricity dependent of the grid\n",
    "ecc = np.linspace(0, max_ecc_size, grid_nr, endpoint=True)\n",
    "print(ecc)"
   ]
  },
  {
   "cell_type": "code",
   "execution_count": 28,
   "id": "fcfbb2d2-5a55-43a8-833e-563605de4935",
   "metadata": {},
   "outputs": [
    {
     "name": "stdout",
     "output_type": "stream",
     "text": [
      "[ 0.          0.67677988  1.35355976  2.03033964  2.70711952  3.3838994\n",
      "  4.06067929  4.73745917  5.41423905  6.09101893  6.76779881  7.44457869\n",
      "  8.12135857  8.79813845  9.47491833 10.15169821 10.8284781  11.50525798\n",
      " 12.18203786 12.85881774 13.53559762 14.2123775  14.88915738 15.56593726\n",
      " 16.24271714 16.91949702 17.59627691 18.27305679 18.94983667 19.62661655\n",
      " 20.30339643 20.98017631 21.65695619 22.33373607 23.01051595 23.68729583\n",
      " 24.36407571 25.0408556  25.71763548 26.39441536]\n"
     ]
    }
   ],
   "source": [
    "# Convert eccentricity range from degrees to cm\n",
    "ecc_cm = ecc / 57.3 * screen_distance_cm\n",
    "print(ecc_cm)"
   ]
  },
  {
   "cell_type": "code",
   "execution_count": 29,
   "id": "847699ac-c5c5-4b83-a612-a8558b1403ef",
   "metadata": {},
   "outputs": [
    {
     "ename": "TypeError",
     "evalue": "'numpy.float64' object is not iterable",
     "output_type": "error",
     "traceback": [
      "\u001b[0;31m---------------------------------------------------------------------------\u001b[0m",
      "\u001b[0;31mTypeError\u001b[0m                                 Traceback (most recent call last)",
      "Input \u001b[0;32mIn [29]\u001b[0m, in \u001b[0;36m<cell line: 2>\u001b[0;34m()\u001b[0m\n\u001b[1;32m      1\u001b[0m \u001b[38;5;66;03m# Calculate cortical magnification factor using the neuropythy library\u001b[39;00m\n\u001b[0;32m----> 2\u001b[0m cmf \u001b[38;5;241m=\u001b[39m \u001b[43mny\u001b[49m\u001b[38;5;241;43m.\u001b[39;49m\u001b[43mneighborhood_cortical_magnification\u001b[49m\u001b[43m(\u001b[49m\u001b[43mmesh\u001b[49m\u001b[43m,\u001b[49m\u001b[43m \u001b[49m\u001b[43mecc_cm\u001b[49m\u001b[43m)\u001b[49m\n\u001b[1;32m      3\u001b[0m \u001b[38;5;28mprint\u001b[39m(cmf)\n",
      "File \u001b[0;32m~/softwares/anaconda/envs/mchevillard/lib/python3.9/site-packages/neuropythy/vision/cmag.py:1086\u001b[0m, in \u001b[0;36mneighborhood_cortical_magnification\u001b[0;34m(mesh, coordinates)\u001b[0m\n\u001b[1;32m   1078\u001b[0m \u001b[38;5;28;01mdef\u001b[39;00m \u001b[38;5;21mneighborhood_cortical_magnification\u001b[39m(mesh, coordinates):\n\u001b[1;32m   1079\u001b[0m     \u001b[38;5;124;03m'''\u001b[39;00m\n\u001b[1;32m   1080\u001b[0m \u001b[38;5;124;03m    neighborhood_cortical_magnification(mesh, visual_coordinates) yields a list of neighborhood-\u001b[39;00m\n\u001b[1;32m   1081\u001b[0m \u001b[38;5;124;03m    based cortical magnification values for the vertices in the given mesh if their visual field\u001b[39;00m\n\u001b[0;32m   (...)\u001b[0m\n\u001b[1;32m   1084\u001b[0m \u001b[38;5;124;03m    magnification value is numpy.nan.\u001b[39;00m\n\u001b[1;32m   1085\u001b[0m \u001b[38;5;124;03m    '''\u001b[39;00m\n\u001b[0;32m-> 1086\u001b[0m     idcs \u001b[38;5;241m=\u001b[39m \u001b[43m_cmag_coord_idcs\u001b[49m\u001b[43m(\u001b[49m\u001b[43mcoordinates\u001b[49m\u001b[43m)\u001b[49m\n\u001b[1;32m   1087\u001b[0m     neis \u001b[38;5;241m=\u001b[39m mesh\u001b[38;5;241m.\u001b[39mtess\u001b[38;5;241m.\u001b[39mindexed_neighborhoods\n\u001b[1;32m   1088\u001b[0m     coords_vis \u001b[38;5;241m=\u001b[39m np\u001b[38;5;241m.\u001b[39masarray(coordinates \u001b[38;5;28;01mif\u001b[39;00m \u001b[38;5;28mlen\u001b[39m(coordinates) \u001b[38;5;241m==\u001b[39m \u001b[38;5;241m2\u001b[39m \u001b[38;5;28;01melse\u001b[39;00m coordinates\u001b[38;5;241m.\u001b[39mT)\n",
      "File \u001b[0;32m~/softwares/anaconda/envs/mchevillard/lib/python3.9/site-packages/neuropythy/vision/cmag.py:968\u001b[0m, in \u001b[0;36m_cmag_coord_idcs\u001b[0;34m(coordinates)\u001b[0m\n\u001b[1;32m    967\u001b[0m \u001b[38;5;28;01mdef\u001b[39;00m \u001b[38;5;21m_cmag_coord_idcs\u001b[39m(coordinates):\n\u001b[0;32m--> 968\u001b[0m     \u001b[38;5;28;01mreturn\u001b[39;00m [i \u001b[38;5;28;01mfor\u001b[39;00m (i,(x,y)) \u001b[38;5;129;01min\u001b[39;00m \u001b[38;5;28menumerate\u001b[39m(\u001b[38;5;28;43mzip\u001b[39;49m\u001b[43m(\u001b[49m\u001b[38;5;241;43m*\u001b[39;49m\u001b[43mcoordinates\u001b[49m\u001b[43m)\u001b[49m)\n\u001b[1;32m    969\u001b[0m             \u001b[38;5;28;01mif\u001b[39;00m (np\u001b[38;5;241m.\u001b[39missubdtype(\u001b[38;5;28mtype\u001b[39m(x), np\u001b[38;5;241m.\u001b[39mfloating) \u001b[38;5;129;01mor\u001b[39;00m np\u001b[38;5;241m.\u001b[39missubdtype(\u001b[38;5;28mtype\u001b[39m(x), np\u001b[38;5;241m.\u001b[39minteger))\n\u001b[1;32m    970\u001b[0m             \u001b[38;5;28;01mif\u001b[39;00m (np\u001b[38;5;241m.\u001b[39missubdtype(\u001b[38;5;28mtype\u001b[39m(y), np\u001b[38;5;241m.\u001b[39mfloating) \u001b[38;5;129;01mor\u001b[39;00m np\u001b[38;5;241m.\u001b[39missubdtype(\u001b[38;5;28mtype\u001b[39m(y), np\u001b[38;5;241m.\u001b[39minteger))\n\u001b[1;32m    971\u001b[0m             \u001b[38;5;28;01mif\u001b[39;00m \u001b[38;5;129;01mnot\u001b[39;00m np\u001b[38;5;241m.\u001b[39misnan(x) \u001b[38;5;129;01mand\u001b[39;00m \u001b[38;5;129;01mnot\u001b[39;00m np\u001b[38;5;241m.\u001b[39misnan(y)]\n",
      "\u001b[0;31mTypeError\u001b[0m: 'numpy.float64' object is not iterable"
     ]
    }
   ],
   "source": [
    "# Calculate cortical magnification factor using the neuropythy library\n",
    "cmf = ny.neighborhood_cortical_magnification(mesh, ecc_cm)\n",
    "print(cmf)"
   ]
  },
  {
   "cell_type": "code",
   "execution_count": null,
   "id": "56eee805-ddd2-4333-8b86-2b91c43e5768",
   "metadata": {},
   "outputs": [],
   "source": []
  }
 ],
 "metadata": {
  "kernelspec": {
   "display_name": "mchevillard",
   "language": "python",
   "name": "mchevillard"
  },
  "language_info": {
   "codemirror_mode": {
    "name": "ipython",
    "version": 3
   },
   "file_extension": ".py",
   "mimetype": "text/x-python",
   "name": "python",
   "nbconvert_exporter": "python",
   "pygments_lexer": "ipython3",
   "version": "3.9.16"
  }
 },
 "nbformat": 4,
 "nbformat_minor": 5
}
