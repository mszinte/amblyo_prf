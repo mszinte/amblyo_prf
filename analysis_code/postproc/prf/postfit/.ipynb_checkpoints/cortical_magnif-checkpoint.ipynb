{
 "cells": [
  {
   "cell_type": "code",
   "execution_count": 3,
   "id": "a64d445e-a0d7-4aac-8bc6-48f4eeed7d59",
   "metadata": {},
   "outputs": [
    {
     "name": "stdout",
     "output_type": "stream",
     "text": [
      "/home/mchevillard/disks/meso_H/projects/stereo_prf/analysis_code/postproc/prf/postfit\n"
     ]
    }
   ],
   "source": [
    "cd ~/disks/meso_H/projects/stereo_prf/analysis_code/postproc/prf/postfit/"
   ]
  },
  {
   "cell_type": "code",
   "execution_count": null,
   "id": "95811814-d4e9-4cd8-b2b1-1293d1fc694e",
   "metadata": {},
   "outputs": [],
   "source": []
  },
  {
   "cell_type": "code",
   "execution_count": 1,
   "id": "ab6b5526-789c-476a-90d9-66e23861b17f",
   "metadata": {},
   "outputs": [],
   "source": [
    "######### 3rd library\n",
    "\n",
    "import neuropythy as ny\n",
    "import numpy as np\n",
    "import json\n",
    "import sys\n",
    "import nibabel as nb"
   ]
  },
  {
   "cell_type": "code",
   "execution_count": 6,
   "id": "421f4ba9-f1a8-441a-ba82-f65a361290c8",
   "metadata": {},
   "outputs": [],
   "source": [
    "# Inputs\n",
    "main_dir = \"/home/mchevillard/disks/meso_shared\"\n",
    "project_dir = \"amblyo_prf\"\n",
    "subject = \"sub-01\""
   ]
  },
  {
   "cell_type": "code",
   "execution_count": 7,
   "id": "b440b192-2123-47ce-be35-1250128bf4d7",
   "metadata": {},
   "outputs": [],
   "source": [
    "# Define analysis parameters\n",
    "with open('../../../settings.json') as f:\n",
    "    json_s = f.read()\n",
    "    analysis_info = json.loads(json_s)\n",
    "screen_size_cm = analysis_info['screen_size_cm']\n",
    "screen_distance_cm = analysis_info['screen_distance_cm']\n",
    "grid_nr = analysis_info['grid_nr']\n",
    "max_ecc_size = analysis_info['max_ecc_size']"
   ]
  },
  {
   "cell_type": "code",
   "execution_count": 8,
   "id": "f411476d-3f04-4d5a-aac4-808df0d8d708",
   "metadata": {},
   "outputs": [
    {
     "ename": "ValueError",
     "evalue": "Could not interpret source path: /scratch/mszinte/data/amblyo_prf/derivatives/fmriprep/freesurfer/sub-01/surf/lh.inflated",
     "output_type": "error",
     "traceback": [
      "\u001b[0;31m---------------------------------------------------------------------------\u001b[0m",
      "\u001b[0;31mValueError\u001b[0m                                Traceback (most recent call last)",
      "Input \u001b[0;32mIn [8]\u001b[0m, in \u001b[0;36m<cell line: 1>\u001b[0;34m()\u001b[0m\n\u001b[0;32m----> 1\u001b[0m mesh \u001b[38;5;241m=\u001b[39m \u001b[43mny\u001b[49m\u001b[38;5;241;43m.\u001b[39;49m\u001b[43mload\u001b[49m\u001b[43m(\u001b[49m\u001b[38;5;124;43m\"\u001b[39;49m\u001b[38;5;132;43;01m{}\u001b[39;49;00m\u001b[38;5;124;43m/\u001b[39;49m\u001b[38;5;132;43;01m{}\u001b[39;49;00m\u001b[38;5;124;43m/derivatives/fmriprep/freesurfer/\u001b[39;49m\u001b[38;5;132;43;01m{}\u001b[39;49;00m\u001b[38;5;124;43m/surf/lh.inflated\u001b[39;49m\u001b[38;5;124;43m\"\u001b[39;49m\u001b[38;5;241;43m.\u001b[39;49m\u001b[43mformat\u001b[49m\u001b[43m(\u001b[49m\u001b[43mmain_dir\u001b[49m\u001b[43m,\u001b[49m\u001b[43m \u001b[49m\u001b[43mproject_dir\u001b[49m\u001b[43m,\u001b[49m\u001b[43m \u001b[49m\u001b[43msubject\u001b[49m\u001b[43m)\u001b[49m\u001b[43m)\u001b[49m\n",
      "File \u001b[0;32m~/softwares/anaconda/envs/mchevillard/lib/python3.9/site-packages/neuropythy/io/core.py:66\u001b[0m, in \u001b[0;36mload\u001b[0;34m(filename, format, **kwargs)\u001b[0m\n\u001b[1;32m     64\u001b[0m \u001b[38;5;28;01mfrom\u001b[39;00m \u001b[38;5;21;01mneuropythy\u001b[39;00m\u001b[38;5;21;01m.\u001b[39;00m\u001b[38;5;21;01mutil\u001b[39;00m \u001b[38;5;28;01mimport\u001b[39;00m (ObjectWithMetaData, to_pseudo_path)\n\u001b[1;32m     65\u001b[0m \u001b[38;5;66;03m# use the pseudo-path interface for the filename:\u001b[39;00m\n\u001b[0;32m---> 66\u001b[0m pdir \u001b[38;5;241m=\u001b[39m \u001b[43mto_pseudo_path\u001b[49m\u001b[43m(\u001b[49m\u001b[43mfilename\u001b[49m\u001b[43m)\u001b[49m\n\u001b[1;32m     67\u001b[0m filename \u001b[38;5;241m=\u001b[39m pdir\u001b[38;5;241m.\u001b[39mlocal_path()\n\u001b[1;32m     68\u001b[0m obj \u001b[38;5;241m=\u001b[39m \u001b[38;5;28;01mNone\u001b[39;00m\n",
      "File \u001b[0;32m~/softwares/anaconda/envs/mchevillard/lib/python3.9/site-packages/neuropythy/util/filemap.py:672\u001b[0m, in \u001b[0;36mto_pseudo_path\u001b[0;34m(obj)\u001b[0m\n\u001b[1;32m    667\u001b[0m \u001b[38;5;124;03m'''\u001b[39;00m\n\u001b[1;32m    668\u001b[0m \u001b[38;5;124;03mto_pseudo_path(obj) yields a pseudo-path object that has been coerced from the given obj or\u001b[39;00m\n\u001b[1;32m    669\u001b[0m \u001b[38;5;124;03m  raises an exception. If the obj is a pseudo-path already, it is returned unchanged.\u001b[39;00m\n\u001b[1;32m    670\u001b[0m \u001b[38;5;124;03m'''\u001b[39;00m\n\u001b[1;32m    671\u001b[0m \u001b[38;5;28;01mif\u001b[39;00m   is_pseudo_path(obj):   \u001b[38;5;28;01mreturn\u001b[39;00m obj\n\u001b[0;32m--> 672\u001b[0m \u001b[38;5;28;01melif\u001b[39;00m pimms\u001b[38;5;241m.\u001b[39mis_str(obj):    \u001b[38;5;28;01mreturn\u001b[39;00m \u001b[43mpseudo_path\u001b[49m\u001b[43m(\u001b[49m\u001b[43mobj\u001b[49m\u001b[43m)\u001b[49m\n\u001b[1;32m    673\u001b[0m \u001b[38;5;28;01melif\u001b[39;00m pimms\u001b[38;5;241m.\u001b[39mis_vector(obj):\n\u001b[1;32m    674\u001b[0m     \u001b[38;5;28;01mif\u001b[39;00m \u001b[38;5;28mlen\u001b[39m(obj) \u001b[38;5;241m>\u001b[39m \u001b[38;5;241m0\u001b[39m \u001b[38;5;129;01mand\u001b[39;00m pimms\u001b[38;5;241m.\u001b[39mis_map(obj[\u001b[38;5;241m-\u001b[39m\u001b[38;5;241m1\u001b[39m]): (obj,kw) \u001b[38;5;241m=\u001b[39m (obj[:\u001b[38;5;241m-\u001b[39m\u001b[38;5;241m1\u001b[39m],obj[\u001b[38;5;241m-\u001b[39m\u001b[38;5;241m1\u001b[39m])\n",
      "File \u001b[0;32m~/softwares/anaconda/envs/mchevillard/lib/python3.9/site-packages/neuropythy/util/filemap.py:664\u001b[0m, in \u001b[0;36mpseudo_path\u001b[0;34m(source_path, cache_path, delete, credentials, meta_data)\u001b[0m\n\u001b[1;32m    635\u001b[0m \u001b[38;5;28;01mdef\u001b[39;00m \u001b[38;5;21mpseudo_path\u001b[39m(source_path, cache_path\u001b[38;5;241m=\u001b[39m\u001b[38;5;28;01mNone\u001b[39;00m, delete\u001b[38;5;241m=\u001b[39m\u001b[38;5;28mEllipsis\u001b[39m, credentials\u001b[38;5;241m=\u001b[39m\u001b[38;5;28;01mNone\u001b[39;00m, meta_data\u001b[38;5;241m=\u001b[39m\u001b[38;5;28;01mNone\u001b[39;00m):\n\u001b[1;32m    636\u001b[0m     \u001b[38;5;124;03m'''\u001b[39;00m\n\u001b[1;32m    637\u001b[0m \u001b[38;5;124;03m    pseudo_path(source_path) yields a pseudo-pathectory object that represents files in the given\u001b[39;00m\n\u001b[1;32m    638\u001b[0m \u001b[38;5;124;03m      source path.\u001b[39;00m\n\u001b[0;32m   (...)\u001b[0m\n\u001b[1;32m    662\u001b[0m \u001b[38;5;124;03m      * meta_data (default: None) specifies an optional map of meta-data for the pseudo-path.\u001b[39;00m\n\u001b[1;32m    663\u001b[0m \u001b[38;5;124;03m    '''\u001b[39;00m\n\u001b[0;32m--> 664\u001b[0m     \u001b[38;5;28;01mreturn\u001b[39;00m \u001b[43mPseudoPath\u001b[49m\u001b[43m(\u001b[49m\u001b[43msource_path\u001b[49m\u001b[43m,\u001b[49m\u001b[43m \u001b[49m\u001b[43mcache_path\u001b[49m\u001b[38;5;241;43m=\u001b[39;49m\u001b[43mcache_path\u001b[49m\u001b[43m,\u001b[49m\u001b[43m \u001b[49m\u001b[43mdelete\u001b[49m\u001b[38;5;241;43m=\u001b[39;49m\u001b[43mdelete\u001b[49m\u001b[43m,\u001b[49m\u001b[43m \u001b[49m\u001b[43mcredentials\u001b[49m\u001b[38;5;241;43m=\u001b[39;49m\u001b[43mcredentials\u001b[49m\u001b[43m,\u001b[49m\n\u001b[1;32m    665\u001b[0m \u001b[43m                     \u001b[49m\u001b[43mmeta_data\u001b[49m\u001b[38;5;241;43m=\u001b[39;49m\u001b[43mmeta_data\u001b[49m\u001b[43m)\u001b[49m\n",
      "File \u001b[0;32m~/softwares/anaconda/envs/mchevillard/lib/python3.9/site-packages/pimms/immutable.py:730\u001b[0m, in \u001b[0;36mimmutable.<locals>._init_wrapper\u001b[0;34m(imm, *args, **kwargs)\u001b[0m\n\u001b[1;32m    727\u001b[0m initfn(imm, \u001b[38;5;241m*\u001b[39margs, \u001b[38;5;241m*\u001b[39m\u001b[38;5;241m*\u001b[39mkwargs)\n\u001b[1;32m    728\u001b[0m \u001b[38;5;66;03m# If we're still initializing after running the constructor, we need to switch to\u001b[39;00m\n\u001b[1;32m    729\u001b[0m \u001b[38;5;66;03m# transient\u001b[39;00m\n\u001b[0;32m--> 730\u001b[0m \u001b[38;5;28;01mif\u001b[39;00m \u001b[38;5;28mtype\u001b[39m(imm) \u001b[38;5;129;01mis\u001b[39;00m \u001b[38;5;28mcls\u001b[39m \u001b[38;5;129;01mand\u001b[39;00m _imm_is_init(imm): \u001b[43m_imm_init_to_trans\u001b[49m\u001b[43m(\u001b[49m\u001b[43mimm\u001b[49m\u001b[43m)\u001b[49m\n",
      "File \u001b[0;32m~/softwares/anaconda/envs/mchevillard/lib/python3.9/site-packages/pimms/immutable.py:309\u001b[0m, in \u001b[0;36m_imm_init_to_trans\u001b[0;34m(imm)\u001b[0m\n\u001b[1;32m    307\u001b[0m \u001b[38;5;28;01mdel\u001b[39;00m dd[\u001b[38;5;124m'\u001b[39m\u001b[38;5;124m_pimms_immutable_is_init\u001b[39m\u001b[38;5;124m'\u001b[39m]\n\u001b[1;32m    308\u001b[0m dd[\u001b[38;5;124m'\u001b[39m\u001b[38;5;124m_pimms_immutable_is_trans\u001b[39m\u001b[38;5;124m'\u001b[39m] \u001b[38;5;241m=\u001b[39m \u001b[38;5;28;01mTrue\u001b[39;00m\n\u001b[0;32m--> 309\u001b[0m \u001b[43m_imm_check\u001b[49m\u001b[43m(\u001b[49m\u001b[43mimm\u001b[49m\u001b[43m)\u001b[49m\n\u001b[1;32m    310\u001b[0m \u001b[38;5;66;03m# Those passed, so we can actually change the methods now\u001b[39;00m\n\u001b[1;32m    311\u001b[0m \u001b[38;5;28;01mreturn\u001b[39;00m imm\n",
      "File \u001b[0;32m~/softwares/anaconda/envs/mchevillard/lib/python3.9/site-packages/pimms/immutable.py:87\u001b[0m, in \u001b[0;36m_imm_check\u001b[0;34m(imm, names)\u001b[0m\n\u001b[1;32m     85\u001b[0m \u001b[38;5;66;03m# Run the checks; if anything fails, we let the exception rise\u001b[39;00m\n\u001b[1;32m     86\u001b[0m \u001b[38;5;28;01mfor\u001b[39;00m (arg_list, check_fn) \u001b[38;5;129;01min\u001b[39;00m all_checks:\n\u001b[0;32m---> 87\u001b[0m     \u001b[38;5;28;01mif\u001b[39;00m \u001b[38;5;129;01mnot\u001b[39;00m check_fn(\u001b[38;5;241m*\u001b[39m[\u001b[38;5;28mgetattr\u001b[39m(imm, arg) \u001b[38;5;28;01mfor\u001b[39;00m arg \u001b[38;5;129;01min\u001b[39;00m arg_list]):\n\u001b[1;32m     88\u001b[0m         \u001b[38;5;28;01mraise\u001b[39;00m \u001b[38;5;167;01mRuntimeError\u001b[39;00m(\u001b[38;5;124m'\u001b[39m\u001b[38;5;124mFailed parameter-check on values \u001b[39m\u001b[38;5;132;01m% o\u001b[39;00m\u001b[38;5;124mf func \u001b[39m\u001b[38;5;132;01m%s\u001b[39;00m\u001b[38;5;124m'\u001b[39m \u001b[38;5;241m%\u001b[39m (args, check_fn))\n\u001b[1;32m     89\u001b[0m \u001b[38;5;66;03m# All checks passed!\u001b[39;00m\n",
      "File \u001b[0;32m~/softwares/anaconda/envs/mchevillard/lib/python3.9/site-packages/pimms/immutable.py:87\u001b[0m, in \u001b[0;36m<listcomp>\u001b[0;34m(.0)\u001b[0m\n\u001b[1;32m     85\u001b[0m \u001b[38;5;66;03m# Run the checks; if anything fails, we let the exception rise\u001b[39;00m\n\u001b[1;32m     86\u001b[0m \u001b[38;5;28;01mfor\u001b[39;00m (arg_list, check_fn) \u001b[38;5;129;01min\u001b[39;00m all_checks:\n\u001b[0;32m---> 87\u001b[0m     \u001b[38;5;28;01mif\u001b[39;00m \u001b[38;5;129;01mnot\u001b[39;00m check_fn(\u001b[38;5;241m*\u001b[39m[\u001b[38;5;28;43mgetattr\u001b[39;49m\u001b[43m(\u001b[49m\u001b[43mimm\u001b[49m\u001b[43m,\u001b[49m\u001b[43m \u001b[49m\u001b[43marg\u001b[49m\u001b[43m)\u001b[49m \u001b[38;5;28;01mfor\u001b[39;00m arg \u001b[38;5;129;01min\u001b[39;00m arg_list]):\n\u001b[1;32m     88\u001b[0m         \u001b[38;5;28;01mraise\u001b[39;00m \u001b[38;5;167;01mRuntimeError\u001b[39;00m(\u001b[38;5;124m'\u001b[39m\u001b[38;5;124mFailed parameter-check on values \u001b[39m\u001b[38;5;132;01m% o\u001b[39;00m\u001b[38;5;124mf func \u001b[39m\u001b[38;5;132;01m%s\u001b[39;00m\u001b[38;5;124m'\u001b[39m \u001b[38;5;241m%\u001b[39m (args, check_fn))\n\u001b[1;32m     89\u001b[0m \u001b[38;5;66;03m# All checks passed!\u001b[39;00m\n",
      "File \u001b[0;32m~/softwares/anaconda/envs/mchevillard/lib/python3.9/site-packages/pimms/immutable.py:135\u001b[0m, in \u001b[0;36m_imm_getattribute\u001b[0;34m(self, name)\u001b[0m\n\u001b[1;32m    133\u001b[0m     \u001b[38;5;28;01mreturn\u001b[39;00m \u001b[38;5;28mobject\u001b[39m\u001b[38;5;241m.\u001b[39m\u001b[38;5;21m__getattribute__\u001b[39m(\u001b[38;5;28mself\u001b[39m, name)\n\u001b[1;32m    134\u001b[0m (args, memfn, _) \u001b[38;5;241m=\u001b[39m values[name]\n\u001b[0;32m--> 135\u001b[0m value \u001b[38;5;241m=\u001b[39m \u001b[43mmemfn\u001b[49m\u001b[43m(\u001b[49m\u001b[38;5;241;43m*\u001b[39;49m\u001b[43m[\u001b[49m\u001b[38;5;28;43mgetattr\u001b[39;49m\u001b[43m(\u001b[49m\u001b[38;5;28;43mself\u001b[39;49m\u001b[43m,\u001b[49m\u001b[43m \u001b[49m\u001b[43marg\u001b[49m\u001b[43m)\u001b[49m\u001b[43m \u001b[49m\u001b[38;5;28;43;01mfor\u001b[39;49;00m\u001b[43m \u001b[49m\u001b[43marg\u001b[49m\u001b[43m \u001b[49m\u001b[38;5;129;43;01min\u001b[39;49;00m\u001b[43m \u001b[49m\u001b[43margs\u001b[49m\u001b[43m]\u001b[49m\u001b[43m)\u001b[49m\n\u001b[1;32m    136\u001b[0m dd[name] \u001b[38;5;241m=\u001b[39m value\n\u001b[1;32m    137\u001b[0m \u001b[38;5;66;03m# if this is a const, it may have checks to run\u001b[39;00m\n",
      "File \u001b[0;32m~/softwares/anaconda/envs/mchevillard/lib/python3.9/site-packages/neuropythy/util/filemap.py:539\u001b[0m, in \u001b[0;36mPseudoPath._path_data\u001b[0;34m(source_path, cache_path, delete, credentials)\u001b[0m\n\u001b[1;32m    537\u001b[0m     base_path \u001b[38;5;241m=\u001b[39m \u001b[38;5;124m'\u001b[39m\u001b[38;5;124m'\u001b[39m\n\u001b[1;32m    538\u001b[0m     \u001b[38;5;66;03m# ok, don't know what it is...\u001b[39;00m\n\u001b[0;32m--> 539\u001b[0m \u001b[38;5;28;01melse\u001b[39;00m: \u001b[38;5;28;01mraise\u001b[39;00m \u001b[38;5;167;01mValueError\u001b[39;00m(\u001b[38;5;124m'\u001b[39m\u001b[38;5;124mCould not interpret source path: \u001b[39m\u001b[38;5;132;01m%s\u001b[39;00m\u001b[38;5;124m'\u001b[39m \u001b[38;5;241m%\u001b[39m source_path)\n\u001b[1;32m    540\u001b[0m tmp \u001b[38;5;241m=\u001b[39m {\u001b[38;5;124m'\u001b[39m\u001b[38;5;124mrepr\u001b[39m\u001b[38;5;124m'\u001b[39m:rpr, \u001b[38;5;124m'\u001b[39m\u001b[38;5;124mpathmod\u001b[39m\u001b[38;5;124m'\u001b[39m:pathmod}\n\u001b[1;32m    541\u001b[0m \u001b[38;5;28;01mif\u001b[39;00m \u001b[38;5;129;01mnot\u001b[39;00m cp\u001b[38;5;241m.\u001b[39mis_lazy(\u001b[38;5;124m'\u001b[39m\u001b[38;5;124mcp\u001b[39m\u001b[38;5;124m'\u001b[39m):\n",
      "\u001b[0;31mValueError\u001b[0m: Could not interpret source path: /scratch/mszinte/data/amblyo_prf/derivatives/fmriprep/freesurfer/sub-01/surf/lh.inflated"
     ]
    }
   ],
   "source": [
    "mesh = ny.load(\"{}/{}/derivatives/fmriprep/freesurfer/{}/surf/lh.inflated\".format(main_dir, project_dir, subject))"
   ]
  },
  {
   "cell_type": "code",
   "execution_count": null,
   "id": "8f42551e-be85-42ea-a19e-dc156ed871db",
   "metadata": {},
   "outputs": [],
   "source": []
  }
 ],
 "metadata": {
  "kernelspec": {
   "display_name": "mchevillard",
   "language": "python",
   "name": "mchevillard"
  },
  "language_info": {
   "codemirror_mode": {
    "name": "ipython",
    "version": 3
   },
   "file_extension": ".py",
   "mimetype": "text/x-python",
   "name": "python",
   "nbconvert_exporter": "python",
   "pygments_lexer": "ipython3",
   "version": "3.9.16"
  }
 },
 "nbformat": 4,
 "nbformat_minor": 5
}
