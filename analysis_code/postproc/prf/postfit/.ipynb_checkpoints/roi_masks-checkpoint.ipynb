{
 "cells": [
  {
   "cell_type": "markdown",
   "id": "7ff66705",
   "metadata": {},
   "source": [
    "### Analysis description\n",
    "Create nifti mask files from ROIs drawing based on Fullscreen retinotopy"
   ]
  },
  {
   "cell_type": "code",
   "execution_count": 41,
   "id": "1ff984f5",
   "metadata": {
    "tags": []
   },
   "outputs": [],
   "source": [
    "# Imports\n",
    "import os\n",
    "import nibabel as nb\n",
    "import ipdb\n",
    "import warnings\n",
    "import cortex\n",
    "from pathlib import Path\n",
    "warnings.filterwarnings('ignore')\n",
    "\n",
    "# Define parameters\n",
    "n_subjects=18 + 1\n",
    "rois = ['V1','V2','V3','V3AB','LO','VO','hMT+','iIPS','sIPS']\n",
    "num = []\n",
    "for t in range(1, n_subjects):\n",
    "    num.append(str(t).zfill(2))\n",
    "subjects = ['sub-{n}'.format(n=n) for n in num]\n",
    "\n",
    "# Define folders\n",
    "main_dir = '/home/mchevillard/disks/meso_shared/amblyo_prf'\n",
    "pp_dir = \"{}/derivatives/pp_data\".format(main_dir)\n",
    "pycortex_dir = \"{}/cortex\".format(pp_dir)\n",
    "cortical_mask = 'cortical'\n",
    "xfm_name = 'identity.fmriprep'"
   ]
  },
  {
   "cell_type": "code",
   "execution_count": 42,
   "id": "cf8086e4",
   "metadata": {
    "tags": []
   },
   "outputs": [],
   "source": [
    "# Write pycortex config file\n",
    "pycortex_db = \"{}/db/\".format(pycortex_dir)\n",
    "pycortex_cm = \"{}/colormaps/\".format(pycortex_dir)\n",
    "pycortex_config_file  = cortex.options.usercfg\n",
    "pycortex_config_file_new = pycortex_config_file[:-4] + '_new.cfg'\n",
    "pycortex_config_file_old = pycortex_config_file[:-4] + '_old.cfg'\n",
    "\n",
    "Path(pycortex_config_file_new).touch()\n",
    "with open(pycortex_config_file, 'r') as fileIn:\n",
    "    with open(pycortex_config_file_new, 'w') as fileOut:\n",
    "        for line in fileIn:\n",
    "            if 'filestore' in line:\n",
    "                newline = 'filestore=' + pycortex_db\n",
    "                fileOut.write(newline)\n",
    "                newline = '\\n'\n",
    "            elif 'colormaps' in line:\n",
    "                newline = 'colormaps=' + pycortex_cm\n",
    "                fileOut.write(newline)\n",
    "                newline = '\\n'\n",
    "            else:\n",
    "                newline = line\n",
    "            fileOut.write(newline)\n",
    "os.rename(pycortex_config_file,pycortex_config_file_old)\n",
    "os.rename(pycortex_config_file_new, pycortex_config_file)"
   ]
  },
  {
   "cell_type": "code",
   "execution_count": 40,
   "id": "39e509f5",
   "metadata": {
    "tags": []
   },
   "outputs": [
    {
     "name": "stdout",
     "output_type": "stream",
     "text": [
      "sub-01\n",
      "/home/mchevillard/disks/meso_shared/amblyo_prf/derivatives/pp_data/cortex/db/sub-01/transforms/identity.fmriprep/reference.nii.gz\n",
      "V1 cortical masks: already exist\n",
      "V3 cortical masks: already exist\n",
      "V3AB cortical masks: already exist\n",
      "LO cortical masks: already exist\n",
      "VO cortical masks: already exist\n",
      "hMT+ cortical masks: already exist\n",
      "iIPS cortical masks: already exist\n",
      "sIPS cortical masks: already exist\n",
      "sub-02\n",
      "sub-03\n",
      "/home/mchevillard/disks/meso_shared/amblyo_prf/derivatives/pp_data/cortex/db/sub-03/transforms/identity.fmriprep/reference.nii.gz\n",
      "creating V1 cortical mask\n",
      "Cutting 0 overlapping voxels (should be < ~50)\n",
      "creating V3 cortical mask\n",
      "Cutting 0 overlapping voxels (should be < ~50)\n",
      "creating V3AB cortical mask\n",
      "Cutting 0 overlapping voxels (should be < ~50)\n",
      "creating LO cortical mask\n",
      "Cutting 0 overlapping voxels (should be < ~50)\n",
      "creating VO cortical mask\n",
      "Cutting 0 overlapping voxels (should be < ~50)\n",
      "creating hMT+ cortical mask\n",
      "Cutting 0 overlapping voxels (should be < ~50)\n",
      "creating iIPS cortical mask\n",
      "Cutting 0 overlapping voxels (should be < ~50)\n",
      "creating sIPS cortical mask\n",
      "Cutting 0 overlapping voxels (should be < ~50)\n",
      "sub-04\n",
      "/home/mchevillard/disks/meso_shared/amblyo_prf/derivatives/pp_data/cortex/db/sub-04/transforms/identity.fmriprep/reference.nii.gz\n",
      "creating V1 cortical mask\n",
      "Cutting 0 overlapping voxels (should be < ~50)\n",
      "creating V3 cortical mask\n"
     ]
    },
    {
     "ename": "ValueError",
     "evalue": "could not convert string to float: ''",
     "output_type": "error",
     "traceback": [
      "\u001b[0;31m---------------------------------------------------------------------------\u001b[0m",
      "\u001b[0;31mValueError\u001b[0m                                Traceback (most recent call last)",
      "Input \u001b[0;32mIn [40]\u001b[0m, in \u001b[0;36m<cell line: 1>\u001b[0;34m()\u001b[0m\n\u001b[1;32m     23\u001b[0m \u001b[38;5;28;01mif\u001b[39;00m os\u001b[38;5;241m.\u001b[39mpath\u001b[38;5;241m.\u001b[39misfile(roi_mask_file_L) \u001b[38;5;241m==\u001b[39m \u001b[38;5;241m0\u001b[39m:\n\u001b[1;32m     24\u001b[0m     \u001b[38;5;28mprint\u001b[39m(\u001b[38;5;124m'\u001b[39m\u001b[38;5;124mcreating \u001b[39m\u001b[38;5;132;01m{}\u001b[39;00m\u001b[38;5;124m \u001b[39m\u001b[38;5;132;01m{}\u001b[39;00m\u001b[38;5;124m mask\u001b[39m\u001b[38;5;124m'\u001b[39m\u001b[38;5;241m.\u001b[39mformat(roi, cortical_mask))\n\u001b[0;32m---> 25\u001b[0m     roi_mask \u001b[38;5;241m=\u001b[39m \u001b[43mcortex\u001b[49m\u001b[38;5;241;43m.\u001b[39;49m\u001b[43mutils\u001b[49m\u001b[38;5;241;43m.\u001b[39;49m\u001b[43mget_roi_masks\u001b[49m\u001b[43m(\u001b[49m\u001b[43msubject\u001b[49m\u001b[38;5;241;43m=\u001b[39;49m\u001b[43msubject\u001b[49m\u001b[43m,\u001b[49m\u001b[43m \u001b[49m\u001b[43mxfmname\u001b[49m\u001b[38;5;241;43m=\u001b[39;49m\u001b[43mxfm_name\u001b[49m\u001b[43m,\u001b[49m\u001b[43m \u001b[49m\u001b[43mgm_sampler\u001b[49m\u001b[38;5;241;43m=\u001b[39;49m\u001b[43mcortical_mask\u001b[49m\u001b[43m,\u001b[49m\u001b[43m \u001b[49m\u001b[43mroi_list\u001b[49m\u001b[38;5;241;43m=\u001b[39;49m\u001b[43mroi\u001b[49m\u001b[43m,\u001b[49m\u001b[43m \u001b[49m\u001b[43mreturn_dict\u001b[49m\u001b[38;5;241;43m=\u001b[39;49m\u001b[38;5;28;43;01mTrue\u001b[39;49;00m\u001b[43m,\u001b[49m\u001b[43m \u001b[49m\u001b[43msplit_lr\u001b[49m\u001b[38;5;241;43m=\u001b[39;49m\u001b[38;5;28;43;01mTrue\u001b[39;49;00m\u001b[43m)\u001b[49m\n\u001b[1;32m     26\u001b[0m     \u001b[38;5;28;01mfor\u001b[39;00m hemi \u001b[38;5;129;01min\u001b[39;00m [\u001b[38;5;124m'\u001b[39m\u001b[38;5;124mL\u001b[39m\u001b[38;5;124m'\u001b[39m,\u001b[38;5;124m'\u001b[39m\u001b[38;5;124mR\u001b[39m\u001b[38;5;124m'\u001b[39m]:\n\u001b[1;32m     27\u001b[0m         roi_mask_file \u001b[38;5;241m=\u001b[39m \u001b[38;5;124m\"\u001b[39m\u001b[38;5;132;01m{}\u001b[39;00m\u001b[38;5;124m/\u001b[39m\u001b[38;5;132;01m{}\u001b[39;00m\u001b[38;5;124m_\u001b[39m\u001b[38;5;132;01m{}\u001b[39;00m\u001b[38;5;124m_\u001b[39m\u001b[38;5;132;01m{}\u001b[39;00m\u001b[38;5;124m.nii.gz\u001b[39m\u001b[38;5;124m\"\u001b[39m\u001b[38;5;241m.\u001b[39mformat(mask_dir, roi, cortical_mask, hemi)\n",
      "File \u001b[0;32m~/softwares/anaconda/envs/mchevillard/lib/python3.9/site-packages/cortex/utils.py:588\u001b[0m, in \u001b[0;36mget_roi_masks\u001b[0;34m(subject, xfmname, roi_list, gm_sampler, split_lr, allow_overlap, fail_for_missing_rois, exclude_empty_rois, threshold, return_dict, overlay_file)\u001b[0m\n\u001b[1;32m    586\u001b[0m tmp_list \u001b[38;5;241m=\u001b[39m [r \u001b[38;5;28;01mfor\u001b[39;00m r \u001b[38;5;129;01min\u001b[39;00m roi_list \u001b[38;5;28;01mif\u001b[39;00m \u001b[38;5;129;01mnot\u001b[39;00m r\u001b[38;5;241m==\u001b[39m\u001b[38;5;124m'\u001b[39m\u001b[38;5;124mCortex\u001b[39m\u001b[38;5;124m'\u001b[39m]\n\u001b[1;32m    587\u001b[0m \u001b[38;5;28;01mtry\u001b[39;00m:\n\u001b[0;32m--> 588\u001b[0m     roi_verts \u001b[38;5;241m=\u001b[39m \u001b[43mget_roi_verts\u001b[49m\u001b[43m(\u001b[49m\u001b[43msubject\u001b[49m\u001b[43m,\u001b[49m\u001b[43m \u001b[49m\u001b[43mroi\u001b[49m\u001b[38;5;241;43m=\u001b[39;49m\u001b[43mtmp_list\u001b[49m\u001b[43m,\u001b[49m\u001b[43m \u001b[49m\u001b[43mmask\u001b[49m\u001b[38;5;241;43m=\u001b[39;49m\u001b[43muse_mapper\u001b[49m\u001b[43m,\u001b[49m\u001b[43m \u001b[49m\u001b[43moverlay_file\u001b[49m\u001b[38;5;241;43m=\u001b[39;49m\u001b[43moverlay_file\u001b[49m\u001b[43m)\u001b[49m\n\u001b[1;32m    589\u001b[0m \u001b[38;5;28;01mexcept\u001b[39;00m \u001b[38;5;167;01mKeyError\u001b[39;00m \u001b[38;5;28;01mas\u001b[39;00m key:\n\u001b[1;32m    590\u001b[0m     \u001b[38;5;28;01mif\u001b[39;00m fail_for_missing_rois:\n",
      "File \u001b[0;32m~/softwares/anaconda/envs/mchevillard/lib/python3.9/site-packages/cortex/utils.py:331\u001b[0m, in \u001b[0;36mget_roi_verts\u001b[0;34m(subject, roi, mask, overlay_file)\u001b[0m\n\u001b[1;32m    328\u001b[0m     roi \u001b[38;5;241m=\u001b[39m [roi]\n\u001b[1;32m    330\u001b[0m \u001b[38;5;28;01mfor\u001b[39;00m name \u001b[38;5;129;01min\u001b[39;00m roi:\n\u001b[0;32m--> 331\u001b[0m     roi_idx \u001b[38;5;241m=\u001b[39m np\u001b[38;5;241m.\u001b[39mintersect1d(\u001b[43msvg\u001b[49m\u001b[38;5;241;43m.\u001b[39;49m\u001b[43mrois\u001b[49m\u001b[38;5;241;43m.\u001b[39;49m\u001b[43mget_mask\u001b[49m\u001b[43m(\u001b[49m\u001b[43mname\u001b[49m\u001b[43m)\u001b[49m, goodpts)\n\u001b[1;32m    332\u001b[0m     \u001b[38;5;28;01mif\u001b[39;00m mask:\n\u001b[1;32m    333\u001b[0m         roidict[name] \u001b[38;5;241m=\u001b[39m np\u001b[38;5;241m.\u001b[39mzeros(pts\u001b[38;5;241m.\u001b[39mshape[:\u001b[38;5;241m1\u001b[39m]) \u001b[38;5;241m>\u001b[39m \u001b[38;5;241m1\u001b[39m\n",
      "File \u001b[0;32m~/softwares/anaconda/envs/mchevillard/lib/python3.9/site-packages/cortex/svgoverlay.py:356\u001b[0m, in \u001b[0;36mOverlay.get_mask\u001b[0;34m(self, name)\u001b[0m\n\u001b[1;32m    355\u001b[0m \u001b[38;5;28;01mdef\u001b[39;00m \u001b[38;5;21mget_mask\u001b[39m(\u001b[38;5;28mself\u001b[39m, name):\n\u001b[0;32m--> 356\u001b[0m     \u001b[38;5;28;01mreturn\u001b[39;00m \u001b[38;5;28;43mself\u001b[39;49m\u001b[38;5;241;43m.\u001b[39;49m\u001b[43mshapes\u001b[49m\u001b[43m[\u001b[49m\u001b[43mname\u001b[49m\u001b[43m]\u001b[49m\u001b[38;5;241;43m.\u001b[39;49m\u001b[43mget_mask\u001b[49m\u001b[43m(\u001b[49m\u001b[38;5;28;43mself\u001b[39;49m\u001b[38;5;241;43m.\u001b[39;49m\u001b[43msvgobject\u001b[49m\u001b[38;5;241;43m.\u001b[39;49m\u001b[43mcoords\u001b[49m\u001b[43m)\u001b[49m\n",
      "File \u001b[0;32m~/softwares/anaconda/envs/mchevillard/lib/python3.9/site-packages/cortex/svgoverlay.py:496\u001b[0m, in \u001b[0;36mShape.get_mask\u001b[0;34m(self, vts)\u001b[0m\n\u001b[1;32m    494\u001b[0m \u001b[38;5;28;01mdef\u001b[39;00m \u001b[38;5;21mget_mask\u001b[39m(\u001b[38;5;28mself\u001b[39m, vts):\n\u001b[1;32m    495\u001b[0m     \u001b[38;5;124;03m\"\"\"get list of vertices inside this roi\"\"\"\u001b[39;00m\n\u001b[0;32m--> 496\u001b[0m     \u001b[38;5;28;01mif\u001b[39;00m \u001b[38;5;28mlen\u001b[39m(\u001b[38;5;28;43mself\u001b[39;49m\u001b[38;5;241;43m.\u001b[39;49m\u001b[43msplines\u001b[49m)\u001b[38;5;241m==\u001b[39m\u001b[38;5;241m0\u001b[39m:\n\u001b[1;32m    497\u001b[0m         \u001b[38;5;66;03m# No splines defined for this (ROI). Wut.\u001b[39;00m\n\u001b[1;32m    498\u001b[0m         \u001b[38;5;28;01mimport\u001b[39;00m \u001b[38;5;21;01mwarnings\u001b[39;00m\n\u001b[1;32m    499\u001b[0m         warnings\u001b[38;5;241m.\u001b[39mwarn(\u001b[38;5;124m\"\u001b[39m\u001b[38;5;124mRequested layer in svg file (\u001b[39m\u001b[38;5;132;01m%s\u001b[39;00m\u001b[38;5;124m) contains no splines\u001b[39m\u001b[38;5;124m\"\u001b[39m\u001b[38;5;241m%\u001b[39m\u001b[38;5;28mself\u001b[39m\u001b[38;5;241m.\u001b[39mname)\n",
      "File \u001b[0;32m~/softwares/anaconda/envs/mchevillard/lib/python3.9/site-packages/cortex/svgoverlay.py:510\u001b[0m, in \u001b[0;36mShape.splines\u001b[0;34m(self)\u001b[0m\n\u001b[1;32m    508\u001b[0m \u001b[38;5;129m@property\u001b[39m\n\u001b[1;32m    509\u001b[0m \u001b[38;5;28;01mdef\u001b[39;00m \u001b[38;5;21msplines\u001b[39m(\u001b[38;5;28mself\u001b[39m):\n\u001b[0;32m--> 510\u001b[0m     \u001b[38;5;28;01mreturn\u001b[39;00m [gen_path(p) \u001b[38;5;28;01mfor\u001b[39;00m p \u001b[38;5;129;01min\u001b[39;00m \u001b[38;5;28mself\u001b[39m\u001b[38;5;241m.\u001b[39mpaths]\n",
      "File \u001b[0;32m~/softwares/anaconda/envs/mchevillard/lib/python3.9/site-packages/cortex/svgoverlay.py:510\u001b[0m, in \u001b[0;36m<listcomp>\u001b[0;34m(.0)\u001b[0m\n\u001b[1;32m    508\u001b[0m \u001b[38;5;129m@property\u001b[39m\n\u001b[1;32m    509\u001b[0m \u001b[38;5;28;01mdef\u001b[39;00m \u001b[38;5;21msplines\u001b[39m(\u001b[38;5;28mself\u001b[39m):\n\u001b[0;32m--> 510\u001b[0m     \u001b[38;5;28;01mreturn\u001b[39;00m [\u001b[43mgen_path\u001b[49m\u001b[43m(\u001b[49m\u001b[43mp\u001b[49m\u001b[43m)\u001b[49m \u001b[38;5;28;01mfor\u001b[39;00m p \u001b[38;5;129;01min\u001b[39;00m \u001b[38;5;28mself\u001b[39m\u001b[38;5;241m.\u001b[39mpaths]\n",
      "File \u001b[0;32m~/softwares/anaconda/envs/mchevillard/lib/python3.9/site-packages/cortex/svgoverlay.py:930\u001b[0m, in \u001b[0;36mgen_path\u001b[0;34m(path)\u001b[0m\n\u001b[1;32m    928\u001b[0m     val \u001b[38;5;241m=\u001b[39m [\u001b[38;5;241m0\u001b[39m, \u001b[38;5;28mfloat\u001b[39m(cmd)]\n\u001b[1;32m    929\u001b[0m \u001b[38;5;28;01melse\u001b[39;00m:\n\u001b[0;32m--> 930\u001b[0m     val \u001b[38;5;241m=\u001b[39m [\u001b[38;5;28mfloat\u001b[39m(cc) \u001b[38;5;28;01mfor\u001b[39;00m cc \u001b[38;5;129;01min\u001b[39;00m cmd\u001b[38;5;241m.\u001b[39msplit(\u001b[38;5;124m'\u001b[39m\u001b[38;5;124m,\u001b[39m\u001b[38;5;124m'\u001b[39m)]\n\u001b[1;32m    931\u001b[0m codes\u001b[38;5;241m.\u001b[39mappend(mdict[mode\u001b[38;5;241m.\u001b[39mlower()])\n\u001b[1;32m    932\u001b[0m \u001b[38;5;28;01mif\u001b[39;00m mode\u001b[38;5;241m.\u001b[39mlower() \u001b[38;5;241m==\u001b[39m mode:\n",
      "File \u001b[0;32m~/softwares/anaconda/envs/mchevillard/lib/python3.9/site-packages/cortex/svgoverlay.py:930\u001b[0m, in \u001b[0;36m<listcomp>\u001b[0;34m(.0)\u001b[0m\n\u001b[1;32m    928\u001b[0m     val \u001b[38;5;241m=\u001b[39m [\u001b[38;5;241m0\u001b[39m, \u001b[38;5;28mfloat\u001b[39m(cmd)]\n\u001b[1;32m    929\u001b[0m \u001b[38;5;28;01melse\u001b[39;00m:\n\u001b[0;32m--> 930\u001b[0m     val \u001b[38;5;241m=\u001b[39m [\u001b[38;5;28;43mfloat\u001b[39;49m\u001b[43m(\u001b[49m\u001b[43mcc\u001b[49m\u001b[43m)\u001b[49m \u001b[38;5;28;01mfor\u001b[39;00m cc \u001b[38;5;129;01min\u001b[39;00m cmd\u001b[38;5;241m.\u001b[39msplit(\u001b[38;5;124m'\u001b[39m\u001b[38;5;124m,\u001b[39m\u001b[38;5;124m'\u001b[39m)]\n\u001b[1;32m    931\u001b[0m codes\u001b[38;5;241m.\u001b[39mappend(mdict[mode\u001b[38;5;241m.\u001b[39mlower()])\n\u001b[1;32m    932\u001b[0m \u001b[38;5;28;01mif\u001b[39;00m mode\u001b[38;5;241m.\u001b[39mlower() \u001b[38;5;241m==\u001b[39m mode:\n",
      "\u001b[0;31mValueError\u001b[0m: could not convert string to float: ''"
     ]
    }
   ],
   "source": [
    "for subject in subjects:\n",
    "    \n",
    "    print(subject)\n",
    "    if subject == 'sub-02':\n",
    "        pass\n",
    "    else:\n",
    "\n",
    "        # Define and create folder\n",
    "        mask_dir = '{}/{}/masks'.format(pp_dir, subject)\n",
    "        try: os.makedirs(mask_dir) \n",
    "        except: pass\n",
    "\n",
    "        # Create ROI masks\n",
    "        # ----------------\n",
    "        ref_file = \"{}/db/{}/transforms/{}/reference.nii.gz\".format(pycortex_dir, subject, xfm_name)\n",
    "        print (ref_file)\n",
    "        ref_img = nb.load(ref_file)\n",
    "\n",
    "\n",
    "        for roi in rois:\n",
    "            roi_mask_file_L = \"{}/{}_{}_L.nii.gz\".format(mask_dir, roi, cortical_mask)\n",
    "\n",
    "            if os.path.isfile(roi_mask_file_L) == 0:\n",
    "                print('creating {} {} mask'.format(roi, cortical_mask))\n",
    "                roi_mask = cortex.utils.get_roi_masks(subject=subject, xfmname=xfm_name, gm_sampler=cortical_mask, roi_list=roi, return_dict=True, split_lr=True)\n",
    "                for hemi in ['L','R']:\n",
    "                    roi_mask_file = \"{}/{}_{}_{}.nii.gz\".format(mask_dir, roi, cortical_mask, hemi)\n",
    "                    roi_mask_img = nb.Nifti1Image(dataobj=roi_mask['{}_{}'.format(roi, hemi)].transpose((2,1,0)), affine=ref_img.affine, header=ref_img.header)\n",
    "                    roi_mask_img.to_filename(roi_mask_file)\n",
    "            else:\n",
    "                print('{} {} masks: already exist'.format(roi, cortical_mask))\n",
    "                continue"
   ]
  },
  {
   "cell_type": "code",
   "execution_count": 20,
   "id": "e521461e-a960-4cd8-be0e-338f2b84081f",
   "metadata": {
    "tags": []
   },
   "outputs": [],
   "source": []
  },
  {
   "cell_type": "code",
   "execution_count": null,
   "id": "cee93a64-c36a-4394-8bd5-0a86b18cd2e9",
   "metadata": {},
   "outputs": [],
   "source": []
  }
 ],
 "metadata": {
  "kernelspec": {
   "display_name": "mchevillard",
   "language": "python",
   "name": "mchevillard"
  },
  "language_info": {
   "codemirror_mode": {
    "name": "ipython",
    "version": 3
   },
   "file_extension": ".py",
   "mimetype": "text/x-python",
   "name": "python",
   "nbconvert_exporter": "python",
   "pygments_lexer": "ipython3",
   "version": "3.9.16"
  }
 },
 "nbformat": 4,
 "nbformat_minor": 5
}
