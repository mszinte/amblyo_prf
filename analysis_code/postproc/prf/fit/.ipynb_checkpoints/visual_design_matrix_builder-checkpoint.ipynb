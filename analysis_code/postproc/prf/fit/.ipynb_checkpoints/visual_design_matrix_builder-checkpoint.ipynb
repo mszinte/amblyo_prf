{
 "cells": [
  {
   "cell_type": "markdown",
   "id": "6ec448e4-53f9-4aa6-8d2a-6baba4dc80f2",
   "metadata": {},
   "source": [
    "# Visual_design_matrix_builder\n",
    "*Adrien Chopin, 2022*\n",
    "\n",
    "**This function creates a slack of images (n-by-n pixels nd-array with time as a 3d dimension), generating the visual design of a pRF experiment. The time unit is in TR (half-TR are tolerated). Bars are coded 1 and background 0. Note that the bar will start its pass at the tip of the aperture.**\n",
    "\n",
    "Inputs are:\n",
    "- n, the size of the images in px (default: 600x600)\n",
    "- nTR, the nb of TRs (images) to generate (default: 135)\n",
    "- bar_list, a list of bar pass directions (default: 1 2 0 3 4 0 5 6 0 7 8 0), coded as follows, with the corresponding angle\n",
    "    0. Blank pass: do not code the first and last blank delays because we will add some / angle none\n",
    "    1. LL_UR: from lower left to upper right / angle 45°\n",
    "    2. Right: from left to right / angle 0°\n",
    "    3. Up: from down to up / 90°\n",
    "    4. LR_UL: from lower right to upper left / 135°\n",
    "    5. UR_LL: from upper right to lower left / 225°\n",
    "    6. Left: from right to left / 180°\n",
    "    7. Down: from up to down / 270°\n",
    "    8. UL_LR: from upper left to lower right / 315°\n",
    "- pass_duration, the duration of a bar pass in TR (default: 13)\n",
    "- blank_duration, the duration of a blank pass in TR (default: 6.5)\n",
    "- delays, a list of the initial and final delays in TR (blanks, default: 5 and 0)\n",
    "- a_size, circular aperture radius in px - if none, use n (default: 254)\n",
    "- b_len, the length of the bar in px (default: a_size)\n",
    "- b_wid, the width of the bar in px (default: 97)\n",
    "\n",
    "It saves the result in an numpy nd-array and a video (Note: the timing of the video will be incorrect).\n",
    "\n",
    "## Imports"
   ]
  },
  {
   "cell_type": "code",
   "execution_count": 91,
   "id": "4539a01e-4e3f-4806-9081-98bec3bf4557",
   "metadata": {},
   "outputs": [],
   "source": [
    "import numpy as np\n",
    "import math\n",
    "import pickle\n",
    "import cv2\n",
    "import os"
   ]
  },
  {
   "cell_type": "markdown",
   "id": "81c4501d-f13e-43c1-b477-b5b3e9a37b7f",
   "metadata": {},
   "source": [
    "## File and path names"
   ]
  },
  {
   "cell_type": "code",
   "execution_count": 92,
   "id": "740a2124-26c6-471d-9230-e794defe491e",
   "metadata": {},
   "outputs": [
    {
     "name": "stdout",
     "output_type": "stream",
     "text": [
      "/home/achopin/disks/meso_S/data/stereo_prf/derivatives/vdm/vdm.npy\n",
      "/home/achopin/disks/meso_S/data/stereo_prf/derivatives/vdm/vdm.mp4\n"
     ]
    }
   ],
   "source": [
    "#project_dir = '/scratch/mszinte/data/stereo_prf/'\n",
    "project_dir = os.path.expanduser('~/disks/meso_S/data/stereo_prf/')\n",
    "rootpath = os.path.join(project_dir,'derivatives','vdm') # data directory\n",
    "fileName = 'vdm'\n",
    "filepath = os.path.join(rootpath,fileName+'.npy')\n",
    "\n",
    "print(filepath)\n",
    "print(videopath)"
   ]
  },
  {
   "cell_type": "markdown",
   "id": "01be9ac0-98a4-4c5d-bed4-d6957bd9975e",
   "metadata": {},
   "source": [
    "## Default input values"
   ]
  },
  {
   "cell_type": "code",
   "execution_count": 93,
   "id": "065c0294-e286-4b92-b10e-bd94ea7aed5b",
   "metadata": {},
   "outputs": [],
   "source": [
    "if 'n' not in locals(): n = 600\n",
    "if 'nTR' not in locals(): nTR = 135\n",
    "if 'bar_list' not in locals(): bar_list = np.array([1, 2, 0, 3, 4, 0, 5, 6, 0, 7, 8])\n",
    "if 'pass_duration' not in locals(): pass_duration = 13\n",
    "if 'blank_duration' not in locals(): blank_duration = 6.5\n",
    "if 'delays' not in locals(): delays = [5, 6.5]\n",
    "if 'a_size' not in locals(): a_size = 254\n",
    "if 'b_len' not in locals(): b_len = a_size\n",
    "if 'b_wid' not in locals(): b_wid = 97\n",
    "list_angles = np.array([np.nan, 45, 0, 90, 135, 225, 180, 270, 315])"
   ]
  },
  {
   "cell_type": "markdown",
   "id": "187df9f1-4bb2-4fb5-8252-88aa27e72858",
   "metadata": {},
   "source": [
    "## Core\n",
    "### Create a meshgrid of image coordinates x, y, a list of angles by TR\n"
   ]
  },
  {
   "cell_type": "code",
   "execution_count": 94,
   "id": "ad7eb267-9ba2-412f-aba8-7e25e41f6e2f",
   "metadata": {},
   "outputs": [],
   "source": [
    "# image coordinates meshgrid\n",
    "x, y = np.meshgrid(range(0,n), range(0,n))\n",
    "\n",
    "# calculate the total duration in TR and check that it is equal to nTR\n",
    "tot = sum(bar_list>0)*pass_duration+sum(bar_list==0)*blank_duration+sum(delays)\n",
    "if tot!=nTR:\n",
    "    print(str(tot))\n",
    "    raise ValueError('something went wrong, total duration is '+str(tot)+' but nb of TR asked is '+str(nTR))\n",
    "     \n",
    "# create a list of half TR list with bar pass angles\n",
    "angle_list = list_angles[bar_list];\n",
    "angle_halfTR = np.empty((1,2*nTR)); angle_halfTR.fill(np.nan)\n",
    "head = 0; newhead = 2*delays[0];\n",
    "angle_halfTR[0,head:newhead]=np.nan\n",
    "for i in angle_list:\n",
    "    head = newhead\n",
    "    if np.isnan(i):\n",
    "        newhead=int(head+2*blank_duration)\n",
    "    else:\n",
    "        newhead=int(head+2*pass_duration) \n",
    "    angle_halfTR[0,head:newhead]=i\n",
    "angle_halfTR[0,newhead:]=np.nan"
   ]
  },
  {
   "cell_type": "markdown",
   "id": "9ee38d2f-7f5e-4b1b-a1b7-a489c0fe4b55",
   "metadata": {},
   "source": [
    "### Define the function that will draw the frames from the bar position"
   ]
  },
  {
   "cell_type": "code",
   "execution_count": 95,
   "id": "49df06fd-89d1-4575-bd91-13610a3ae355",
   "metadata": {},
   "outputs": [],
   "source": [
    "def draw_frame(x,y,position,n,b_len,b_wid,angle,a_size):\n",
    "    frame = np.zeros((n,n)) #create n-by-n blank frame\n",
    "    center_x = round(n/2)\n",
    "    center_y = round(n/2)\n",
    "    if ((position[0]-center_x)!=0) & ((position[1]-center_y)!=0):\n",
    "        position_to_center_line_slope = (position[1]-center_y)/(position[0]-center_x) # slope of the line connecting center of bar and center of screen\n",
    "        a = -1/position_to_center_line_slope                                          # obtaining the slope of the perpendicular to that line, passing by center of bar (using opposite reciprocal)\n",
    "        b_low = (position[1]-np.sin(np.radians(angle))*b_wid/2)-a*(position[0]-np.cos(np.radians(angle))*b_wid/2)         # intercept of the line for the lower part of the bar is equal to b = y - ax\n",
    "        b_up = (position[1]+np.sin(np.radians(angle))*b_wid/2)-a*(position[0]+np.cos(np.radians(angle))*b_wid/2)          # intercept of the line for the upper part of the bar is equal to b = y - ax\n",
    "        frame[(y>(a*x+min(b_low,b_up)))&(y<(a*x+max(b_low,b_up)))]=1\n",
    "    else:\n",
    "        if (position[0]-center_x)==0:\n",
    "            frame[(y>(position[1]-b_wid/2))&(y<(position[1]+b_wid/2))]=1\n",
    "        elif (position[1]-center_y)==0:\n",
    "            frame[(x>(position[0]-b_wid/2))&(x<(position[0]+b_wid/2))]=1\n",
    "        else:\n",
    "            print('oops!')\n",
    "    # apply aperture\n",
    "    frame[((x-center_x)**2+(y-center_y)**2)>a_size**2]=0\n",
    "    return frame"
   ]
  },
  {
   "cell_type": "markdown",
   "id": "8ed5701f-2122-4685-b4bc-21feff245493",
   "metadata": {},
   "source": [
    "### Initialize frames and run through the list of angles to create the frames"
   ]
  },
  {
   "cell_type": "code",
   "execution_count": 96,
   "id": "aa6c0d27-b402-4319-9f92-cb1355ebd799",
   "metadata": {},
   "outputs": [
    {
     "name": "stdout",
     "output_type": "stream",
     "text": [
      "Done direction angle 45.0\n",
      "Done direction angle 0.0\n",
      "Done direction angle 90.0\n",
      "Done direction angle 135.0\n",
      "Done direction angle 225.0\n",
      "Done direction angle 180.0\n",
      "Done direction angle 270.0\n",
      "Done direction angle 315.0\n"
     ]
    }
   ],
   "source": [
    "#initialization\n",
    "current_angle = np.nan\n",
    "center_x = round(n/2)\n",
    "center_y = round(n/2)\n",
    "list=np.array([])\n",
    "# initialize frames with blank frames\n",
    "frames = np.zeros((n,n,2*nTR));\n",
    "\n",
    "# main loop\n",
    "for i in range(0,np.size(angle_halfTR)):\n",
    "    angle = angle_halfTR[0,i]\n",
    "    if ~np.isnan(angle): # this is a barpass! (if not, let's keep the blank frame)\n",
    "        # first check whether it is a new barpass or not\n",
    "        if angle!=current_angle: # this is a new barpass!\n",
    "            current_angle = angle\n",
    "            #starting position for the bar\n",
    "            start_position = np.array([center_x, center_y])+(a_size+b_wid/2)*np.array([math.cos(math.radians(current_angle+180)),math.sin(math.radians(current_angle+180))]) \n",
    "            end_position = np.array([center_x, center_y])+(a_size+b_wid/2)*np.array([math.cos(math.radians(current_angle)),math.sin(math.radians(current_angle))])\n",
    "            distance = end_position - start_position\n",
    "            step = distance/(2*pass_duration-1) # n-1 steps\n",
    "            position = start_position\n",
    "            list=np.append(list,i)\n",
    "            print('Done direction angle '+str(angle))\n",
    "        else:\n",
    "        # determine the current x,y position of the barpass\n",
    "            position = position + step    # this one is not rounded to avoid accumulating rounding error\n",
    "        position_rnd = position.round() \n",
    "        frames[:,:,i]=draw_frame(x,y,position_rnd,n,b_len,b_wid,angle,a_size)\n",
    "\n",
    "# only save the full TR, not the half-TR\n",
    "frames = frames[:,:,0::2]"
   ]
  },
  {
   "cell_type": "code",
   "execution_count": 97,
   "id": "dd6950e0-263f-4363-a856-746df0e33d41",
   "metadata": {},
   "outputs": [],
   "source": [
    "#import matplotlib.pyplot as pyplot\n",
    "#import matplotlib as plt\n",
    "#for i in list:\n",
    "#    fig, ax = pyplot.subplots() \n",
    "#    ax.imshow(frames[:,:,int(i)]) \n",
    "#for i in range(0,26):\n",
    "#    fig, ax = pyplot.subplots() \n",
    "#    ax.imshow(frames[:,:,int(list[0]+i)]) \n",
    "    "
   ]
  },
  {
   "cell_type": "code",
   "execution_count": 98,
   "id": "c8115997-92b6-4c44-8879-7d9f7c17c904",
   "metadata": {},
   "outputs": [],
   "source": [
    "#import matplotlib.pyplot as pyplot\n",
    "#import matplotlib as plt\n",
    "#fig, ax = pyplot.subplots() \n",
    "#position_rnd=[-2.5, 300]\n",
    "#angle = 0\n",
    "#ax.imshow(draw_frame(x,y,position_rnd,n,b_len,b_wid,angle,a_size)) "
   ]
  },
  {
   "cell_type": "markdown",
   "id": "50ee0925-1290-487c-a432-fe527b0b5cb7",
   "metadata": {},
   "source": [
    "### Save frames through np.save and export a video"
   ]
  },
  {
   "cell_type": "code",
   "execution_count": 99,
   "id": "4eaac52c-3658-4507-a892-54c04d49ac47",
   "metadata": {},
   "outputs": [
    {
     "name": "stdout",
     "output_type": "stream",
     "text": [
      "Data saved to vdm\n"
     ]
    }
   ],
   "source": [
    "# save numpy array\n",
    "np.save(filepath,frames)\n",
    "print('Data saved to '+fileName)"
   ]
  },
  {
   "cell_type": "code",
   "execution_count": 100,
   "id": "d788727c-18e2-47bc-a80f-5a38f1689952",
   "metadata": {},
   "outputs": [
    {
     "name": "stdout",
     "output_type": "stream",
     "text": [
      "Video conversion done\n"
     ]
    }
   ],
   "source": [
    "# export a video (NOTE: the timing of the video will be incorrect)\n",
    "videopath = os.path.join(rootpath,fileName+'.mp4')\n",
    "fourcc = cv2.VideoWriter_fourcc(*'mp4v')\n",
    "out = cv2.VideoWriter(videopath, fourcc, 1, (n, n), False)\n",
    "for frame in np.split(frames, nTR, axis=2):\n",
    "    #frame y needs to be inverted\n",
    "    frame_inv = frame[-1::-1,:]\n",
    "    out.write(np.uint8(frame_inv*255))\n",
    "out.release() \n",
    "print('Video conversion done')"
   ]
  }
 ],
 "metadata": {
  "kernelspec": {
   "display_name": "achopin",
   "language": "python",
   "name": "achopin"
  },
  "language_info": {
   "codemirror_mode": {
    "name": "ipython",
    "version": 3
   },
   "file_extension": ".py",
   "mimetype": "text/x-python",
   "name": "python",
   "nbconvert_exporter": "python",
   "pygments_lexer": "ipython3",
   "version": "3.9.13"
  }
 },
 "nbformat": 4,
 "nbformat_minor": 5
}
