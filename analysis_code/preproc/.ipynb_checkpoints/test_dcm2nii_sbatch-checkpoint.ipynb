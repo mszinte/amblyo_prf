{
 "cells": [
  {
   "cell_type": "code",
   "execution_count": 72,
   "id": "1ce8b47d-25d2-4f0e-ad80-fadf7aa467ff",
   "metadata": {},
   "outputs": [],
   "source": [
    "import pandas as pd\n",
    "import os\n"
   ]
  },
  {
   "cell_type": "code",
   "execution_count": 94,
   "id": "2b398633-b8c5-4cce-9afa-456da7767341",
   "metadata": {},
   "outputs": [
    {
     "name": "stdout",
     "output_type": "stream",
     "text": [
      "Trying to open /home/achopin/disks/meso_S/data/stereo_prf/sourcedata/dcm2niix/job_list.csv\n"
     ]
    }
   ],
   "source": [
    "rootpath = os.path.expanduser('~/disks/meso_S/data/stereo_prf/sourcedata/') # data directory\n",
    "filepath = rootpath+'dcm2niix'+os.sep+'job_list.csv'\n",
    "print('Trying to open', filepath)"
   ]
  },
  {
   "cell_type": "code",
   "execution_count": 55,
   "id": "36758fd2-f4c4-4070-83b4-d6a9b873891d",
   "metadata": {},
   "outputs": [],
   "source": [
    "data = pd.read_csv(filepath, sep=';')"
   ]
  },
  {
   "cell_type": "code",
   "execution_count": 56,
   "id": "c509c8e0-3893-4e98-8d30-ac26050dd0b6",
   "metadata": {},
   "outputs": [
    {
     "data": {
      "text/html": [
       "<div>\n",
       "<style scoped>\n",
       "    .dataframe tbody tr th:only-of-type {\n",
       "        vertical-align: middle;\n",
       "    }\n",
       "\n",
       "    .dataframe tbody tr th {\n",
       "        vertical-align: top;\n",
       "    }\n",
       "\n",
       "    .dataframe thead th {\n",
       "        text-align: right;\n",
       "    }\n",
       "</style>\n",
       "<table border=\"1\" class=\"dataframe\">\n",
       "  <thead>\n",
       "    <tr style=\"text-align: right;\">\n",
       "      <th></th>\n",
       "      <th>sources</th>\n",
       "      <th>destination_root_path</th>\n",
       "      <th>sub</th>\n",
       "      <th>ses</th>\n",
       "      <th>data_type</th>\n",
       "      <th>task</th>\n",
       "      <th>run</th>\n",
       "      <th>modality</th>\n",
       "    </tr>\n",
       "  </thead>\n",
       "  <tbody>\n",
       "    <tr>\n",
       "      <th>0</th>\n",
       "      <td>/sourcedata/AM52/am52 pRF selected runs/01b_ep...</td>\n",
       "      <td>/sourcedata/dcm2niix/</td>\n",
       "      <td>1</td>\n",
       "      <td>2</td>\n",
       "      <td>func</td>\n",
       "      <td>prf</td>\n",
       "      <td>1</td>\n",
       "      <td>bold</td>\n",
       "    </tr>\n",
       "    <tr>\n",
       "      <th>1</th>\n",
       "      <td>/sourcedata/AM52/am52 pRF selected runs/01b_ep...</td>\n",
       "      <td>/sourcedata/dcm2niix/</td>\n",
       "      <td>1</td>\n",
       "      <td>2</td>\n",
       "      <td>func</td>\n",
       "      <td>prf</td>\n",
       "      <td>2</td>\n",
       "      <td>bold</td>\n",
       "    </tr>\n",
       "  </tbody>\n",
       "</table>\n",
       "</div>"
      ],
      "text/plain": [
       "                                             sources  destination_root_path  \\\n",
       "0  /sourcedata/AM52/am52 pRF selected runs/01b_ep...  /sourcedata/dcm2niix/   \n",
       "1  /sourcedata/AM52/am52 pRF selected runs/01b_ep...  /sourcedata/dcm2niix/   \n",
       "\n",
       "   sub  ses data_type task  run modality  \n",
       "0    1    2      func  prf    1     bold  \n",
       "1    1    2      func  prf    2     bold  "
      ]
     },
     "execution_count": 56,
     "metadata": {},
     "output_type": "execute_result"
    }
   ],
   "source": [
    "# check data integrity\n",
    "data.head()"
   ]
  },
  {
   "cell_type": "code",
   "execution_count": 92,
   "id": "f1e9466b-3b5f-4d0b-8c0a-ed092a51989f",
   "metadata": {},
   "outputs": [
    {
     "name": "stderr",
     "output_type": "stream",
     "text": [
      "sh: 1: dcm2niix: not found\n"
     ]
    },
    {
     "data": {
      "text/plain": [
       "32512"
      ]
     },
     "execution_count": 92,
     "metadata": {},
     "output_type": "execute_result"
    }
   ],
   "source": [
    "\n",
    "os.system('dcm2niix -z y -s n -x n –b y –ba y -o \\'/home/achopin/disks/meso_S/data/stereo_prf/sourcedata/dcm2niix/sub-01/\\' -i \\'/home/achopin/disks/meso_S/data/stereo_prf/sourcedata/Big_data_STAM/AM52/am52 pRF selected runs/01b_epi_retino_DICOM/epi01_neuro_retinotopy_11/\\'')\n",
    "# -z y : gzip the files\n",
    "# -s n : convert all images in folder\n",
    "# -x n : do not crop\n",
    "# -b y : generate BIDS structure\n",
    "# -ba y : BIDS anonimization\n",
    "# -i XX : input folder XX\n",
    "# -o YY : output folder YY\n"
   ]
  },
  {
   "cell_type": "code",
   "execution_count": 87,
   "id": "8f89dbea-b679-44ee-b1a4-9757e0b10d09",
   "metadata": {},
   "outputs": [
    {
     "data": {
      "text/plain": [
       "True"
      ]
     },
     "execution_count": 87,
     "metadata": {},
     "output_type": "execute_result"
    }
   ],
   "source": [
    "os.path.exists(os.path.expanduser('~/disks/meso_S/data/stereo_prf/sourcedata/Big_data_STAM/AM52/am52 pRF selected runs/01b_epi_retino_DICOM/epi01_neuro_retinotopy_11/'))"
   ]
  },
  {
   "cell_type": "code",
   "execution_count": null,
   "id": "4444fdf2-bec0-45d5-bbd8-698ea59eb32f",
   "metadata": {},
   "outputs": [],
   "source": []
  }
 ],
 "metadata": {
  "kernelspec": {
   "display_name": "achopin",
   "language": "python",
   "name": "achopin"
  },
  "language_info": {
   "codemirror_mode": {
    "name": "ipython",
    "version": 3
   },
   "file_extension": ".py",
   "mimetype": "text/x-python",
   "name": "python",
   "nbconvert_exporter": "python",
   "pygments_lexer": "ipython3",
   "version": "3.9.13"
  }
 },
 "nbformat": 4,
 "nbformat_minor": 5
}
