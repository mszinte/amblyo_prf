{
 "cells": [
  {
   "cell_type": "code",
   "execution_count": 21,
   "id": "1ce8b47d-25d2-4f0e-ad80-fadf7aa467ff",
   "metadata": {},
   "outputs": [],
   "source": [
    "import pandas as pd\n",
    "import os\n",
    "import json"
   ]
  },
  {
   "cell_type": "code",
   "execution_count": 17,
   "id": "2b398633-b8c5-4cce-9afa-456da7767341",
   "metadata": {},
   "outputs": [
    {
     "name": "stdout",
     "output_type": "stream",
     "text": [
      "Opening /home/achopin/disks/meso_S/data/stereo_prf/sourcedata/dcm2niix/job_list.csv\n"
     ]
    }
   ],
   "source": [
    "project_dir = os.path.expanduser('~/disks/meso_S/data/stereo_prf/')\n",
    "rootpath = os.path.join(project_dir,'sourcedata') # data directory\n",
    "filepath = os.path.join(rootpath,'dcm2niix','job_list.csv')\n",
    "print('Opening', filepath)"
   ]
  },
  {
   "cell_type": "code",
   "execution_count": 18,
   "id": "36758fd2-f4c4-4070-83b4-d6a9b873891d",
   "metadata": {},
   "outputs": [],
   "source": [
    "data = pd.read_csv(filepath, sep=';')"
   ]
  },
  {
   "cell_type": "code",
   "execution_count": 4,
   "id": "c509c8e0-3893-4e98-8d30-ac26050dd0b6",
   "metadata": {},
   "outputs": [
    {
     "name": "stdout",
     "output_type": "stream",
     "text": [
      "                                             sources  sub  ses data_type task  \\\n",
      "0  AM52/am52 pRF selected runs/01b_epi_retino_DIC...    1    2      func  prf   \n",
      "1  AM52/am52 pRF selected runs/01b_epi_retino_DIC...    1    2      func  prf   \n",
      "2  AM52/am52 pRF selected runs/01b_epi_retino_DIC...    1    2      func  prf   \n",
      "3  AM52/am52 pRF selected runs/01b_epi_retino_DIC...    1    2      func  prf   \n",
      "4  AM52/am52 pRF selected runs/01b_epi_retino_DIC...    1    2      func  prf   \n",
      "\n",
      "   run modality  \n",
      "0  1.0     bold  \n",
      "1  2.0     bold  \n",
      "2  3.0     bold  \n",
      "3  4.0     bold  \n",
      "4  5.0     bold  \n"
     ]
    }
   ],
   "source": [
    "# check data integrity\n",
    "print(data.head())"
   ]
  },
  {
   "cell_type": "code",
   "execution_count": 5,
   "id": "6b25d343-a5d3-4cd0-b4bf-d20fa657fbf2",
   "metadata": {},
   "outputs": [],
   "source": [
    "sourceroot = os.path.join(rootpath,'Big_data_STAM')\n",
    "destroot = os.path.join(rootpath,'dcm2niix')\n",
    "overwrite = 0"
   ]
  },
  {
   "cell_type": "code",
   "execution_count": 6,
   "id": "69e01e57-4e2c-4da7-ab20-6060e5c2cbbe",
   "metadata": {},
   "outputs": [
    {
     "name": "stdout",
     "output_type": "stream",
     "text": [
      "dcm2niix does not work on jupyter notebook - we will print instead\n",
      "replace print from dcm2niix line with os.system in py batch code to make it work\n"
     ]
    }
   ],
   "source": [
    "print('dcm2niix does not work on jupyter notebook - we will print instead')\n",
    "print('replace print from dcm2niix line with os.system in py batch code to make it work')"
   ]
  },
  {
   "cell_type": "code",
   "execution_count": 49,
   "id": "744000ef-b708-43b2-b7cb-751d439e3d55",
   "metadata": {},
   "outputs": [
    {
     "name": "stdout",
     "output_type": "stream",
     "text": [
      "Folder structure creation done\n"
     ]
    }
   ],
   "source": [
    "# loop through the file to read the source and destination files, with mask renaming\n",
    "# first create the folder structure\n",
    "for i in range(0, len(data)):\n",
    "    source = os.path.join(sourceroot,data.iloc[i].sources)\n",
    "    if not(os.path.exists(source)):\n",
    "        print('This source does not seem to exist - check it before we run the whole thing: '+source)\n",
    "        break\n",
    "    dest_dir_lvl1 = os.path.join(destroot,\"sub-{p:02.0f}\".format(p=data.iloc[i]['sub']))\n",
    "    if not(os.path.exists(dest_dir_lvl1)):\n",
    "        os.mkdir(dest_dir_lvl1)   \n",
    "        print('Creating directory '+dest_dir_lvl1)\n",
    "    dest_dir_lvl2 = os.path.join(dest_dir_lvl1,\"ses-{p:02.0f}\".format(p=data.iloc[i].ses))\n",
    "    if not(os.path.exists(dest_dir_lvl2)):\n",
    "        os.mkdir(dest_dir_lvl2)\n",
    "        print('Creating directory '+dest_dir_lvl2)\n",
    "    dest_dir_lvl3 = os.path.join(dest_dir_lvl2,data.iloc[i].data_type)    \n",
    "    if not(os.path.exists(dest_dir_lvl3)):\n",
    "        os.mkdir(dest_dir_lvl3)\n",
    "        print('Creating directory '+dest_dir_lvl3)\n",
    "print('Folder structure creation done')"
   ]
  },
  {
   "cell_type": "code",
   "execution_count": 25,
   "id": "cfbb5dff-711a-40e3-8bd1-14427329d51f",
   "metadata": {},
   "outputs": [
    {
     "name": "stdout",
     "output_type": "stream",
     "text": [
      "prf\n",
      "File already exists - skip (from /home/achopin/disks/meso_S/data/stereo_prf/sourcedata/Big_data_STAM/AM52/am52 pRF selected runs/01b_epi_retino_DICOM/epi01_neuro_retinotopy_11/ toward /home/achopin/disks/meso_S/data/stereo_prf/sourcedata/dcm2niix/sub-01/ses-02/func/sub-01_ses-02_task-prf_run-1_bold.nii.gz)\n"
     ]
    },
    {
     "ename": "AttributeError",
     "evalue": "'NoneType' object has no attribute 'update'",
     "output_type": "error",
     "traceback": [
      "\u001b[0;31m---------------------------------------------------------------------------\u001b[0m",
      "\u001b[0;31mAttributeError\u001b[0m                            Traceback (most recent call last)",
      "Cell \u001b[0;32mIn [25], line 26\u001b[0m\n\u001b[1;32m     24\u001b[0m json_file \u001b[38;5;241m=\u001b[39m \u001b[38;5;28mopen\u001b[39m(json_file_path)\n\u001b[1;32m     25\u001b[0m json_data \u001b[38;5;241m=\u001b[39m json\u001b[38;5;241m.\u001b[39mload(json_file)\n\u001b[0;32m---> 26\u001b[0m new_json \u001b[38;5;241m=\u001b[39m json_data\u001b[38;5;241m.\u001b[39mupdate(toAdd)\n\u001b[1;32m     27\u001b[0m json_file\u001b[38;5;241m.\u001b[39mclose()\n\u001b[1;32m     28\u001b[0m new_json_file \u001b[38;5;241m=\u001b[39m \u001b[38;5;28mopen\u001b[39m(json_file_path, \u001b[38;5;124m'\u001b[39m\u001b[38;5;124mw\u001b[39m\u001b[38;5;124m'\u001b[39m)\n",
      "\u001b[0;31mAttributeError\u001b[0m: 'NoneType' object has no attribute 'update'"
     ]
    }
   ],
   "source": [
    "# then do the conversion job\n",
    "for i in range(0, len(data)):\n",
    "    source = os.path.join(sourceroot,data.iloc[i].sources)\n",
    "    dest_dir = os.path.join(destroot,\"sub-{p:02.0f}\".format(p=data.iloc[i]['sub']),\"ses-{p:02.0f}\".format(p=data.iloc[i].ses),data.iloc[i].data_type)\n",
    "    print(data.iloc[i].task)\n",
    "    if pd.isnull(data.iloc[i].task)==0: # func case - task exists\n",
    "        func = 1\n",
    "        dest_file = \"sub-{p:02.0f}\".format(p=data.iloc[i]['sub'])+\"_ses-{p:02.0f}\".format(p=data.iloc[i].ses)+'_task-'+data.iloc[i].task+\"_run-{p:1.0f}\".format(p=data.iloc[i].run)+'_'+data.iloc[i].modality\n",
    "    else:                              # anat case - no task, no run\n",
    "        func = 0\n",
    "        dest_file = \"sub-{p:02.0f}\".format(p=data.iloc[i]['sub'])+\"_ses-{p:02.0f}\".format(p=data.iloc[i].ses)+'_'+data.iloc[i].modality    \n",
    "    dest_file_abs_path = os.path.join(dest_dir,dest_file+'.nii.gz')\n",
    "    json_file_path = os.path.join(dest_dir,dest_file+'.json')\n",
    "    if os.path.exists(dest_file_abs_path) & (overwrite==0):\n",
    "        print('File already exists - skip (from '+source+' toward '+dest_file_abs_path+')')\n",
    "    else:\n",
    "        if os.path.exists(dest_file_abs_path) & (overwrite==1):\n",
    "            print('File already exists - overwrite '+dest_file)       \n",
    "        print('Attempting to convert from '+source+' to '+dest_dir+' with file '+dest_file)\n",
    "        print('dcm2niix -z y -s n -x n –b y –ba y -v 1 -f '+dest_file+' -o '+dest_dir+' \\''+source+'\\'') \n",
    "    # when we convert a functional file, be sure to append a task field to the .json file\n",
    "   # if func==1:\n",
    "        #toAdd = {\"TaskName\":\"prf\"}\n",
    "        #json_file = open(json_file_path)\n",
    "        #json_data = json.load(json_file)\n",
    "        #new_json = json_data.update(toAdd)\n",
    "        #json_file.close()\n",
    "        #new_json_file = open(json_file_path, 'w')\n",
    "        #json.dump(new_json, new_json_file)\n",
    "        #new_json_file.close()\n",
    "        \n",
    "        # os.system('dcm2niix -z y -s n -x n –b y –ba y -v 1 -f \\'test\\' -o \\'/home/achopin/disks/meso_S/data/stereo_prf/sourcedata/dcm2niix/sub-01/\\' \\'/home/achopin/disks/meso_S/data/stereo_prf/sourcedata/Big_data_STAM/AM52/am52 pRF selected runs/01b_epi_retino_DICOM/epi01_neuro_retinotopy_11/\\'')\n",
    "        # -z y : gzip the files\n",
    "        # -s n : convert all images in folder\n",
    "        # -x n : do not crop\n",
    "        # -b y : generate BIDS structure\n",
    "        # -ba y: BIDS anonimization\n",
    "        # -v 1 : verbose level 1\n",
    "        # -f XXX: renaming mask here (or just output file name) \n",
    "        # -o YY : output folder YY\n",
    "        # input folder XX ALWAYS needs to be the last argument\n",
    "print('Niftii conversion done')"
   ]
  },
  {
   "cell_type": "code",
   "execution_count": null,
   "id": "27c46874-5c87-4104-ba0a-5b0a99a592b1",
   "metadata": {},
   "outputs": [],
   "source": []
  }
 ],
 "metadata": {
  "kernelspec": {
   "display_name": "achopin",
   "language": "python",
   "name": "achopin"
  },
  "language_info": {
   "codemirror_mode": {
    "name": "ipython",
    "version": 3
   },
   "file_extension": ".py",
   "mimetype": "text/x-python",
   "name": "python",
   "nbconvert_exporter": "python",
   "pygments_lexer": "ipython3",
   "version": "3.9.13"
  }
 },
 "nbformat": 4,
 "nbformat_minor": 5
}
