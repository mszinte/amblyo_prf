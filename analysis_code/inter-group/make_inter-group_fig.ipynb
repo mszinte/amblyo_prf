{
 "cells": [
  {
   "cell_type": "markdown",
   "id": "a075d668-7c28-4922-a768-ce5ae32162f1",
   "metadata": {},
   "source": [
    "### Inter-group figures"
   ]
  },
  {
   "cell_type": "code",
   "execution_count": 1,
   "id": "04d52c01-8797-4351-9575-6d9369bea3c1",
   "metadata": {},
   "outputs": [],
   "source": [
    "# General imports\n",
    "import os\n",
    "import sys\n",
    "import json\n",
    "import glob\n",
    "import ipdb\n",
    "import pandas as pd\n",
    "import numpy as np\n",
    "deb = ipdb.set_trace"
   ]
  },
  {
   "cell_type": "code",
   "execution_count": 2,
   "id": "2931da6d-6d0d-4cc9-a2c2-d6bd3419734b",
   "metadata": {},
   "outputs": [],
   "source": [
    "# Inputs\n",
    "data_dir = '/home/mszinte/disks/meso_S/data'\n",
    "code_dir = '/home/mszinte/disks/meso_H/projects'\n",
    "amblyo_dir = 'amblyo_prf'\n",
    "control_dir = 'RetinoMaps'\n",
    "\n",
    "# Personal import\n",
    "sys.path.append(\"{}/{}/analysis_code/utils\".format(code_dir, amblyo_dir))\n",
    "from plot_utils import *\n",
    "\n",
    "# load amblyo settings\n",
    "with open('{}/{}/analysis_code/settings.json'.format(code_dir, amblyo_dir)) as f:\n",
    "    json_s = f.read()\n",
    "    amblyo_analysis_info = json.loads(json_s)\n",
    "amblyo_subjects = amblyo_analysis_info['subjects_patient']\n",
    "strab_subjects = amblyo_analysis_info['subjects_strab']\n",
    "aniso_subjects = amblyo_analysis_info['subjects_aniso']\n",
    "mixed_subjects = amblyo_analysis_info['subjects_mixed']\n",
    "formats = amblyo_analysis_info['formats']\n",
    "foveal_bound = amblyo_analysis_info['foveal_bound']\n",
    "rois = amblyo_analysis_info['rois']\n",
    "\n",
    "# load control settings\n",
    "with open('{}/{}/analysis_code/settings.json'.format(code_dir, control_dir)) as f:\n",
    "    json_s = f.read()\n",
    "    control_analysis_info = json.loads(json_s)\n",
    "control_subjects = control_analysis_info['subjects']\n",
    "\n",
    "# define analysis settings\n",
    "datasets = ['amblyo', 'control']\n",
    "ecc_categories = ['foveal', 'peripheral']\n",
    "\n",
    "# Figure settings\n",
    "colormap_dict = {'V1': (243, 231, 155),\n",
    "                 'V2': (250, 196, 132),\n",
    "                 'V3': (248, 160, 126),\n",
    "                 'V3AB': (235, 127, 134),\n",
    "                 'LO': (150, 0, 90), \n",
    "                 'VO': (0, 0, 200),\n",
    "                 'hMT+': (0, 25, 255),\n",
    "                 'iIPS': (0, 152, 255),\n",
    "                 'sIPS': (44, 255, 150),\n",
    "                }\n",
    "roi_colors = ['rgb({},{},{})'.format(*rgb) for rgb in colormap_dict.values()]\n",
    "plot_groups = [['V1', 'V2', 'V3'], ['V3AB', 'LO', 'VO'], ['hMT+', 'iIPS', 'sIPS']]\n",
    "num_ecc_size_bins = 6\n",
    "num_ecc_pcm_bins = 6\n",
    "num_polar_angle_bins = 9\n",
    "max_ecc = 15\n",
    "fig_width = 1080"
   ]
  },
  {
   "cell_type": "markdown",
   "id": "482f1bbb-6676-4c5f-9b8f-1084b03d1c4b",
   "metadata": {},
   "source": [
    "#### PRF eccentricity category (foveal/peripheral)"
   ]
  },
  {
   "cell_type": "code",
   "execution_count": 3,
   "id": "836d41ef-64b1-4c94-ac8b-ef3128be7b92",
   "metadata": {},
   "outputs": [
    {
     "ename": "NameError",
     "evalue": "name 'ffff' is not defined",
     "output_type": "error",
     "traceback": [
      "\u001b[0;31m---------------------------------------------------------------------------\u001b[0m",
      "\u001b[0;31mNameError\u001b[0m                                 Traceback (most recent call last)",
      "Input \u001b[0;32mIn [3]\u001b[0m, in \u001b[0;36m<cell line: 2>\u001b[0;34m()\u001b[0m\n\u001b[1;32m     15\u001b[0m tsv_amblyo_type_fn \u001b[38;5;241m=\u001b[39m \u001b[38;5;124m\"\u001b[39m\u001b[38;5;132;01m{}\u001b[39;00m\u001b[38;5;124m/inter-group_prf_ecc_cat_amblyo_type.tsv\u001b[39m\u001b[38;5;124m\"\u001b[39m\u001b[38;5;241m.\u001b[39mformat(tsv_dir_intergroup)\n\u001b[1;32m     16\u001b[0m df_amblyo_type \u001b[38;5;241m=\u001b[39m pd\u001b[38;5;241m.\u001b[39mread_table(tsv_subject_type_fn, sep\u001b[38;5;241m=\u001b[39m\u001b[38;5;124m\"\u001b[39m\u001b[38;5;130;01m\\t\u001b[39;00m\u001b[38;5;124m\"\u001b[39m)\n\u001b[0;32m---> 18\u001b[0m \u001b[43mffff\u001b[49m\n\u001b[1;32m     19\u001b[0m \u001b[38;5;66;03m# pRF eccentricity category\u001b[39;00m\n\u001b[1;32m     20\u001b[0m \u001b[38;5;28;01mfor\u001b[39;00m comp_group \u001b[38;5;129;01min\u001b[39;00m [\u001b[38;5;124m'\u001b[39m\u001b[38;5;124mpatient\u001b[39m\u001b[38;5;124m'\u001b[39m, \u001b[38;5;124m'\u001b[39m\u001b[38;5;124maniso\u001b[39m\u001b[38;5;124m'\u001b[39m, \u001b[38;5;124m'\u001b[39m\u001b[38;5;124mstrab\u001b[39m\u001b[38;5;124m'\u001b[39m, \u001b[38;5;124m'\u001b[39m\u001b[38;5;124mmixed\u001b[39m\u001b[38;5;124m'\u001b[39m]:\n",
      "\u001b[0;31mNameError\u001b[0m: name 'ffff' is not defined"
     ]
    }
   ],
   "source": [
    "# Get data of all subjects and combined them\n",
    "for format_ in formats:\n",
    "\n",
    "    # Define figure directory\n",
    "    fig_dir = '{}/{}/derivatives/pp_data/inter-group/{}/figures'.format(\n",
    "        data_dir, amblyo_dir, format_)\n",
    "    os.makedirs(fig_dir, exist_ok=True)\n",
    "\n",
    "    # TSV loading \n",
    "    tsv_dir_intergroup = '{}/{}/derivatives/pp_data/inter-group/{}/tsv'.format(data_dir, amblyo_dir, format_)\n",
    "    \n",
    "    tsv_subject_type_fn = \"{}/inter-group_prf_ecc_cat_subject_type.tsv\".format(tsv_dir_intergroup)\n",
    "    df_subject_type = pd.read_table(tsv_subject_type_fn, sep=\"\\t\")\n",
    "\n",
    "    tsv_amblyo_type_fn = \"{}/inter-group_prf_ecc_cat_amblyo_type.tsv\".format(tsv_dir_intergroup)\n",
    "    df_amblyo_type = pd.read_table(tsv_subject_type_fn, sep=\"\\t\")\n",
    "\n",
    "    ffff\n",
    "    # pRF eccentricity category\n",
    "    for comp_group in ['patient', 'aniso', 'strab', 'mixed']:\n",
    "        if comp_group == 'patient': df_ecc_cat = df_subject_type\n",
    "        else: df_ecc_cat = df_amblyo_type\n",
    "            \n",
    "        fig = pRF_ecc_cat(df_ecc_cat=df_ecc_cat, fig_width=fig_width, fig_height=400, \n",
    "                          roi_colors=roi_colors, comp_group=comp_group)\n",
    "        fig_fn = \"{}/inter-group_{}_prf_ecc_cat.pdf\".format(fig_dir, comp_group)\n",
    "        print('Saving pdf: {}'.format(fig_fn))\n",
    "        fig.write_image(fig_fn)\n",
    "        \n",
    "\n",
    "    # pRF eccentricity category difference\n",
    "    for comp_group in ['patient', 'aniso', 'strab', 'mixed']:\n",
    "        if comp_group == 'patient': df_ecc_cat = df_subject_type\n",
    "        else: df_ecc_cat = df_amblyo_type\n",
    "            \n",
    "        fig = pRF_ecc_cat_diff(df_ecc_cat=df_ecc_cat, fig_width=fig_width, fig_height=400, \n",
    "                               roi_colors=roi_colors, comp_group=comp_group)\n",
    "        fig_fn = \"{}/inter-group_{}_prf_ecc_cat_diff.pdf\".format(fig_dir, comp_group)\n",
    "        print('Saving pdf: {}'.format(fig_fn))\n",
    "        fig.write_image(fig_fn)\n",
    "        \n",
    "# Define permission cmd\n",
    "print('Changing files permissions in {}/{}'.format(data_dir, amblyo_dir))\n",
    "os.system(\"chmod -Rf 771 {}/{}\".format(data_dir, amblyo_dir))\n",
    "os.system(\"chgrp -Rf {} {}/{}\".format(group, data_dir, amblyo_dir))"
   ]
  },
  {
   "cell_type": "code",
   "execution_count": 50,
   "id": "e9cd33d3-a1bd-4448-af41-41213eeec189",
   "metadata": {},
   "outputs": [
    {
     "data": {
      "application/vnd.plotly.v1+json": {
       "config": {
        "plotlyServerURL": "https://plot.ly"
       },
       "data": [
        {
         "error_y": {
          "array": [
           [
            0.5426698684746958
           ]
          ],
          "arrayminus": [
           [
            0.6057250595484965
           ]
          ],
          "color": "rgb(243,231,155)",
          "thickness": 3,
          "type": "data",
          "visible": true,
          "width": 0
         },
         "legendgroup": "patient",
         "marker": {
          "color": "rgb(243,231,155)",
          "line": {
           "color": "rgb(243,231,155)",
           "width": 3
          },
          "size": 12,
          "symbol": "square"
         },
         "mode": "markers",
         "name": "patient",
         "offsetgroup": "-1",
         "opacity": 1,
         "showlegend": true,
         "type": "scatter",
         "x": [
          "V1"
         ],
         "xaxis": "x",
         "y": [
          1.1238089529193156
         ],
         "yaxis": "y"
        },
        {
         "error_y": {
          "array": [
           [
            0.22273594824334197
           ]
          ],
          "arrayminus": [
           [
            0.15131495023834063
           ]
          ],
          "color": "rgb(243,231,155)",
          "thickness": 3,
          "type": "data",
          "visible": true,
          "width": 0
         },
         "legendgroup": "control",
         "marker": {
          "color": "rgb(243,231,155)",
          "line": {
           "color": "rgb(243,231,155)",
           "width": 3
          },
          "size": 12,
          "symbol": "square"
         },
         "mode": "markers",
         "name": "control",
         "offsetgroup": "1",
         "opacity": 0.4,
         "showlegend": true,
         "type": "scatter",
         "x": [
          "V1"
         ],
         "xaxis": "x",
         "y": [
          0.9731659553212182
         ],
         "yaxis": "y"
        },
        {
         "error_y": {
          "array": [
           [
            4.112031363636634
           ]
          ],
          "arrayminus": [
           [
            1.6526579077952315
           ]
          ],
          "color": "rgb(243,231,155)",
          "thickness": 3,
          "type": "data",
          "visible": true,
          "width": 0
         },
         "legendgroup": "patient",
         "marker": {
          "color": "rgb(243,231,155)",
          "line": {
           "color": "rgb(243,231,155)",
           "width": 3
          },
          "size": 12,
          "symbol": "square"
         },
         "mode": "markers",
         "name": "patient",
         "offsetgroup": "-1",
         "opacity": 1,
         "showlegend": false,
         "type": "scatter",
         "x": [
          "V1"
         ],
         "xaxis": "x2",
         "y": [
          5.061237911133544
         ],
         "yaxis": "y2"
        },
        {
         "error_y": {
          "array": [
           [
            1.0813718284808198
           ]
          ],
          "arrayminus": [
           [
            0.5437226953207879
           ]
          ],
          "color": "rgb(243,231,155)",
          "thickness": 3,
          "type": "data",
          "visible": true,
          "width": 0
         },
         "legendgroup": "control",
         "marker": {
          "color": "rgb(243,231,155)",
          "line": {
           "color": "rgb(243,231,155)",
           "width": 3
          },
          "size": 12,
          "symbol": "square"
         },
         "mode": "markers",
         "name": "control",
         "offsetgroup": "1",
         "opacity": 0.4,
         "showlegend": false,
         "type": "scatter",
         "x": [
          "V1"
         ],
         "xaxis": "x2",
         "y": [
          3.8610182641444446
         ],
         "yaxis": "y2"
        },
        {
         "error_y": {
          "array": [
           [
            2.156657815781295
           ]
          ],
          "arrayminus": [
           [
            2.336675135719288
           ]
          ],
          "color": "rgb(243,231,155)",
          "thickness": 3,
          "type": "data",
          "visible": true,
          "width": 0
         },
         "legendgroup": "patient",
         "marker": {
          "color": "rgb(243,231,155)",
          "line": {
           "color": "rgb(243,231,155)",
           "width": 3
          },
          "size": 12,
          "symbol": "square"
         },
         "mode": "markers",
         "name": "patient",
         "offsetgroup": "-1",
         "opacity": 1,
         "showlegend": false,
         "type": "scatter",
         "x": [
          "V1"
         ],
         "xaxis": "x3",
         "y": [
          3.0508994303018397
         ],
         "yaxis": "y3"
        },
        {
         "error_y": {
          "array": [
           [
            3.081688789576779
           ]
          ],
          "arrayminus": [
           [
            3.3458157669482036
           ]
          ],
          "color": "rgb(243,231,155)",
          "thickness": 3,
          "type": "data",
          "visible": true,
          "width": 0
         },
         "legendgroup": "control",
         "marker": {
          "color": "rgb(243,231,155)",
          "line": {
           "color": "rgb(243,231,155)",
           "width": 3
          },
          "size": 12,
          "symbol": "square"
         },
         "mode": "markers",
         "name": "control",
         "offsetgroup": "1",
         "opacity": 0.4,
         "showlegend": false,
         "type": "scatter",
         "x": [
          "V1"
         ],
         "xaxis": "x3",
         "y": [
          10.362728852200526
         ],
         "yaxis": "y3"
        },
        {
         "error_y": {
          "array": [
           [
            2.921118355259245
           ]
          ],
          "arrayminus": [
           [
            2.031688782395263
           ]
          ],
          "color": "rgb(243,231,155)",
          "thickness": 3,
          "type": "data",
          "visible": true,
          "width": 0
         },
         "legendgroup": "patient",
         "marker": {
          "color": "rgb(243,231,155)",
          "line": {
           "color": "rgb(243,231,155)",
           "width": 3
          },
          "size": 12,
          "symbol": "square"
         },
         "mode": "markers",
         "name": "patient",
         "offsetgroup": "-1",
         "opacity": 1,
         "showlegend": false,
         "type": "scatter",
         "x": [
          "V1"
         ],
         "xaxis": "x4",
         "y": [
          2.453900624089356
         ],
         "yaxis": "y4"
        },
        {
         "error_y": {
          "array": [
           [
            1.4405000262965741
           ]
          ],
          "arrayminus": [
           [
            1.022316371016338
           ]
          ],
          "color": "rgb(243,231,155)",
          "thickness": 3,
          "type": "data",
          "visible": true,
          "width": 0
         },
         "legendgroup": "control",
         "marker": {
          "color": "rgb(243,231,155)",
          "line": {
           "color": "rgb(243,231,155)",
           "width": 3
          },
          "size": 12,
          "symbol": "square"
         },
         "mode": "markers",
         "name": "control",
         "offsetgroup": "1",
         "opacity": 0.4,
         "showlegend": false,
         "type": "scatter",
         "x": [
          "V1"
         ],
         "xaxis": "x4",
         "y": [
          1.5983429074169904
         ],
         "yaxis": "y4"
        },
        {
         "error_y": {
          "array": [
           [
            0.1316794841865768
           ]
          ],
          "arrayminus": [
           [
            0.1328653251572428
           ]
          ],
          "color": "rgb(243,231,155)",
          "thickness": 3,
          "type": "data",
          "visible": true,
          "width": 0
         },
         "legendgroup": "patient",
         "marker": {
          "color": "rgb(243,231,155)",
          "line": {
           "color": "rgb(243,231,155)",
           "width": 3
          },
          "size": 12,
          "symbol": "square"
         },
         "mode": "markers",
         "name": "patient",
         "offsetgroup": "-1",
         "opacity": 1,
         "showlegend": false,
         "type": "scatter",
         "x": [
          "V1"
         ],
         "xaxis": "x5",
         "y": [
          0.1994336836496566
         ],
         "yaxis": "y5"
        },
        {
         "error_y": {
          "array": [
           [
            0.09238621846739375
           ]
          ],
          "arrayminus": [
           [
            0.09217162146067842
           ]
          ],
          "color": "rgb(243,231,155)",
          "thickness": 3,
          "type": "data",
          "visible": true,
          "width": 0
         },
         "legendgroup": "control",
         "marker": {
          "color": "rgb(243,231,155)",
          "line": {
           "color": "rgb(243,231,155)",
           "width": 3
          },
          "size": 12,
          "symbol": "square"
         },
         "mode": "markers",
         "name": "control",
         "offsetgroup": "1",
         "opacity": 0.4,
         "showlegend": false,
         "type": "scatter",
         "x": [
          "V1"
         ],
         "xaxis": "x5",
         "y": [
          0.4564397664361473
         ],
         "yaxis": "y5"
        },
        {
         "error_y": {
          "array": [
           [
            0.1526782573567224
           ]
          ],
          "arrayminus": [
           [
            0.1076143911390374
           ]
          ],
          "color": "rgb(243,231,155)",
          "thickness": 3,
          "type": "data",
          "visible": true,
          "width": 0
         },
         "legendgroup": "patient",
         "marker": {
          "color": "rgb(243,231,155)",
          "line": {
           "color": "rgb(243,231,155)",
           "width": 3
          },
          "size": 12,
          "symbol": "square"
         },
         "mode": "markers",
         "name": "patient",
         "offsetgroup": "-1",
         "opacity": 1,
         "showlegend": false,
         "type": "scatter",
         "x": [
          "V1"
         ],
         "xaxis": "x6",
         "y": [
          0.2364247634854867
         ],
         "yaxis": "y6"
        },
        {
         "error_y": {
          "array": [
           [
            0.12152211675250169
           ]
          ],
          "arrayminus": [
           [
            0.122166815251953
           ]
          ],
          "color": "rgb(243,231,155)",
          "thickness": 3,
          "type": "data",
          "visible": true,
          "width": 0
         },
         "legendgroup": "control",
         "marker": {
          "color": "rgb(243,231,155)",
          "line": {
           "color": "rgb(243,231,155)",
           "width": 3
          },
          "size": 12,
          "symbol": "square"
         },
         "mode": "markers",
         "name": "control",
         "offsetgroup": "1",
         "opacity": 0.4,
         "showlegend": false,
         "type": "scatter",
         "x": [
          "V1"
         ],
         "xaxis": "x6",
         "y": [
          0.2812756529774762
         ],
         "yaxis": "y6"
        },
        {
         "error_y": {
          "array": [
           [
            10.732304412355747
           ]
          ],
          "arrayminus": [
           [
            9.101456516887124
           ]
          ],
          "color": "rgb(243,231,155)",
          "thickness": 3,
          "type": "data",
          "visible": true,
          "width": 0
         },
         "legendgroup": "patient",
         "marker": {
          "color": "rgb(243,231,155)",
          "line": {
           "color": "rgb(243,231,155)",
           "width": 3
          },
          "size": 12,
          "symbol": "square"
         },
         "mode": "markers",
         "name": "patient",
         "offsetgroup": "-1",
         "opacity": 1,
         "showlegend": false,
         "type": "scatter",
         "x": [
          "V1"
         ],
         "xaxis": "x7",
         "y": [
          10.324529875564624
         ],
         "yaxis": "y7"
        },
        {
         "error_y": {
          "array": [
           [
            8.063003073616517
           ]
          ],
          "arrayminus": [
           [
            7.786433577329625
           ]
          ],
          "color": "rgb(243,231,155)",
          "thickness": 3,
          "type": "data",
          "visible": true,
          "width": 0
         },
         "legendgroup": "control",
         "marker": {
          "color": "rgb(243,231,155)",
          "line": {
           "color": "rgb(243,231,155)",
           "width": 3
          },
          "size": 12,
          "symbol": "square"
         },
         "mode": "markers",
         "name": "control",
         "offsetgroup": "1",
         "opacity": 0.4,
         "showlegend": false,
         "type": "scatter",
         "x": [
          "V1"
         ],
         "xaxis": "x7",
         "y": [
          24.0902160373475
         ],
         "yaxis": "y7"
        },
        {
         "error_y": {
          "array": [
           [
            6.659024035543749
           ]
          ],
          "arrayminus": [
           [
            4.264088734498625
           ]
          ],
          "color": "rgb(243,231,155)",
          "thickness": 3,
          "type": "data",
          "visible": true,
          "width": 0
         },
         "legendgroup": "patient",
         "marker": {
          "color": "rgb(243,231,155)",
          "line": {
           "color": "rgb(243,231,155)",
           "width": 3
          },
          "size": 12,
          "symbol": "square"
         },
         "mode": "markers",
         "name": "patient",
         "offsetgroup": "-1",
         "opacity": 1,
         "showlegend": false,
         "type": "scatter",
         "x": [
          "V1"
         ],
         "xaxis": "x8",
         "y": [
          5.763000793244875
         ],
         "yaxis": "y8"
        },
        {
         "error_y": {
          "array": [
           [
            2.704010947161023
           ]
          ],
          "arrayminus": [
           [
            1.6335555816252
           ]
          ],
          "color": "rgb(243,231,155)",
          "thickness": 3,
          "type": "data",
          "visible": true,
          "width": 0
         },
         "legendgroup": "control",
         "marker": {
          "color": "rgb(243,231,155)",
          "line": {
           "color": "rgb(243,231,155)",
           "width": 3
          },
          "size": 12,
          "symbol": "square"
         },
         "mode": "markers",
         "name": "control",
         "offsetgroup": "1",
         "opacity": 0.4,
         "showlegend": false,
         "type": "scatter",
         "x": [
          "V1"
         ],
         "xaxis": "x8",
         "y": [
          2.11768728397695
         ],
         "yaxis": "y8"
        },
        {
         "error_y": {
          "array": [
           [
            0.4973283126540169
           ]
          ],
          "arrayminus": [
           [
            0.6639999954214527
           ]
          ],
          "color": "rgb(250,196,132)",
          "thickness": 3,
          "type": "data",
          "visible": true,
          "width": 0
         },
         "legendgroup": "patient",
         "marker": {
          "color": "rgb(250,196,132)",
          "line": {
           "color": "rgb(250,196,132)",
           "width": 3
          },
          "size": 12,
          "symbol": "square"
         },
         "mode": "markers",
         "name": "patient",
         "offsetgroup": "-1",
         "opacity": 1,
         "showlegend": false,
         "type": "scatter",
         "x": [
          "V2"
         ],
         "xaxis": "x",
         "y": [
          1.3128227938226391
         ],
         "yaxis": "y"
        },
        {
         "error_y": {
          "array": [
           [
            0.2002748864126761
           ]
          ],
          "arrayminus": [
           [
            0.11324067014557782
           ]
          ],
          "color": "rgb(250,196,132)",
          "thickness": 3,
          "type": "data",
          "visible": true,
          "width": 0
         },
         "legendgroup": "control",
         "marker": {
          "color": "rgb(250,196,132)",
          "line": {
           "color": "rgb(250,196,132)",
           "width": 3
          },
          "size": 12,
          "symbol": "square"
         },
         "mode": "markers",
         "name": "control",
         "offsetgroup": "1",
         "opacity": 0.4,
         "showlegend": false,
         "type": "scatter",
         "x": [
          "V2"
         ],
         "xaxis": "x",
         "y": [
          0.9627885913017028
         ],
         "yaxis": "y"
        },
        {
         "error_y": {
          "array": [
           [
            3.7675027106331482
           ]
          ],
          "arrayminus": [
           [
            1.601571251221951
           ]
          ],
          "color": "rgb(250,196,132)",
          "thickness": 3,
          "type": "data",
          "visible": true,
          "width": 0
         },
         "legendgroup": "patient",
         "marker": {
          "color": "rgb(250,196,132)",
          "line": {
           "color": "rgb(250,196,132)",
           "width": 3
          },
          "size": 12,
          "symbol": "square"
         },
         "mode": "markers",
         "name": "patient",
         "offsetgroup": "-1",
         "opacity": 1,
         "showlegend": false,
         "type": "scatter",
         "x": [
          "V2"
         ],
         "xaxis": "x2",
         "y": [
          5.123737901521413
         ],
         "yaxis": "y2"
        },
        {
         "error_y": {
          "array": [
           [
            0.899512215199711
           ]
          ],
          "arrayminus": [
           [
            0.39525210310191605
           ]
          ],
          "color": "rgb(250,196,132)",
          "thickness": 3,
          "type": "data",
          "visible": true,
          "width": 0
         },
         "legendgroup": "control",
         "marker": {
          "color": "rgb(250,196,132)",
          "line": {
           "color": "rgb(250,196,132)",
           "width": 3
          },
          "size": 12,
          "symbol": "square"
         },
         "mode": "markers",
         "name": "control",
         "offsetgroup": "1",
         "opacity": 0.4,
         "showlegend": false,
         "type": "scatter",
         "x": [
          "V2"
         ],
         "xaxis": "x2",
         "y": [
          3.50586346138716
         ],
         "yaxis": "y2"
        },
        {
         "error_y": {
          "array": [
           [
            2.0753242949609905
           ]
          ],
          "arrayminus": [
           [
            2.2982076967476073
           ]
          ],
          "color": "rgb(250,196,132)",
          "thickness": 3,
          "type": "data",
          "visible": true,
          "width": 0
         },
         "legendgroup": "patient",
         "marker": {
          "color": "rgb(250,196,132)",
          "line": {
           "color": "rgb(250,196,132)",
           "width": 3
          },
          "size": 12,
          "symbol": "square"
         },
         "mode": "markers",
         "name": "patient",
         "offsetgroup": "-1",
         "opacity": 1,
         "showlegend": false,
         "type": "scatter",
         "x": [
          "V2"
         ],
         "xaxis": "x3",
         "y": [
          2.913616862940429
         ],
         "yaxis": "y3"
        },
        {
         "error_y": {
          "array": [
           [
            2.1663614691272777
           ]
          ],
          "arrayminus": [
           [
            2.72029728946762
           ]
          ],
          "color": "rgb(250,196,132)",
          "thickness": 3,
          "type": "data",
          "visible": true,
          "width": 0
         },
         "legendgroup": "control",
         "marker": {
          "color": "rgb(250,196,132)",
          "line": {
           "color": "rgb(250,196,132)",
           "width": 3
          },
          "size": 12,
          "symbol": "square"
         },
         "mode": "markers",
         "name": "control",
         "offsetgroup": "1",
         "opacity": 0.4,
         "showlegend": false,
         "type": "scatter",
         "x": [
          "V2"
         ],
         "xaxis": "x3",
         "y": [
          12.004403110354929
         ],
         "yaxis": "y3"
        },
        {
         "error_y": {
          "array": [
           [
            2.22048105341292
           ]
          ],
          "arrayminus": [
           [
            1.5737697439136524
           ]
          ],
          "color": "rgb(250,196,132)",
          "thickness": 3,
          "type": "data",
          "visible": true,
          "width": 0
         },
         "legendgroup": "patient",
         "marker": {
          "color": "rgb(250,196,132)",
          "line": {
           "color": "rgb(250,196,132)",
           "width": 3
          },
          "size": 12,
          "symbol": "square"
         },
         "mode": "markers",
         "name": "patient",
         "offsetgroup": "-1",
         "opacity": 1,
         "showlegend": false,
         "type": "scatter",
         "x": [
          "V2"
         ],
         "xaxis": "x4",
         "y": [
          2.146710591141261
         ],
         "yaxis": "y4"
        },
        {
         "error_y": {
          "array": [
           [
            3.656623327404951
           ]
          ],
          "arrayminus": [
           [
            1.4409150631397072
           ]
          ],
          "color": "rgb(250,196,132)",
          "thickness": 3,
          "type": "data",
          "visible": true,
          "width": 0
         },
         "legendgroup": "control",
         "marker": {
          "color": "rgb(250,196,132)",
          "line": {
           "color": "rgb(250,196,132)",
           "width": 3
          },
          "size": 12,
          "symbol": "square"
         },
         "mode": "markers",
         "name": "control",
         "offsetgroup": "1",
         "opacity": 0.4,
         "showlegend": false,
         "type": "scatter",
         "x": [
          "V2"
         ],
         "xaxis": "x4",
         "y": [
          2.042513893125978
         ],
         "yaxis": "y4"
        },
        {
         "error_y": {
          "array": [
           [
            0.10566256855007322
           ]
          ],
          "arrayminus": [
           [
            0.1345417199039982
           ]
          ],
          "color": "rgb(250,196,132)",
          "thickness": 3,
          "type": "data",
          "visible": true,
          "width": 0
         },
         "legendgroup": "patient",
         "marker": {
          "color": "rgb(250,196,132)",
          "line": {
           "color": "rgb(250,196,132)",
           "width": 3
          },
          "size": 12,
          "symbol": "square"
         },
         "mode": "markers",
         "name": "patient",
         "offsetgroup": "-1",
         "opacity": 1,
         "showlegend": false,
         "type": "scatter",
         "x": [
          "V2"
         ],
         "xaxis": "x5",
         "y": [
          0.1975329780810336
         ],
         "yaxis": "y5"
        },
        {
         "error_y": {
          "array": [
           [
            0.08252078700492133
           ]
          ],
          "arrayminus": [
           [
            0.1025883642317445
           ]
          ],
          "color": "rgb(250,196,132)",
          "thickness": 3,
          "type": "data",
          "visible": true,
          "width": 0
         },
         "legendgroup": "control",
         "marker": {
          "color": "rgb(250,196,132)",
          "line": {
           "color": "rgb(250,196,132)",
           "width": 3
          },
          "size": 12,
          "symbol": "square"
         },
         "mode": "markers",
         "name": "control",
         "offsetgroup": "1",
         "opacity": 0.4,
         "showlegend": false,
         "type": "scatter",
         "x": [
          "V2"
         ],
         "xaxis": "x5",
         "y": [
          0.4308855730542806
         ],
         "yaxis": "y5"
        },
        {
         "error_y": {
          "array": [
           [
            0.09343987574032589
           ]
          ],
          "arrayminus": [
           [
            0.124835362856305
           ]
          ],
          "color": "rgb(250,196,132)",
          "thickness": 3,
          "type": "data",
          "visible": true,
          "width": 0
         },
         "legendgroup": "patient",
         "marker": {
          "color": "rgb(250,196,132)",
          "line": {
           "color": "rgb(250,196,132)",
           "width": 3
          },
          "size": 12,
          "symbol": "square"
         },
         "mode": "markers",
         "name": "patient",
         "offsetgroup": "-1",
         "opacity": 1,
         "showlegend": false,
         "type": "scatter",
         "x": [
          "V2"
         ],
         "xaxis": "x6",
         "y": [
          0.2456179073534592
         ],
         "yaxis": "y6"
        },
        {
         "error_y": {
          "array": [
           [
            0.11748863395899012
           ]
          ],
          "arrayminus": [
           [
            0.10428694020706811
           ]
          ],
          "color": "rgb(250,196,132)",
          "thickness": 3,
          "type": "data",
          "visible": true,
          "width": 0
         },
         "legendgroup": "control",
         "marker": {
          "color": "rgb(250,196,132)",
          "line": {
           "color": "rgb(250,196,132)",
           "width": 3
          },
          "size": 12,
          "symbol": "square"
         },
         "mode": "markers",
         "name": "control",
         "offsetgroup": "1",
         "opacity": 0.4,
         "showlegend": false,
         "type": "scatter",
         "x": [
          "V2"
         ],
         "xaxis": "x6",
         "y": [
          0.2257875767487576
         ],
         "yaxis": "y6"
        },
        {
         "error_y": {
          "array": [
           [
            8.662582411961935
           ]
          ],
          "arrayminus": [
           [
            7.294410268496687
           ]
          ],
          "color": "rgb(250,196,132)",
          "thickness": 3,
          "type": "data",
          "visible": true,
          "width": 0
         },
         "legendgroup": "patient",
         "marker": {
          "color": "rgb(250,196,132)",
          "line": {
           "color": "rgb(250,196,132)",
           "width": 3
          },
          "size": 12,
          "symbol": "square"
         },
         "mode": "markers",
         "name": "patient",
         "offsetgroup": "-1",
         "opacity": 1,
         "showlegend": false,
         "type": "scatter",
         "x": [
          "V2"
         ],
         "xaxis": "x7",
         "y": [
          7.8435246228248126
         ],
         "yaxis": "y7"
        },
        {
         "error_y": {
          "array": [
           [
            5.38968671710407
           ]
          ],
          "arrayminus": [
           [
            6.059078500223478
           ]
          ],
          "color": "rgb(250,196,132)",
          "thickness": 3,
          "type": "data",
          "visible": true,
          "width": 0
         },
         "legendgroup": "control",
         "marker": {
          "color": "rgb(250,196,132)",
          "line": {
           "color": "rgb(250,196,132)",
           "width": 3
          },
          "size": 12,
          "symbol": "square"
         },
         "mode": "markers",
         "name": "control",
         "offsetgroup": "1",
         "opacity": 0.4,
         "showlegend": false,
         "type": "scatter",
         "x": [
          "V2"
         ],
         "xaxis": "x7",
         "y": [
          22.4615212483774
         ],
         "yaxis": "y7"
        },
        {
         "error_y": {
          "array": [
           [
            4.069434211216437
           ]
          ],
          "arrayminus": [
           [
            3.8070834534871874
           ]
          ],
          "color": "rgb(250,196,132)",
          "thickness": 3,
          "type": "data",
          "visible": true,
          "width": 0
         },
         "legendgroup": "patient",
         "marker": {
          "color": "rgb(250,196,132)",
          "line": {
           "color": "rgb(250,196,132)",
           "width": 3
          },
          "size": 12,
          "symbol": "square"
         },
         "mode": "markers",
         "name": "patient",
         "offsetgroup": "-1",
         "opacity": 1,
         "showlegend": false,
         "type": "scatter",
         "x": [
          "V2"
         ],
         "xaxis": "x8",
         "y": [
          5.887828000619687
         ],
         "yaxis": "y8"
        },
        {
         "error_y": {
          "array": [
           [
            2.4425227860704983
           ]
          ],
          "arrayminus": [
           [
            1.0043152744295
           ]
          ],
          "color": "rgb(250,196,132)",
          "thickness": 3,
          "type": "data",
          "visible": true,
          "width": 0
         },
         "legendgroup": "control",
         "marker": {
          "color": "rgb(250,196,132)",
          "line": {
           "color": "rgb(250,196,132)",
           "width": 3
          },
          "size": 12,
          "symbol": "square"
         },
         "mode": "markers",
         "name": "control",
         "offsetgroup": "1",
         "opacity": 0.4,
         "showlegend": false,
         "type": "scatter",
         "x": [
          "V2"
         ],
         "xaxis": "x8",
         "y": [
          1.154223807557
         ],
         "yaxis": "y8"
        },
        {
         "error_y": {
          "array": [
           [
            0.5284512665532186
           ]
          ],
          "arrayminus": [
           [
            0.6029694631792087
           ]
          ],
          "color": "rgb(248,160,126)",
          "thickness": 3,
          "type": "data",
          "visible": true,
          "width": 0
         },
         "legendgroup": "patient",
         "marker": {
          "color": "rgb(248,160,126)",
          "line": {
           "color": "rgb(248,160,126)",
           "width": 3
          },
          "size": 12,
          "symbol": "square"
         },
         "mode": "markers",
         "name": "patient",
         "offsetgroup": "-1",
         "opacity": 1,
         "showlegend": false,
         "type": "scatter",
         "x": [
          "V3"
         ],
         "xaxis": "x",
         "y": [
          1.2903054994478134
         ],
         "yaxis": "y"
        },
        {
         "error_y": {
          "array": [
           [
            0.23874601319256827
           ]
          ],
          "arrayminus": [
           [
            0.22392519457975313
           ]
          ],
          "color": "rgb(248,160,126)",
          "thickness": 3,
          "type": "data",
          "visible": true,
          "width": 0
         },
         "legendgroup": "control",
         "marker": {
          "color": "rgb(248,160,126)",
          "line": {
           "color": "rgb(248,160,126)",
           "width": 3
          },
          "size": 12,
          "symbol": "square"
         },
         "mode": "markers",
         "name": "control",
         "offsetgroup": "1",
         "opacity": 0.4,
         "showlegend": false,
         "type": "scatter",
         "x": [
          "V3"
         ],
         "xaxis": "x",
         "y": [
          1.1403051770656023
         ],
         "yaxis": "y"
        },
        {
         "error_y": {
          "array": [
           [
            4.158807756481181
           ]
          ],
          "arrayminus": [
           [
            1.8682480022879697
           ]
          ],
          "color": "rgb(248,160,126)",
          "thickness": 3,
          "type": "data",
          "visible": true,
          "width": 0
         },
         "legendgroup": "patient",
         "marker": {
          "color": "rgb(248,160,126)",
          "line": {
           "color": "rgb(248,160,126)",
           "width": 3
          },
          "size": 12,
          "symbol": "square"
         },
         "mode": "markers",
         "name": "patient",
         "offsetgroup": "-1",
         "opacity": 1,
         "showlegend": false,
         "type": "scatter",
         "x": [
          "V3"
         ],
         "xaxis": "x2",
         "y": [
          5.618701444792633
         ],
         "yaxis": "y2"
        },
        {
         "error_y": {
          "array": [
           [
            0.6725107937600998
           ]
          ],
          "arrayminus": [
           [
            0.36182410096803563
           ]
          ],
          "color": "rgb(248,160,126)",
          "thickness": 3,
          "type": "data",
          "visible": true,
          "width": 0
         },
         "legendgroup": "control",
         "marker": {
          "color": "rgb(248,160,126)",
          "line": {
           "color": "rgb(248,160,126)",
           "width": 3
          },
          "size": 12,
          "symbol": "square"
         },
         "mode": "markers",
         "name": "control",
         "offsetgroup": "1",
         "opacity": 0.4,
         "showlegend": false,
         "type": "scatter",
         "x": [
          "V3"
         ],
         "xaxis": "x2",
         "y": [
          3.296540222883878
         ],
         "yaxis": "y2"
        },
        {
         "error_y": {
          "array": [
           [
            2.1227264383069486
           ]
          ],
          "arrayminus": [
           [
            2.171909126422492
           ]
          ],
          "color": "rgb(248,160,126)",
          "thickness": 3,
          "type": "data",
          "visible": true,
          "width": 0
         },
         "legendgroup": "patient",
         "marker": {
          "color": "rgb(248,160,126)",
          "line": {
           "color": "rgb(248,160,126)",
           "width": 3
          },
          "size": 12,
          "symbol": "square"
         },
         "mode": "markers",
         "name": "patient",
         "offsetgroup": "-1",
         "opacity": 1,
         "showlegend": false,
         "type": "scatter",
         "x": [
          "V3"
         ],
         "xaxis": "x3",
         "y": [
          2.857478676687037
         ],
         "yaxis": "y3"
        },
        {
         "error_y": {
          "array": [
           [
            2.3843184055393305
           ]
          ],
          "arrayminus": [
           [
            2.9975130789688427
           ]
          ],
          "color": "rgb(248,160,126)",
          "thickness": 3,
          "type": "data",
          "visible": true,
          "width": 0
         },
         "legendgroup": "control",
         "marker": {
          "color": "rgb(248,160,126)",
          "line": {
           "color": "rgb(248,160,126)",
           "width": 3
          },
          "size": 12,
          "symbol": "square"
         },
         "mode": "markers",
         "name": "control",
         "offsetgroup": "1",
         "opacity": 0.4,
         "showlegend": false,
         "type": "scatter",
         "x": [
          "V3"
         ],
         "xaxis": "x3",
         "y": [
          10.945412061304808
         ],
         "yaxis": "y3"
        },
        {
         "error_y": {
          "array": [
           [
            1.6013420407881824
           ]
          ],
          "arrayminus": [
           [
            1.431392517112301
           ]
          ],
          "color": "rgb(248,160,126)",
          "thickness": 3,
          "type": "data",
          "visible": true,
          "width": 0
         },
         "legendgroup": "patient",
         "marker": {
          "color": "rgb(248,160,126)",
          "line": {
           "color": "rgb(248,160,126)",
           "width": 3
          },
          "size": 12,
          "symbol": "square"
         },
         "mode": "markers",
         "name": "patient",
         "offsetgroup": "-1",
         "opacity": 1,
         "showlegend": false,
         "type": "scatter",
         "x": [
          "V3"
         ],
         "xaxis": "x4",
         "y": [
          1.898666751097593
         ],
         "yaxis": "y4"
        },
        {
         "error_y": {
          "array": [
           [
            3.549307482738563
           ]
          ],
          "arrayminus": [
           [
            1.9782037704552882
           ]
          ],
          "color": "rgb(248,160,126)",
          "thickness": 3,
          "type": "data",
          "visible": true,
          "width": 0
         },
         "legendgroup": "control",
         "marker": {
          "color": "rgb(248,160,126)",
          "line": {
           "color": "rgb(248,160,126)",
           "width": 3
          },
          "size": 12,
          "symbol": "square"
         },
         "mode": "markers",
         "name": "control",
         "offsetgroup": "1",
         "opacity": 0.4,
         "showlegend": false,
         "type": "scatter",
         "x": [
          "V3"
         ],
         "xaxis": "x4",
         "y": [
          2.840677534866288
         ],
         "yaxis": "y4"
        },
        {
         "error_y": {
          "array": [
           [
            0.1160717977464453
           ]
          ],
          "arrayminus": [
           [
            0.12224785577350689
           ]
          ],
          "color": "rgb(248,160,126)",
          "thickness": 3,
          "type": "data",
          "visible": true,
          "width": 0
         },
         "legendgroup": "patient",
         "marker": {
          "color": "rgb(248,160,126)",
          "line": {
           "color": "rgb(248,160,126)",
           "width": 3
          },
          "size": 12,
          "symbol": "square"
         },
         "mode": "markers",
         "name": "patient",
         "offsetgroup": "-1",
         "opacity": 1,
         "showlegend": false,
         "type": "scatter",
         "x": [
          "V3"
         ],
         "xaxis": "x5",
         "y": [
          0.1701571835637201
         ],
         "yaxis": "y5"
        },
        {
         "error_y": {
          "array": [
           [
            0.07842221259316634
           ]
          ],
          "arrayminus": [
           [
            0.09493803439958337
           ]
          ],
          "color": "rgb(248,160,126)",
          "thickness": 3,
          "type": "data",
          "visible": true,
          "width": 0
         },
         "legendgroup": "control",
         "marker": {
          "color": "rgb(248,160,126)",
          "line": {
           "color": "rgb(248,160,126)",
           "width": 3
          },
          "size": 12,
          "symbol": "square"
         },
         "mode": "markers",
         "name": "control",
         "offsetgroup": "1",
         "opacity": 0.4,
         "showlegend": false,
         "type": "scatter",
         "x": [
          "V3"
         ],
         "xaxis": "x5",
         "y": [
          0.4198371006321169
         ],
         "yaxis": "y5"
        },
        {
         "error_y": {
          "array": [
           [
            0.0887608685808943
           ]
          ],
          "arrayminus": [
           [
            0.0959759371266179
           ]
          ],
          "color": "rgb(248,160,126)",
          "thickness": 3,
          "type": "data",
          "visible": true,
          "width": 0
         },
         "legendgroup": "patient",
         "marker": {
          "color": "rgb(248,160,126)",
          "line": {
           "color": "rgb(248,160,126)",
           "width": 3
          },
          "size": 12,
          "symbol": "square"
         },
         "mode": "markers",
         "name": "patient",
         "offsetgroup": "-1",
         "opacity": 1,
         "showlegend": false,
         "type": "scatter",
         "x": [
          "V3"
         ],
         "xaxis": "x6",
         "y": [
          0.2219340188296862
         ],
         "yaxis": "y6"
        },
        {
         "error_y": {
          "array": [
           [
            0.12405372974291101
           ]
          ],
          "arrayminus": [
           [
            0.10932554690020688
           ]
          ],
          "color": "rgb(248,160,126)",
          "thickness": 3,
          "type": "data",
          "visible": true,
          "width": 0
         },
         "legendgroup": "control",
         "marker": {
          "color": "rgb(248,160,126)",
          "line": {
           "color": "rgb(248,160,126)",
           "width": 3
          },
          "size": 12,
          "symbol": "square"
         },
         "mode": "markers",
         "name": "control",
         "offsetgroup": "1",
         "opacity": 0.4,
         "showlegend": false,
         "type": "scatter",
         "x": [
          "V3"
         ],
         "xaxis": "x6",
         "y": [
          0.2536025436987063
         ],
         "yaxis": "y6"
        },
        {
         "error_y": {
          "array": [
           [
            10.353370010175876
           ]
          ],
          "arrayminus": [
           [
            5.396854437340375
           ]
          ],
          "color": "rgb(248,160,126)",
          "thickness": 3,
          "type": "data",
          "visible": true,
          "width": 0
         },
         "legendgroup": "patient",
         "marker": {
          "color": "rgb(248,160,126)",
          "line": {
           "color": "rgb(248,160,126)",
           "width": 3
          },
          "size": 12,
          "symbol": "square"
         },
         "mode": "markers",
         "name": "patient",
         "offsetgroup": "-1",
         "opacity": 1,
         "showlegend": false,
         "type": "scatter",
         "x": [
          "V3"
         ],
         "xaxis": "x7",
         "y": [
          5.661263903929125
         ],
         "yaxis": "y7"
        },
        {
         "error_y": {
          "array": [
           [
            3.7452146127048493
           ]
          ],
          "arrayminus": [
           [
            4.801368232261151
           ]
          ],
          "color": "rgb(248,160,126)",
          "thickness": 3,
          "type": "data",
          "visible": true,
          "width": 0
         },
         "legendgroup": "control",
         "marker": {
          "color": "rgb(248,160,126)",
          "line": {
           "color": "rgb(248,160,126)",
           "width": 3
          },
          "size": 12,
          "symbol": "square"
         },
         "mode": "markers",
         "name": "control",
         "offsetgroup": "1",
         "opacity": 0.4,
         "showlegend": false,
         "type": "scatter",
         "x": [
          "V3"
         ],
         "xaxis": "x7",
         "y": [
          17.9360932838789
         ],
         "yaxis": "y7"
        },
        {
         "error_y": {
          "array": [
           [
            6.158628347058812
           ]
          ],
          "arrayminus": [
           [
            4.312123568070688
           ]
          ],
          "color": "rgb(248,160,126)",
          "thickness": 3,
          "type": "data",
          "visible": true,
          "width": 0
         },
         "legendgroup": "patient",
         "marker": {
          "color": "rgb(248,160,126)",
          "line": {
           "color": "rgb(248,160,126)",
           "width": 3
          },
          "size": 12,
          "symbol": "square"
         },
         "mode": "markers",
         "name": "patient",
         "offsetgroup": "-1",
         "opacity": 1,
         "showlegend": false,
         "type": "scatter",
         "x": [
          "V3"
         ],
         "xaxis": "x8",
         "y": [
          5.707385867783188
         ],
         "yaxis": "y8"
        },
        {
         "error_y": {
          "array": [
           [
            2.339471379373248
           ]
          ],
          "arrayminus": [
           [
            1.1664777201365
           ]
          ],
          "color": "rgb(248,160,126)",
          "thickness": 3,
          "type": "data",
          "visible": true,
          "width": 0
         },
         "legendgroup": "control",
         "marker": {
          "color": "rgb(248,160,126)",
          "line": {
           "color": "rgb(248,160,126)",
           "width": 3
          },
          "size": 12,
          "symbol": "square"
         },
         "mode": "markers",
         "name": "control",
         "offsetgroup": "1",
         "opacity": 0.4,
         "showlegend": false,
         "type": "scatter",
         "x": [
          "V3"
         ],
         "xaxis": "x8",
         "y": [
          1.586063065496
         ],
         "yaxis": "y8"
        },
        {
         "error_y": {
          "array": [
           [
            0.3739278031882105
           ]
          ],
          "arrayminus": [
           [
            0.8061664545440812
           ]
          ],
          "color": "rgb(235,127,134)",
          "thickness": 3,
          "type": "data",
          "visible": true,
          "width": 0
         },
         "legendgroup": "patient",
         "marker": {
          "color": "rgb(235,127,134)",
          "line": {
           "color": "rgb(235,127,134)",
           "width": 3
          },
          "size": 12,
          "symbol": "square"
         },
         "mode": "markers",
         "name": "patient",
         "offsetgroup": "-1",
         "opacity": 1,
         "showlegend": false,
         "type": "scatter",
         "x": [
          "V3AB"
         ],
         "xaxis": "x",
         "y": [
          1.552831566133987
         ],
         "yaxis": "y"
        },
        {
         "error_y": {
          "array": [
           [
            0.2684501907156034
           ]
          ],
          "arrayminus": [
           [
            0.21676902469620374
           ]
          ],
          "color": "rgb(235,127,134)",
          "thickness": 3,
          "type": "data",
          "visible": true,
          "width": 0
         },
         "legendgroup": "control",
         "marker": {
          "color": "rgb(235,127,134)",
          "line": {
           "color": "rgb(235,127,134)",
           "width": 3
          },
          "size": 12,
          "symbol": "square"
         },
         "mode": "markers",
         "name": "control",
         "offsetgroup": "1",
         "opacity": 0.4,
         "showlegend": false,
         "type": "scatter",
         "x": [
          "V3AB"
         ],
         "xaxis": "x",
         "y": [
          1.625481856000187
         ],
         "yaxis": "y"
        },
        {
         "error_y": {
          "array": [
           [
            4.465112735579285
           ]
          ],
          "arrayminus": [
           [
            2.242237626054676
           ]
          ],
          "color": "rgb(235,127,134)",
          "thickness": 3,
          "type": "data",
          "visible": true,
          "width": 0
         },
         "legendgroup": "patient",
         "marker": {
          "color": "rgb(235,127,134)",
          "line": {
           "color": "rgb(235,127,134)",
           "width": 3
          },
          "size": 12,
          "symbol": "square"
         },
         "mode": "markers",
         "name": "patient",
         "offsetgroup": "-1",
         "opacity": 1,
         "showlegend": false,
         "type": "scatter",
         "x": [
          "V3AB"
         ],
         "xaxis": "x2",
         "y": [
          6.521962694516694
         ],
         "yaxis": "y2"
        },
        {
         "error_y": {
          "array": [
           [
            0.9962040934208352
           ]
          ],
          "arrayminus": [
           [
            0.7641091591269191
           ]
          ],
          "color": "rgb(235,127,134)",
          "thickness": 3,
          "type": "data",
          "visible": true,
          "width": 0
         },
         "legendgroup": "control",
         "marker": {
          "color": "rgb(235,127,134)",
          "line": {
           "color": "rgb(235,127,134)",
           "width": 3
          },
          "size": 12,
          "symbol": "square"
         },
         "mode": "markers",
         "name": "control",
         "offsetgroup": "1",
         "opacity": 0.4,
         "showlegend": false,
         "type": "scatter",
         "x": [
          "V3AB"
         ],
         "xaxis": "x2",
         "y": [
          4.088184321100252
         ],
         "yaxis": "y2"
        },
        {
         "error_y": {
          "array": [
           [
            1.8699233525226944
           ]
          ],
          "arrayminus": [
           [
            1.0896802541673996
           ]
          ],
          "color": "rgb(235,127,134)",
          "thickness": 3,
          "type": "data",
          "visible": true,
          "width": 0
         },
         "legendgroup": "patient",
         "marker": {
          "color": "rgb(235,127,134)",
          "line": {
           "color": "rgb(235,127,134)",
           "width": 3
          },
          "size": 12,
          "symbol": "square"
         },
         "mode": "markers",
         "name": "patient",
         "offsetgroup": "-1",
         "opacity": 1,
         "showlegend": false,
         "type": "scatter",
         "x": [
          "V3AB"
         ],
         "xaxis": "x3",
         "y": [
          1.2480146772562184
         ],
         "yaxis": "y3"
        },
        {
         "error_y": {
          "array": [
           [
            4.163859132376256
           ]
          ],
          "arrayminus": [
           [
            2.382669098295814
           ]
          ],
          "color": "rgb(235,127,134)",
          "thickness": 3,
          "type": "data",
          "visible": true,
          "width": 0
         },
         "legendgroup": "control",
         "marker": {
          "color": "rgb(235,127,134)",
          "line": {
           "color": "rgb(235,127,134)",
           "width": 3
          },
          "size": 12,
          "symbol": "square"
         },
         "mode": "markers",
         "name": "control",
         "offsetgroup": "1",
         "opacity": 0.4,
         "showlegend": false,
         "type": "scatter",
         "x": [
          "V3AB"
         ],
         "xaxis": "x3",
         "y": [
          7.522757638262512
         ],
         "yaxis": "y3"
        },
        {
         "error_y": {
          "array": [
           [
            1.273269188983189
           ]
          ],
          "arrayminus": [
           [
            0.767900717474918
           ]
          ],
          "color": "rgb(235,127,134)",
          "thickness": 3,
          "type": "data",
          "visible": true,
          "width": 0
         },
         "legendgroup": "patient",
         "marker": {
          "color": "rgb(235,127,134)",
          "line": {
           "color": "rgb(235,127,134)",
           "width": 3
          },
          "size": 12,
          "symbol": "square"
         },
         "mode": "markers",
         "name": "patient",
         "offsetgroup": "-1",
         "opacity": 1,
         "showlegend": false,
         "type": "scatter",
         "x": [
          "V3AB"
         ],
         "xaxis": "x4",
         "y": [
          1.0422628369934457
         ],
         "yaxis": "y4"
        },
        {
         "error_y": {
          "array": [
           [
            3.6831487430990215
           ]
          ],
          "arrayminus": [
           [
            2.3276913457599298
           ]
          ],
          "color": "rgb(235,127,134)",
          "thickness": 3,
          "type": "data",
          "visible": true,
          "width": 0
         },
         "legendgroup": "control",
         "marker": {
          "color": "rgb(235,127,134)",
          "line": {
           "color": "rgb(235,127,134)",
           "width": 3
          },
          "size": 12,
          "symbol": "square"
         },
         "mode": "markers",
         "name": "control",
         "offsetgroup": "1",
         "opacity": 0.4,
         "showlegend": false,
         "type": "scatter",
         "x": [
          "V3AB"
         ],
         "xaxis": "x4",
         "y": [
          4.414699436440642
         ],
         "yaxis": "y4"
        },
        {
         "error_y": {
          "array": [
           [
            0.10087908538285528
           ]
          ],
          "arrayminus": [
           [
            0.0888153507982915
           ]
          ],
          "color": "rgb(235,127,134)",
          "thickness": 3,
          "type": "data",
          "visible": true,
          "width": 0
         },
         "legendgroup": "patient",
         "marker": {
          "color": "rgb(235,127,134)",
          "line": {
           "color": "rgb(235,127,134)",
           "width": 3
          },
          "size": 12,
          "symbol": "square"
         },
         "mode": "markers",
         "name": "patient",
         "offsetgroup": "-1",
         "opacity": 1,
         "showlegend": false,
         "type": "scatter",
         "x": [
          "V3AB"
         ],
         "xaxis": "x5",
         "y": [
          0.1345846111179485
         ],
         "yaxis": "y5"
        },
        {
         "error_y": {
          "array": [
           [
            0.11170208041389329
           ]
          ],
          "arrayminus": [
           [
            0.10261525311896363
           ]
          ],
          "color": "rgb(235,127,134)",
          "thickness": 3,
          "type": "data",
          "visible": true,
          "width": 0
         },
         "legendgroup": "control",
         "marker": {
          "color": "rgb(235,127,134)",
          "line": {
           "color": "rgb(235,127,134)",
           "width": 3
          },
          "size": 12,
          "symbol": "square"
         },
         "mode": "markers",
         "name": "control",
         "offsetgroup": "1",
         "opacity": 0.4,
         "showlegend": false,
         "type": "scatter",
         "x": [
          "V3AB"
         ],
         "xaxis": "x5",
         "y": [
          0.4104579104909005
         ],
         "yaxis": "y5"
        },
        {
         "error_y": {
          "array": [
           [
            0.0766091854449292
           ]
          ],
          "arrayminus": [
           [
            0.037935068872567895
           ]
          ],
          "color": "rgb(235,127,134)",
          "thickness": 3,
          "type": "data",
          "visible": true,
          "width": 0
         },
         "legendgroup": "patient",
         "marker": {
          "color": "rgb(235,127,134)",
          "line": {
           "color": "rgb(235,127,134)",
           "width": 3
          },
          "size": 12,
          "symbol": "square"
         },
         "mode": "markers",
         "name": "patient",
         "offsetgroup": "-1",
         "opacity": 1,
         "showlegend": false,
         "type": "scatter",
         "x": [
          "V3AB"
         ],
         "xaxis": "x6",
         "y": [
          0.1706161360616349
         ],
         "yaxis": "y6"
        },
        {
         "error_y": {
          "array": [
           [
            0.1142893589307033
           ]
          ],
          "arrayminus": [
           [
            0.1250859446161441
           ]
          ],
          "color": "rgb(235,127,134)",
          "thickness": 3,
          "type": "data",
          "visible": true,
          "width": 0
         },
         "legendgroup": "control",
         "marker": {
          "color": "rgb(235,127,134)",
          "line": {
           "color": "rgb(235,127,134)",
           "width": 3
          },
          "size": 12,
          "symbol": "square"
         },
         "mode": "markers",
         "name": "control",
         "offsetgroup": "1",
         "opacity": 0.4,
         "showlegend": false,
         "type": "scatter",
         "x": [
          "V3AB"
         ],
         "xaxis": "x6",
         "y": [
          0.3592855095226129
         ],
         "yaxis": "y6"
        },
        {
         "error_y": {
          "array": [
           [
            3.4909748389398754
           ]
          ],
          "arrayminus": [
           [
            1.331831486610125
           ]
          ],
          "color": "rgb(235,127,134)",
          "thickness": 3,
          "type": "data",
          "visible": true,
          "width": 0
         },
         "legendgroup": "patient",
         "marker": {
          "color": "rgb(235,127,134)",
          "line": {
           "color": "rgb(235,127,134)",
           "width": 3
          },
          "size": 12,
          "symbol": "square"
         },
         "mode": "markers",
         "name": "patient",
         "offsetgroup": "-1",
         "opacity": 1,
         "showlegend": false,
         "type": "scatter",
         "x": [
          "V3AB"
         ],
         "xaxis": "x7",
         "y": [
          1.389361304722625
         ],
         "yaxis": "y7"
        },
        {
         "error_y": {
          "array": [
           [
            3.002291993678024
           ]
          ],
          "arrayminus": [
           [
            3.1062330136056
           ]
          ],
          "color": "rgb(235,127,134)",
          "thickness": 3,
          "type": "data",
          "visible": true,
          "width": 0
         },
         "legendgroup": "control",
         "marker": {
          "color": "rgb(235,127,134)",
          "line": {
           "color": "rgb(235,127,134)",
           "width": 3
          },
          "size": 12,
          "symbol": "square"
         },
         "mode": "markers",
         "name": "control",
         "offsetgroup": "1",
         "opacity": 0.4,
         "showlegend": false,
         "type": "scatter",
         "x": [
          "V3AB"
         ],
         "xaxis": "x7",
         "y": [
          7.16423889108835
         ],
         "yaxis": "y7"
        },
        {
         "error_y": {
          "array": [
           [
            4.437011814207063
           ]
          ],
          "arrayminus": [
           [
            3.354226730834188
           ]
          ],
          "color": "rgb(235,127,134)",
          "thickness": 3,
          "type": "data",
          "visible": true,
          "width": 0
         },
         "legendgroup": "patient",
         "marker": {
          "color": "rgb(235,127,134)",
          "line": {
           "color": "rgb(235,127,134)",
           "width": 3
          },
          "size": 12,
          "symbol": "square"
         },
         "mode": "markers",
         "name": "patient",
         "offsetgroup": "-1",
         "opacity": 1,
         "showlegend": false,
         "type": "scatter",
         "x": [
          "V3AB"
         ],
         "xaxis": "x8",
         "y": [
          4.189467627104188
         ],
         "yaxis": "y8"
        },
        {
         "error_y": {
          "array": [
           [
            5.6632579952198
           ]
          ],
          "arrayminus": [
           [
            3.7545501261424494
           ]
          ],
          "color": "rgb(235,127,134)",
          "thickness": 3,
          "type": "data",
          "visible": true,
          "width": 0
         },
         "legendgroup": "control",
         "marker": {
          "color": "rgb(235,127,134)",
          "line": {
           "color": "rgb(235,127,134)",
           "width": 3
          },
          "size": 12,
          "symbol": "square"
         },
         "mode": "markers",
         "name": "control",
         "offsetgroup": "1",
         "opacity": 0.4,
         "showlegend": false,
         "type": "scatter",
         "x": [
          "V3AB"
         ],
         "xaxis": "x8",
         "y": [
          7.4906091452812
         ],
         "yaxis": "y8"
        },
        {
         "error_y": {
          "array": [
           [
            0.6081133991885859
           ]
          ],
          "arrayminus": [
           [
            0.77157623860221
           ]
          ],
          "color": "rgb(150,0,90)",
          "thickness": 3,
          "type": "data",
          "visible": true,
          "width": 0
         },
         "legendgroup": "patient",
         "marker": {
          "color": "rgb(150,0,90)",
          "line": {
           "color": "rgb(150,0,90)",
           "width": 3
          },
          "size": 12,
          "symbol": "square"
         },
         "mode": "markers",
         "name": "patient",
         "offsetgroup": "-1",
         "opacity": 1,
         "showlegend": false,
         "type": "scatter",
         "x": [
          "LO"
         ],
         "xaxis": "x",
         "y": [
          1.2336080268715437
         ],
         "yaxis": "y"
        },
        {
         "error_y": {
          "array": [
           [
            0.26976352038564855
           ]
          ],
          "arrayminus": [
           [
            0.2212632417862248
           ]
          ],
          "color": "rgb(150,0,90)",
          "thickness": 3,
          "type": "data",
          "visible": true,
          "width": 0
         },
         "legendgroup": "control",
         "marker": {
          "color": "rgb(150,0,90)",
          "line": {
           "color": "rgb(150,0,90)",
           "width": 3
          },
          "size": 12,
          "symbol": "square"
         },
         "mode": "markers",
         "name": "control",
         "offsetgroup": "1",
         "opacity": 0.4,
         "showlegend": false,
         "type": "scatter",
         "x": [
          "LO"
         ],
         "xaxis": "x",
         "y": [
          1.5214025349285558
         ],
         "yaxis": "y"
        },
        {
         "error_y": {
          "array": [
           [
            3.900425611678492
           ]
          ],
          "arrayminus": [
           [
            1.6233346655441219
           ]
          ],
          "color": "rgb(150,0,90)",
          "thickness": 3,
          "type": "data",
          "visible": true,
          "width": 0
         },
         "legendgroup": "patient",
         "marker": {
          "color": "rgb(150,0,90)",
          "line": {
           "color": "rgb(150,0,90)",
           "width": 3
          },
          "size": 12,
          "symbol": "square"
         },
         "mode": "markers",
         "name": "patient",
         "offsetgroup": "-1",
         "opacity": 1,
         "showlegend": false,
         "type": "scatter",
         "x": [
          "LO"
         ],
         "xaxis": "x2",
         "y": [
          5.736876396075757
         ],
         "yaxis": "y2"
        },
        {
         "error_y": {
          "array": [
           [
            1.8907135791078717
           ]
          ],
          "arrayminus": [
           [
            1.0904421927087973
           ]
          ],
          "color": "rgb(150,0,90)",
          "thickness": 3,
          "type": "data",
          "visible": true,
          "width": 0
         },
         "legendgroup": "control",
         "marker": {
          "color": "rgb(150,0,90)",
          "line": {
           "color": "rgb(150,0,90)",
           "width": 3
          },
          "size": 12,
          "symbol": "square"
         },
         "mode": "markers",
         "name": "control",
         "offsetgroup": "1",
         "opacity": 0.4,
         "showlegend": false,
         "type": "scatter",
         "x": [
          "LO"
         ],
         "xaxis": "x2",
         "y": [
          4.832317076316535
         ],
         "yaxis": "y2"
        },
        {
         "error_y": {
          "array": [
           [
            1.8966958956249589
           ]
          ],
          "arrayminus": [
           [
            2.3968227725129263
           ]
          ],
          "color": "rgb(150,0,90)",
          "thickness": 3,
          "type": "data",
          "visible": true,
          "width": 0
         },
         "legendgroup": "patient",
         "marker": {
          "color": "rgb(150,0,90)",
          "line": {
           "color": "rgb(150,0,90)",
           "width": 3
          },
          "size": 12,
          "symbol": "square"
         },
         "mode": "markers",
         "name": "patient",
         "offsetgroup": "-1",
         "opacity": 1,
         "showlegend": false,
         "type": "scatter",
         "x": [
          "LO"
         ],
         "xaxis": "x3",
         "y": [
          3.272898542667664
         ],
         "yaxis": "y3"
        },
        {
         "error_y": {
          "array": [
           [
            4.659861498216939
           ]
          ],
          "arrayminus": [
           [
            3.735269403033122
           ]
          ],
          "color": "rgb(150,0,90)",
          "thickness": 3,
          "type": "data",
          "visible": true,
          "width": 0
         },
         "legendgroup": "control",
         "marker": {
          "color": "rgb(150,0,90)",
          "line": {
           "color": "rgb(150,0,90)",
           "width": 3
          },
          "size": 12,
          "symbol": "square"
         },
         "mode": "markers",
         "name": "control",
         "offsetgroup": "1",
         "opacity": 0.4,
         "showlegend": false,
         "type": "scatter",
         "x": [
          "LO"
         ],
         "xaxis": "x3",
         "y": [
          9.612460362445544
         ],
         "yaxis": "y3"
        },
        {
         "error_y": {
          "array": [
           [
            3.7514716785130044
           ]
          ],
          "arrayminus": [
           [
            1.9590560289270702
           ]
          ],
          "color": "rgb(150,0,90)",
          "thickness": 3,
          "type": "data",
          "visible": true,
          "width": 0
         },
         "legendgroup": "patient",
         "marker": {
          "color": "rgb(150,0,90)",
          "line": {
           "color": "rgb(150,0,90)",
           "width": 3
          },
          "size": 12,
          "symbol": "square"
         },
         "mode": "markers",
         "name": "patient",
         "offsetgroup": "-1",
         "opacity": 1,
         "showlegend": false,
         "type": "scatter",
         "x": [
          "LO"
         ],
         "xaxis": "x4",
         "y": [
          2.3027520393578618
         ],
         "yaxis": "y4"
        },
        {
         "error_y": {
          "array": [
           [
            3.360465511650249
           ]
          ],
          "arrayminus": [
           [
            2.6534668648663193
           ]
          ],
          "color": "rgb(150,0,90)",
          "thickness": 3,
          "type": "data",
          "visible": true,
          "width": 0
         },
         "legendgroup": "control",
         "marker": {
          "color": "rgb(150,0,90)",
          "line": {
           "color": "rgb(150,0,90)",
           "width": 3
          },
          "size": 12,
          "symbol": "square"
         },
         "mode": "markers",
         "name": "control",
         "offsetgroup": "1",
         "opacity": 0.4,
         "showlegend": false,
         "type": "scatter",
         "x": [
          "LO"
         ],
         "xaxis": "x4",
         "y": [
          4.356281576598109
         ],
         "yaxis": "y4"
        },
        {
         "error_y": {
          "array": [
           [
            0.11142658774305018
           ]
          ],
          "arrayminus": [
           [
            0.0668535933745415
           ]
          ],
          "color": "rgb(150,0,90)",
          "thickness": 3,
          "type": "data",
          "visible": true,
          "width": 0
         },
         "legendgroup": "patient",
         "marker": {
          "color": "rgb(150,0,90)",
          "line": {
           "color": "rgb(150,0,90)",
           "width": 3
          },
          "size": 12,
          "symbol": "square"
         },
         "mode": "markers",
         "name": "patient",
         "offsetgroup": "-1",
         "opacity": 1,
         "showlegend": false,
         "type": "scatter",
         "x": [
          "LO"
         ],
         "xaxis": "x5",
         "y": [
          0.1132756371634777
         ],
         "yaxis": "y5"
        },
        {
         "error_y": {
          "array": [
           [
            0.0790348242924348
           ]
          ],
          "arrayminus": [
           [
            0.07752538090805519
           ]
          ],
          "color": "rgb(150,0,90)",
          "thickness": 3,
          "type": "data",
          "visible": true,
          "width": 0
         },
         "legendgroup": "control",
         "marker": {
          "color": "rgb(150,0,90)",
          "line": {
           "color": "rgb(150,0,90)",
           "width": 3
          },
          "size": 12,
          "symbol": "square"
         },
         "mode": "markers",
         "name": "control",
         "offsetgroup": "1",
         "opacity": 0.4,
         "showlegend": false,
         "type": "scatter",
         "x": [
          "LO"
         ],
         "xaxis": "x5",
         "y": [
          0.3083993232079344
         ],
         "yaxis": "y5"
        },
        {
         "error_y": {
          "array": [
           [
            0.10193184394295798
           ]
          ],
          "arrayminus": [
           [
            0.0929864272140799
           ]
          ],
          "color": "rgb(150,0,90)",
          "thickness": 3,
          "type": "data",
          "visible": true,
          "width": 0
         },
         "legendgroup": "patient",
         "marker": {
          "color": "rgb(150,0,90)",
          "line": {
           "color": "rgb(150,0,90)",
           "width": 3
          },
          "size": 12,
          "symbol": "square"
         },
         "mode": "markers",
         "name": "patient",
         "offsetgroup": "-1",
         "opacity": 1,
         "showlegend": false,
         "type": "scatter",
         "x": [
          "LO"
         ],
         "xaxis": "x6",
         "y": [
          0.1572714044349133
         ],
         "yaxis": "y6"
        },
        {
         "error_y": {
          "array": [
           [
            0.14713693830330432
           ]
          ],
          "arrayminus": [
           [
            0.1261130864519697
           ]
          ],
          "color": "rgb(150,0,90)",
          "thickness": 3,
          "type": "data",
          "visible": true,
          "width": 0
         },
         "legendgroup": "control",
         "marker": {
          "color": "rgb(150,0,90)",
          "line": {
           "color": "rgb(150,0,90)",
           "width": 3
          },
          "size": 12,
          "symbol": "square"
         },
         "mode": "markers",
         "name": "control",
         "offsetgroup": "1",
         "opacity": 0.4,
         "showlegend": false,
         "type": "scatter",
         "x": [
          "LO"
         ],
         "xaxis": "x6",
         "y": [
          0.3139991701720707
         ],
         "yaxis": "y6"
        },
        {
         "error_y": {
          "array": [
           [
            3.902498413677812
           ]
          ],
          "arrayminus": [
           [
            2.2554258861521874
           ]
          ],
          "color": "rgb(150,0,90)",
          "thickness": 3,
          "type": "data",
          "visible": true,
          "width": 0
         },
         "legendgroup": "patient",
         "marker": {
          "color": "rgb(150,0,90)",
          "line": {
           "color": "rgb(150,0,90)",
           "width": 3
          },
          "size": 12,
          "symbol": "square"
         },
         "mode": "markers",
         "name": "patient",
         "offsetgroup": "-1",
         "opacity": 1,
         "showlegend": false,
         "type": "scatter",
         "x": [
          "LO"
         ],
         "xaxis": "x7",
         "y": [
          2.3716353103459373
         ],
         "yaxis": "y7"
        },
        {
         "error_y": {
          "array": [
           [
            3.54913181174585
           ]
          ],
          "arrayminus": [
           [
            4.0547592919054
           ]
          ],
          "color": "rgb(150,0,90)",
          "thickness": 3,
          "type": "data",
          "visible": true,
          "width": 0
         },
         "legendgroup": "control",
         "marker": {
          "color": "rgb(150,0,90)",
          "line": {
           "color": "rgb(150,0,90)",
           "width": 3
          },
          "size": 12,
          "symbol": "square"
         },
         "mode": "markers",
         "name": "control",
         "offsetgroup": "1",
         "opacity": 0.4,
         "showlegend": false,
         "type": "scatter",
         "x": [
          "LO"
         ],
         "xaxis": "x7",
         "y": [
          7.795409733109651
         ],
         "yaxis": "y7"
        },
        {
         "error_y": {
          "array": [
           [
            4.023968544972187
           ]
          ],
          "arrayminus": [
           [
            3.0739238308003127
           ]
          ],
          "color": "rgb(150,0,90)",
          "thickness": 3,
          "type": "data",
          "visible": true,
          "width": 0
         },
         "legendgroup": "patient",
         "marker": {
          "color": "rgb(150,0,90)",
          "line": {
           "color": "rgb(150,0,90)",
           "width": 3
          },
          "size": 12,
          "symbol": "square"
         },
         "mode": "markers",
         "name": "patient",
         "offsetgroup": "-1",
         "opacity": 1,
         "showlegend": false,
         "type": "scatter",
         "x": [
          "LO"
         ],
         "xaxis": "x8",
         "y": [
          3.3024287539578125
         ],
         "yaxis": "y8"
        },
        {
         "error_y": {
          "array": [
           [
            9.446047205204053
           ]
          ],
          "arrayminus": [
           [
            6.6058385098456975
           ]
          ],
          "color": "rgb(150,0,90)",
          "thickness": 3,
          "type": "data",
          "visible": true,
          "width": 0
         },
         "legendgroup": "control",
         "marker": {
          "color": "rgb(150,0,90)",
          "line": {
           "color": "rgb(150,0,90)",
           "width": 3
          },
          "size": 12,
          "symbol": "square"
         },
         "mode": "markers",
         "name": "control",
         "offsetgroup": "1",
         "opacity": 0.4,
         "showlegend": false,
         "type": "scatter",
         "x": [
          "LO"
         ],
         "xaxis": "x8",
         "y": [
          11.635483639342947
         ],
         "yaxis": "y8"
        },
        {
         "error_y": {
          "array": [
           [
            0.4452878900231758
           ]
          ],
          "arrayminus": [
           [
            0.42558387079717885
           ]
          ],
          "color": "rgb(0,0,200)",
          "thickness": 3,
          "type": "data",
          "visible": true,
          "width": 0
         },
         "legendgroup": "patient",
         "marker": {
          "color": "rgb(0,0,200)",
          "line": {
           "color": "rgb(0,0,200)",
           "width": 3
          },
          "size": 12,
          "symbol": "square"
         },
         "mode": "markers",
         "name": "patient",
         "offsetgroup": "-1",
         "opacity": 1,
         "showlegend": false,
         "type": "scatter",
         "x": [
          "VO"
         ],
         "xaxis": "x",
         "y": [
          1.389653024376771
         ],
         "yaxis": "y"
        },
        {
         "error_y": {
          "array": [
           [
            0.239299888390351
           ]
          ],
          "arrayminus": [
           [
            0.21071148279844154
           ]
          ],
          "color": "rgb(0,0,200)",
          "thickness": 3,
          "type": "data",
          "visible": true,
          "width": 0
         },
         "legendgroup": "control",
         "marker": {
          "color": "rgb(0,0,200)",
          "line": {
           "color": "rgb(0,0,200)",
           "width": 3
          },
          "size": 12,
          "symbol": "square"
         },
         "mode": "markers",
         "name": "control",
         "offsetgroup": "1",
         "opacity": 0.4,
         "showlegend": false,
         "type": "scatter",
         "x": [
          "VO"
         ],
         "xaxis": "x",
         "y": [
          1.653138704881126
         ],
         "yaxis": "y"
        },
        {
         "error_y": {
          "array": [
           [
            4.139001635356429
           ]
          ],
          "arrayminus": [
           [
            2.0694220125992233
           ]
          ],
          "color": "rgb(0,0,200)",
          "thickness": 3,
          "type": "data",
          "visible": true,
          "width": 0
         },
         "legendgroup": "patient",
         "marker": {
          "color": "rgb(0,0,200)",
          "line": {
           "color": "rgb(0,0,200)",
           "width": 3
          },
          "size": 12,
          "symbol": "square"
         },
         "mode": "markers",
         "name": "patient",
         "offsetgroup": "-1",
         "opacity": 1,
         "showlegend": false,
         "type": "scatter",
         "x": [
          "VO"
         ],
         "xaxis": "x2",
         "y": [
          6.235093803337287
         ],
         "yaxis": "y2"
        },
        {
         "error_y": {
          "array": [
           [
            1.2144853975234202
           ]
          ],
          "arrayminus": [
           [
            1.0957938351708014
           ]
          ],
          "color": "rgb(0,0,200)",
          "thickness": 3,
          "type": "data",
          "visible": true,
          "width": 0
         },
         "legendgroup": "control",
         "marker": {
          "color": "rgb(0,0,200)",
          "line": {
           "color": "rgb(0,0,200)",
           "width": 3
          },
          "size": 12,
          "symbol": "square"
         },
         "mode": "markers",
         "name": "control",
         "offsetgroup": "1",
         "opacity": 0.4,
         "showlegend": false,
         "type": "scatter",
         "x": [
          "VO"
         ],
         "xaxis": "x2",
         "y": [
          5.043484982676096
         ],
         "yaxis": "y2"
        },
        {
         "error_y": {
          "array": [
           [
            1.5717532437005026
           ]
          ],
          "arrayminus": [
           [
            1.2279991344518075
           ]
          ],
          "color": "rgb(0,0,200)",
          "thickness": 3,
          "type": "data",
          "visible": true,
          "width": 0
         },
         "legendgroup": "patient",
         "marker": {
          "color": "rgb(0,0,200)",
          "line": {
           "color": "rgb(0,0,200)",
           "width": 3
          },
          "size": 12,
          "symbol": "square"
         },
         "mode": "markers",
         "name": "patient",
         "offsetgroup": "-1",
         "opacity": 1,
         "showlegend": false,
         "type": "scatter",
         "x": [
          "VO"
         ],
         "xaxis": "x3",
         "y": [
          1.5427188654071444
         ],
         "yaxis": "y3"
        },
        {
         "error_y": {
          "array": [
           [
            2.783485173068142
           ]
          ],
          "arrayminus": [
           [
            2.1216198952021657
           ]
          ],
          "color": "rgb(0,0,200)",
          "thickness": 3,
          "type": "data",
          "visible": true,
          "width": 0
         },
         "legendgroup": "control",
         "marker": {
          "color": "rgb(0,0,200)",
          "line": {
           "color": "rgb(0,0,200)",
           "width": 3
          },
          "size": 12,
          "symbol": "square"
         },
         "mode": "markers",
         "name": "control",
         "offsetgroup": "1",
         "opacity": 0.4,
         "showlegend": false,
         "type": "scatter",
         "x": [
          "VO"
         ],
         "xaxis": "x3",
         "y": [
          7.524638124301314
         ],
         "yaxis": "y3"
        },
        {
         "error_y": {
          "array": [
           [
            0.7345346954946295
           ]
          ],
          "arrayminus": [
           [
            0.6385980716073798
           ]
          ],
          "color": "rgb(0,0,200)",
          "thickness": 3,
          "type": "data",
          "visible": true,
          "width": 0
         },
         "legendgroup": "patient",
         "marker": {
          "color": "rgb(0,0,200)",
          "line": {
           "color": "rgb(0,0,200)",
           "width": 3
          },
          "size": 12,
          "symbol": "square"
         },
         "mode": "markers",
         "name": "patient",
         "offsetgroup": "-1",
         "opacity": 1,
         "showlegend": false,
         "type": "scatter",
         "x": [
          "VO"
         ],
         "xaxis": "x4",
         "y": [
          0.9130390352314766
         ],
         "yaxis": "y4"
        },
        {
         "error_y": {
          "array": [
           [
            1.7635024928944691
           ]
          ],
          "arrayminus": [
           [
            1.7289056977054948
           ]
          ],
          "color": "rgb(0,0,200)",
          "thickness": 3,
          "type": "data",
          "visible": true,
          "width": 0
         },
         "legendgroup": "control",
         "marker": {
          "color": "rgb(0,0,200)",
          "line": {
           "color": "rgb(0,0,200)",
           "width": 3
          },
          "size": 12,
          "symbol": "square"
         },
         "mode": "markers",
         "name": "control",
         "offsetgroup": "1",
         "opacity": 0.4,
         "showlegend": false,
         "type": "scatter",
         "x": [
          "VO"
         ],
         "xaxis": "x4",
         "y": [
          3.109704869653341
         ],
         "yaxis": "y4"
        },
        {
         "error_y": {
          "array": [
           [
            0.1281754925014871
           ]
          ],
          "arrayminus": [
           [
            0.0990199245183021
           ]
          ],
          "color": "rgb(0,0,200)",
          "thickness": 3,
          "type": "data",
          "visible": true,
          "width": 0
         },
         "legendgroup": "patient",
         "marker": {
          "color": "rgb(0,0,200)",
          "line": {
           "color": "rgb(0,0,200)",
           "width": 3
          },
          "size": 12,
          "symbol": "square"
         },
         "mode": "markers",
         "name": "patient",
         "offsetgroup": "-1",
         "opacity": 1,
         "showlegend": false,
         "type": "scatter",
         "x": [
          "VO"
         ],
         "xaxis": "x5",
         "y": [
          0.1280797137071725
         ],
         "yaxis": "y5"
        },
        {
         "error_y": {
          "array": [
           [
            0.1304967630160343
           ]
          ],
          "arrayminus": [
           [
            0.09436197761505183
           ]
          ],
          "color": "rgb(0,0,200)",
          "thickness": 3,
          "type": "data",
          "visible": true,
          "width": 0
         },
         "legendgroup": "control",
         "marker": {
          "color": "rgb(0,0,200)",
          "line": {
           "color": "rgb(0,0,200)",
           "width": 3
          },
          "size": 12,
          "symbol": "square"
         },
         "mode": "markers",
         "name": "control",
         "offsetgroup": "1",
         "opacity": 0.4,
         "showlegend": false,
         "type": "scatter",
         "x": [
          "VO"
         ],
         "xaxis": "x5",
         "y": [
          0.3442328151943869
         ],
         "yaxis": "y5"
        },
        {
         "error_y": {
          "array": [
           [
            0.07037499213150211
           ]
          ],
          "arrayminus": [
           [
            0.08512825244004668
           ]
          ],
          "color": "rgb(0,0,200)",
          "thickness": 3,
          "type": "data",
          "visible": true,
          "width": 0
         },
         "legendgroup": "patient",
         "marker": {
          "color": "rgb(0,0,200)",
          "line": {
           "color": "rgb(0,0,200)",
           "width": 3
          },
          "size": 12,
          "symbol": "square"
         },
         "mode": "markers",
         "name": "patient",
         "offsetgroup": "-1",
         "opacity": 1,
         "showlegend": false,
         "type": "scatter",
         "x": [
          "VO"
         ],
         "xaxis": "x6",
         "y": [
          0.1458254335418596
         ],
         "yaxis": "y6"
        },
        {
         "error_y": {
          "array": [
           [
            0.11052998155261512
           ]
          ],
          "arrayminus": [
           [
            0.0922198961826044
           ]
          ],
          "color": "rgb(0,0,200)",
          "thickness": 3,
          "type": "data",
          "visible": true,
          "width": 0
         },
         "legendgroup": "control",
         "marker": {
          "color": "rgb(0,0,200)",
          "line": {
           "color": "rgb(0,0,200)",
           "width": 3
          },
          "size": 12,
          "symbol": "square"
         },
         "mode": "markers",
         "name": "control",
         "offsetgroup": "1",
         "opacity": 0.4,
         "showlegend": false,
         "type": "scatter",
         "x": [
          "VO"
         ],
         "xaxis": "x6",
         "y": [
          0.2514270924308627
         ],
         "yaxis": "y6"
        },
        {
         "error_y": {
          "array": [
           [
            4.92855841368625
           ]
          ],
          "arrayminus": [
           [
            2.2577378638425003
           ]
          ],
          "color": "rgb(0,0,200)",
          "thickness": 3,
          "type": "data",
          "visible": true,
          "width": 0
         },
         "legendgroup": "patient",
         "marker": {
          "color": "rgb(0,0,200)",
          "line": {
           "color": "rgb(0,0,200)",
           "width": 3
          },
          "size": 12,
          "symbol": "square"
         },
         "mode": "markers",
         "name": "patient",
         "offsetgroup": "-1",
         "opacity": 1,
         "showlegend": false,
         "type": "scatter",
         "x": [
          "VO"
         ],
         "xaxis": "x7",
         "y": [
          2.360027177595
         ],
         "yaxis": "y7"
        },
        {
         "error_y": {
          "array": [
           [
            6.631076561258997
           ]
          ],
          "arrayminus": [
           [
            4.2546157999142515
           ]
          ],
          "color": "rgb(0,0,200)",
          "thickness": 3,
          "type": "data",
          "visible": true,
          "width": 0
         },
         "legendgroup": "control",
         "marker": {
          "color": "rgb(0,0,200)",
          "line": {
           "color": "rgb(0,0,200)",
           "width": 3
          },
          "size": 12,
          "symbol": "square"
         },
         "mode": "markers",
         "name": "control",
         "offsetgroup": "1",
         "opacity": 0.4,
         "showlegend": false,
         "type": "scatter",
         "x": [
          "VO"
         ],
         "xaxis": "x7",
         "y": [
          13.86998876001375
         ],
         "yaxis": "y7"
        },
        {
         "error_y": {
          "array": [
           [
            3.496085599533125
           ]
          ],
          "arrayminus": [
           [
            2.877034069171875
           ]
          ],
          "color": "rgb(0,0,200)",
          "thickness": 3,
          "type": "data",
          "visible": true,
          "width": 0
         },
         "legendgroup": "patient",
         "marker": {
          "color": "rgb(0,0,200)",
          "line": {
           "color": "rgb(0,0,200)",
           "width": 3
          },
          "size": 12,
          "symbol": "square"
         },
         "mode": "markers",
         "name": "patient",
         "offsetgroup": "-1",
         "opacity": 1,
         "showlegend": false,
         "type": "scatter",
         "x": [
          "VO"
         ],
         "xaxis": "x8",
         "y": [
          3.343549411141875
         ],
         "yaxis": "y8"
        },
        {
         "error_y": {
          "array": [
           [
            13.98069516011595
           ]
          ],
          "arrayminus": [
           [
            16.179424444025102
           ]
          ],
          "color": "rgb(0,0,200)",
          "thickness": 3,
          "type": "data",
          "visible": true,
          "width": 0
         },
         "legendgroup": "control",
         "marker": {
          "color": "rgb(0,0,200)",
          "line": {
           "color": "rgb(0,0,200)",
           "width": 3
          },
          "size": 12,
          "symbol": "square"
         },
         "mode": "markers",
         "name": "control",
         "offsetgroup": "1",
         "opacity": 0.4,
         "showlegend": false,
         "type": "scatter",
         "x": [
          "VO"
         ],
         "xaxis": "x8",
         "y": [
          27.5967871410296
         ],
         "yaxis": "y8"
        },
        {
         "error_y": {
          "array": [
           [
            0.5168086680604866
           ]
          ],
          "arrayminus": [
           [
            0.7302991625025649
           ]
          ],
          "color": "rgb(0,25,255)",
          "thickness": 3,
          "type": "data",
          "visible": true,
          "width": 0
         },
         "legendgroup": "patient",
         "marker": {
          "color": "rgb(0,25,255)",
          "line": {
           "color": "rgb(0,25,255)",
           "width": 3
          },
          "size": 12,
          "symbol": "square"
         },
         "mode": "markers",
         "name": "patient",
         "offsetgroup": "-1",
         "opacity": 1,
         "showlegend": false,
         "type": "scatter",
         "x": [
          "hMT+"
         ],
         "xaxis": "x",
         "y": [
          1.4288408002554909
         ],
         "yaxis": "y"
        },
        {
         "error_y": {
          "array": [
           [
            0.3537704792067793
           ]
          ],
          "arrayminus": [
           [
            0.4000454906130124
           ]
          ],
          "color": "rgb(0,25,255)",
          "thickness": 3,
          "type": "data",
          "visible": true,
          "width": 0
         },
         "legendgroup": "control",
         "marker": {
          "color": "rgb(0,25,255)",
          "line": {
           "color": "rgb(0,25,255)",
           "width": 3
          },
          "size": 12,
          "symbol": "square"
         },
         "mode": "markers",
         "name": "control",
         "offsetgroup": "1",
         "opacity": 0.4,
         "showlegend": false,
         "type": "scatter",
         "x": [
          "hMT+"
         ],
         "xaxis": "x",
         "y": [
          1.7914707294209655
         ],
         "yaxis": "y"
        },
        {
         "error_y": {
          "array": [
           [
            3.1926927617025624
           ]
          ],
          "arrayminus": [
           [
            2.7264564256175747
           ]
          ],
          "color": "rgb(0,25,255)",
          "thickness": 3,
          "type": "data",
          "visible": true,
          "width": 0
         },
         "legendgroup": "patient",
         "marker": {
          "color": "rgb(0,25,255)",
          "line": {
           "color": "rgb(0,25,255)",
           "width": 3
          },
          "size": 12,
          "symbol": "square"
         },
         "mode": "markers",
         "name": "patient",
         "offsetgroup": "-1",
         "opacity": 1,
         "showlegend": false,
         "type": "scatter",
         "x": [
          "hMT+"
         ],
         "xaxis": "x2",
         "y": [
          7.651655965140484
         ],
         "yaxis": "y2"
        },
        {
         "error_y": {
          "array": [
           [
            3.9002855489120902
           ]
          ],
          "arrayminus": [
           [
            2.2826595334094497
           ]
          ],
          "color": "rgb(0,25,255)",
          "thickness": 3,
          "type": "data",
          "visible": true,
          "width": 0
         },
         "legendgroup": "control",
         "marker": {
          "color": "rgb(0,25,255)",
          "line": {
           "color": "rgb(0,25,255)",
           "width": 3
          },
          "size": 12,
          "symbol": "square"
         },
         "mode": "markers",
         "name": "control",
         "offsetgroup": "1",
         "opacity": 0.4,
         "showlegend": false,
         "type": "scatter",
         "x": [
          "hMT+"
         ],
         "xaxis": "x2",
         "y": [
          7.176276948513833
         ],
         "yaxis": "y2"
        },
        {
         "error_y": {
          "array": [
           [
            0.4677480666062609
           ]
          ],
          "arrayminus": [
           [
            0.3413076802357027
           ]
          ],
          "color": "rgb(0,25,255)",
          "thickness": 3,
          "type": "data",
          "visible": true,
          "width": 0
         },
         "legendgroup": "patient",
         "marker": {
          "color": "rgb(0,25,255)",
          "line": {
           "color": "rgb(0,25,255)",
           "width": 3
          },
          "size": 12,
          "symbol": "square"
         },
         "mode": "markers",
         "name": "patient",
         "offsetgroup": "-1",
         "opacity": 1,
         "showlegend": false,
         "type": "scatter",
         "x": [
          "hMT+"
         ],
         "xaxis": "x3",
         "y": [
          0.5584799557727135
         ],
         "yaxis": "y3"
        },
        {
         "error_y": {
          "array": [
           [
            5.534070925484529
           ]
          ],
          "arrayminus": [
           [
            2.4179236517040383
           ]
          ],
          "color": "rgb(0,25,255)",
          "thickness": 3,
          "type": "data",
          "visible": true,
          "width": 0
         },
         "legendgroup": "control",
         "marker": {
          "color": "rgb(0,25,255)",
          "line": {
           "color": "rgb(0,25,255)",
           "width": 3
          },
          "size": 12,
          "symbol": "square"
         },
         "mode": "markers",
         "name": "control",
         "offsetgroup": "1",
         "opacity": 0.4,
         "showlegend": false,
         "type": "scatter",
         "x": [
          "hMT+"
         ],
         "xaxis": "x3",
         "y": [
          2.7186814216291806
         ],
         "yaxis": "y3"
        },
        {
         "error_y": {
          "array": [
           [
            0.40154651261794594
           ]
          ],
          "arrayminus": [
           [
            0.4029546239390184
           ]
          ],
          "color": "rgb(0,25,255)",
          "thickness": 3,
          "type": "data",
          "visible": true,
          "width": 0
         },
         "legendgroup": "patient",
         "marker": {
          "color": "rgb(0,25,255)",
          "line": {
           "color": "rgb(0,25,255)",
           "width": 3
          },
          "size": 12,
          "symbol": "square"
         },
         "mode": "markers",
         "name": "patient",
         "offsetgroup": "-1",
         "opacity": 1,
         "showlegend": false,
         "type": "scatter",
         "x": [
          "hMT+"
         ],
         "xaxis": "x4",
         "y": [
          0.5235076070329081
         ],
         "yaxis": "y4"
        },
        {
         "error_y": {
          "array": [
           [
            1.9678702839922948
           ]
          ],
          "arrayminus": [
           [
            1.3507986781092387
           ]
          ],
          "color": "rgb(0,25,255)",
          "thickness": 3,
          "type": "data",
          "visible": true,
          "width": 0
         },
         "legendgroup": "control",
         "marker": {
          "color": "rgb(0,25,255)",
          "line": {
           "color": "rgb(0,25,255)",
           "width": 3
          },
          "size": 12,
          "symbol": "square"
         },
         "mode": "markers",
         "name": "control",
         "offsetgroup": "1",
         "opacity": 0.4,
         "showlegend": false,
         "type": "scatter",
         "x": [
          "hMT+"
         ],
         "xaxis": "x4",
         "y": [
          1.868801202696582
         ],
         "yaxis": "y4"
        },
        {
         "error_y": {
          "array": [
           [
            0.1298817093749438
           ]
          ],
          "arrayminus": [
           [
            0.053797679214775296
           ]
          ],
          "color": "rgb(0,25,255)",
          "thickness": 3,
          "type": "data",
          "visible": true,
          "width": 0
         },
         "legendgroup": "patient",
         "marker": {
          "color": "rgb(0,25,255)",
          "line": {
           "color": "rgb(0,25,255)",
           "width": 3
          },
          "size": 12,
          "symbol": "square"
         },
         "mode": "markers",
         "name": "patient",
         "offsetgroup": "-1",
         "opacity": 1,
         "showlegend": false,
         "type": "scatter",
         "x": [
          "hMT+"
         ],
         "xaxis": "x5",
         "y": [
          0.0759910601931673
         ],
         "yaxis": "y5"
        },
        {
         "error_y": {
          "array": [
           [
            0.1757424232131621
           ]
          ],
          "arrayminus": [
           [
            0.1055679648472895
           ]
          ],
          "color": "rgb(0,25,255)",
          "thickness": 3,
          "type": "data",
          "visible": true,
          "width": 0
         },
         "legendgroup": "control",
         "marker": {
          "color": "rgb(0,25,255)",
          "line": {
           "color": "rgb(0,25,255)",
           "width": 3
          },
          "size": 12,
          "symbol": "square"
         },
         "mode": "markers",
         "name": "control",
         "offsetgroup": "1",
         "opacity": 0.4,
         "showlegend": false,
         "type": "scatter",
         "x": [
          "hMT+"
         ],
         "xaxis": "x5",
         "y": [
          0.1482571309696953
         ],
         "yaxis": "y5"
        },
        {
         "error_y": {
          "array": [
           [
            0.0743031975260045
           ]
          ],
          "arrayminus": [
           [
            0.0652953548258745
           ]
          ],
          "color": "rgb(0,25,255)",
          "thickness": 3,
          "type": "data",
          "visible": true,
          "width": 0
         },
         "legendgroup": "patient",
         "marker": {
          "color": "rgb(0,25,255)",
          "line": {
           "color": "rgb(0,25,255)",
           "width": 3
          },
          "size": 12,
          "symbol": "square"
         },
         "mode": "markers",
         "name": "patient",
         "offsetgroup": "-1",
         "opacity": 1,
         "showlegend": false,
         "type": "scatter",
         "x": [
          "hMT+"
         ],
         "xaxis": "x6",
         "y": [
          0.141403879179694
         ],
         "yaxis": "y6"
        },
        {
         "error_y": {
          "array": [
           [
            0.08818938124661296
           ]
          ],
          "arrayminus": [
           [
            0.13850936133457542
           ]
          ],
          "color": "rgb(0,25,255)",
          "thickness": 3,
          "type": "data",
          "visible": true,
          "width": 0
         },
         "legendgroup": "control",
         "marker": {
          "color": "rgb(0,25,255)",
          "line": {
           "color": "rgb(0,25,255)",
           "width": 3
          },
          "size": 12,
          "symbol": "square"
         },
         "mode": "markers",
         "name": "control",
         "offsetgroup": "1",
         "opacity": 0.4,
         "showlegend": false,
         "type": "scatter",
         "x": [
          "hMT+"
         ],
         "xaxis": "x6",
         "y": [
          0.3451745807343256
         ],
         "yaxis": "y6"
        },
        {
         "error_y": {
          "array": [
           [
            0.7190430730224167
           ]
          ],
          "arrayminus": [
           [
            0.2731244698093333
           ]
          ],
          "color": "rgb(0,25,255)",
          "thickness": 3,
          "type": "data",
          "visible": true,
          "width": 0
         },
         "legendgroup": "patient",
         "marker": {
          "color": "rgb(0,25,255)",
          "line": {
           "color": "rgb(0,25,255)",
           "width": 3
          },
          "size": 12,
          "symbol": "square"
         },
         "mode": "markers",
         "name": "patient",
         "offsetgroup": "-1",
         "opacity": 1,
         "showlegend": false,
         "type": "scatter",
         "x": [
          "hMT+"
         ],
         "xaxis": "x7",
         "y": [
          0.3141285573743333
         ],
         "yaxis": "y7"
        },
        {
         "error_y": {
          "array": [
           [
            1.6339172151927497
           ]
          ],
          "arrayminus": [
           [
            0.8804816718992501
           ]
          ],
          "color": "rgb(0,25,255)",
          "thickness": 3,
          "type": "data",
          "visible": true,
          "width": 0
         },
         "legendgroup": "control",
         "marker": {
          "color": "rgb(0,25,255)",
          "line": {
           "color": "rgb(0,25,255)",
           "width": 3
          },
          "size": 12,
          "symbol": "square"
         },
         "mode": "markers",
         "name": "control",
         "offsetgroup": "1",
         "opacity": 0.4,
         "showlegend": false,
         "type": "scatter",
         "x": [
          "hMT+"
         ],
         "xaxis": "x7",
         "y": [
          1.19142865939
         ],
         "yaxis": "y7"
        },
        {
         "error_y": {
          "array": [
           [
            2.65592728683525
           ]
          ],
          "arrayminus": [
           [
            1.78128264044475
           ]
          ],
          "color": "rgb(0,25,255)",
          "thickness": 3,
          "type": "data",
          "visible": true,
          "width": 0
         },
         "legendgroup": "patient",
         "marker": {
          "color": "rgb(0,25,255)",
          "line": {
           "color": "rgb(0,25,255)",
           "width": 3
          },
          "size": 12,
          "symbol": "square"
         },
         "mode": "markers",
         "name": "patient",
         "offsetgroup": "-1",
         "opacity": 1,
         "showlegend": false,
         "type": "scatter",
         "x": [
          "hMT+"
         ],
         "xaxis": "x8",
         "y": [
          1.88743877255725
         ],
         "yaxis": "y8"
        },
        {
         "error_y": {
          "array": [
           [
            5.423023810310848
           ]
          ],
          "arrayminus": [
           [
            4.271801818669149
           ]
          ],
          "color": "rgb(0,25,255)",
          "thickness": 3,
          "type": "data",
          "visible": true,
          "width": 0
         },
         "legendgroup": "control",
         "marker": {
          "color": "rgb(0,25,255)",
          "line": {
           "color": "rgb(0,25,255)",
           "width": 3
          },
          "size": 12,
          "symbol": "square"
         },
         "mode": "markers",
         "name": "control",
         "offsetgroup": "1",
         "opacity": 0.4,
         "showlegend": false,
         "type": "scatter",
         "x": [
          "hMT+"
         ],
         "xaxis": "x8",
         "y": [
          8.1440385989984
         ],
         "yaxis": "y8"
        },
        {
         "error_y": {
          "array": [
           [
            0.634527634146062
           ]
          ],
          "arrayminus": [
           [
            0.6435529806776766
           ]
          ],
          "color": "rgb(0,152,255)",
          "thickness": 3,
          "type": "data",
          "visible": true,
          "width": 0
         },
         "legendgroup": "patient",
         "marker": {
          "color": "rgb(0,152,255)",
          "line": {
           "color": "rgb(0,152,255)",
           "width": 3
          },
          "size": 12,
          "symbol": "square"
         },
         "mode": "markers",
         "name": "patient",
         "offsetgroup": "-1",
         "opacity": 1,
         "showlegend": false,
         "type": "scatter",
         "x": [
          "iIPS"
         ],
         "xaxis": "x",
         "y": [
          1.3472699741281111
         ],
         "yaxis": "y"
        },
        {
         "error_y": {
          "array": [
           [
            0.3694807881632307
           ]
          ],
          "arrayminus": [
           [
            0.35710761535098734
           ]
          ],
          "color": "rgb(0,152,255)",
          "thickness": 3,
          "type": "data",
          "visible": true,
          "width": 0
         },
         "legendgroup": "control",
         "marker": {
          "color": "rgb(0,152,255)",
          "line": {
           "color": "rgb(0,152,255)",
           "width": 3
          },
          "size": 12,
          "symbol": "square"
         },
         "mode": "markers",
         "name": "control",
         "offsetgroup": "1",
         "opacity": 0.4,
         "showlegend": false,
         "type": "scatter",
         "x": [
          "iIPS"
         ],
         "xaxis": "x",
         "y": [
          1.6803138524347372
         ],
         "yaxis": "y"
        },
        {
         "error_y": {
          "array": [
           [
            3.965327540724254
           ]
          ],
          "arrayminus": [
           [
            2.3434631114811024
           ]
          ],
          "color": "rgb(0,152,255)",
          "thickness": 3,
          "type": "data",
          "visible": true,
          "width": 0
         },
         "legendgroup": "patient",
         "marker": {
          "color": "rgb(0,152,255)",
          "line": {
           "color": "rgb(0,152,255)",
           "width": 3
          },
          "size": 12,
          "symbol": "square"
         },
         "mode": "markers",
         "name": "patient",
         "offsetgroup": "-1",
         "opacity": 1,
         "showlegend": false,
         "type": "scatter",
         "x": [
          "iIPS"
         ],
         "xaxis": "x2",
         "y": [
          6.573397792076158
         ],
         "yaxis": "y2"
        },
        {
         "error_y": {
          "array": [
           [
            1.4194308644629583
           ]
          ],
          "arrayminus": [
           [
            1.4572909091727642
           ]
          ],
          "color": "rgb(0,152,255)",
          "thickness": 3,
          "type": "data",
          "visible": true,
          "width": 0
         },
         "legendgroup": "control",
         "marker": {
          "color": "rgb(0,152,255)",
          "line": {
           "color": "rgb(0,152,255)",
           "width": 3
          },
          "size": 12,
          "symbol": "square"
         },
         "mode": "markers",
         "name": "control",
         "offsetgroup": "1",
         "opacity": 0.4,
         "showlegend": false,
         "type": "scatter",
         "x": [
          "iIPS"
         ],
         "xaxis": "x2",
         "y": [
          5.831485399128834
         ],
         "yaxis": "y2"
        },
        {
         "error_y": {
          "array": [
           [
            0.6423308232759816
           ]
          ],
          "arrayminus": [
           [
            0.29460420859349956
           ]
          ],
          "color": "rgb(0,152,255)",
          "thickness": 3,
          "type": "data",
          "visible": true,
          "width": 0
         },
         "legendgroup": "patient",
         "marker": {
          "color": "rgb(0,152,255)",
          "line": {
           "color": "rgb(0,152,255)",
           "width": 3
          },
          "size": 12,
          "symbol": "square"
         },
         "mode": "markers",
         "name": "patient",
         "offsetgroup": "-1",
         "opacity": 1,
         "showlegend": false,
         "type": "scatter",
         "x": [
          "iIPS"
         ],
         "xaxis": "x3",
         "y": [
          0.6159146126844534
         ],
         "yaxis": "y3"
        },
        {
         "error_y": {
          "array": [
           [
            2.7488591715521813
           ]
          ],
          "arrayminus": [
           [
            1.597114057564458
           ]
          ],
          "color": "rgb(0,152,255)",
          "thickness": 3,
          "type": "data",
          "visible": true,
          "width": 0
         },
         "legendgroup": "control",
         "marker": {
          "color": "rgb(0,152,255)",
          "line": {
           "color": "rgb(0,152,255)",
           "width": 3
          },
          "size": 12,
          "symbol": "square"
         },
         "mode": "markers",
         "name": "control",
         "offsetgroup": "1",
         "opacity": 0.4,
         "showlegend": false,
         "type": "scatter",
         "x": [
          "iIPS"
         ],
         "xaxis": "x3",
         "y": [
          2.223684351017297
         ],
         "yaxis": "y3"
        },
        {
         "error_y": {
          "array": [
           [
            0.356570103247394
           ]
          ],
          "arrayminus": [
           [
            0.2967772020458248
           ]
          ],
          "color": "rgb(0,152,255)",
          "thickness": 3,
          "type": "data",
          "visible": true,
          "width": 0
         },
         "legendgroup": "patient",
         "marker": {
          "color": "rgb(0,152,255)",
          "line": {
           "color": "rgb(0,152,255)",
           "width": 3
          },
          "size": 12,
          "symbol": "square"
         },
         "mode": "markers",
         "name": "patient",
         "offsetgroup": "-1",
         "opacity": 1,
         "showlegend": false,
         "type": "scatter",
         "x": [
          "iIPS"
         ],
         "xaxis": "x4",
         "y": [
          0.5377473271409405
         ],
         "yaxis": "y4"
        },
        {
         "error_y": {
          "array": [
           [
            2.74109180653691
           ]
          ],
          "arrayminus": [
           [
            1.9515183405795622
           ]
          ],
          "color": "rgb(0,152,255)",
          "thickness": 3,
          "type": "data",
          "visible": true,
          "width": 0
         },
         "legendgroup": "control",
         "marker": {
          "color": "rgb(0,152,255)",
          "line": {
           "color": "rgb(0,152,255)",
           "width": 3
          },
          "size": 12,
          "symbol": "square"
         },
         "mode": "markers",
         "name": "control",
         "offsetgroup": "1",
         "opacity": 0.4,
         "showlegend": false,
         "type": "scatter",
         "x": [
          "iIPS"
         ],
         "xaxis": "x4",
         "y": [
          2.922500664706341
         ],
         "yaxis": "y4"
        },
        {
         "error_y": {
          "array": [
           [
            0.06763204135958169
           ]
          ],
          "arrayminus": [
           [
            0.042262014849927296
           ]
          ],
          "color": "rgb(0,152,255)",
          "thickness": 3,
          "type": "data",
          "visible": true,
          "width": 0
         },
         "legendgroup": "patient",
         "marker": {
          "color": "rgb(0,152,255)",
          "line": {
           "color": "rgb(0,152,255)",
           "width": 3
          },
          "size": 12,
          "symbol": "square"
         },
         "mode": "markers",
         "name": "patient",
         "offsetgroup": "-1",
         "opacity": 1,
         "showlegend": false,
         "type": "scatter",
         "x": [
          "iIPS"
         ],
         "xaxis": "x5",
         "y": [
          0.0741193079983037
         ],
         "yaxis": "y5"
        },
        {
         "error_y": {
          "array": [
           [
            0.1770307863495112
           ]
          ],
          "arrayminus": [
           [
            0.1357803106320945
           ]
          ],
          "color": "rgb(0,152,255)",
          "thickness": 3,
          "type": "data",
          "visible": true,
          "width": 0
         },
         "legendgroup": "control",
         "marker": {
          "color": "rgb(0,152,255)",
          "line": {
           "color": "rgb(0,152,255)",
           "width": 3
          },
          "size": 12,
          "symbol": "square"
         },
         "mode": "markers",
         "name": "control",
         "offsetgroup": "1",
         "opacity": 0.4,
         "showlegend": false,
         "type": "scatter",
         "x": [
          "iIPS"
         ],
         "xaxis": "x5",
         "y": [
          0.2301721500221377
         ],
         "yaxis": "y5"
        },
        {
         "error_y": {
          "array": [
           [
            0.04697570567655579
           ]
          ],
          "arrayminus": [
           [
            0.05445433724407241
           ]
          ],
          "color": "rgb(0,152,255)",
          "thickness": 3,
          "type": "data",
          "visible": true,
          "width": 0
         },
         "legendgroup": "patient",
         "marker": {
          "color": "rgb(0,152,255)",
          "line": {
           "color": "rgb(0,152,255)",
           "width": 3
          },
          "size": 12,
          "symbol": "square"
         },
         "mode": "markers",
         "name": "patient",
         "offsetgroup": "-1",
         "opacity": 1,
         "showlegend": false,
         "type": "scatter",
         "x": [
          "iIPS"
         ],
         "xaxis": "x6",
         "y": [
          0.0979842284924689
         ],
         "yaxis": "y6"
        },
        {
         "error_y": {
          "array": [
           [
            0.14548141326771258
           ]
          ],
          "arrayminus": [
           [
            0.1260822147559043
           ]
          ],
          "color": "rgb(0,152,255)",
          "thickness": 3,
          "type": "data",
          "visible": true,
          "width": 0
         },
         "legendgroup": "control",
         "marker": {
          "color": "rgb(0,152,255)",
          "line": {
           "color": "rgb(0,152,255)",
           "width": 3
          },
          "size": 12,
          "symbol": "square"
         },
         "mode": "markers",
         "name": "control",
         "offsetgroup": "1",
         "opacity": 0.4,
         "showlegend": false,
         "type": "scatter",
         "x": [
          "iIPS"
         ],
         "xaxis": "x6",
         "y": [
          0.3239798557996118
         ],
         "yaxis": "y6"
        },
        {
         "error_y": {
          "array": [
           [
            1.5079279028993753
           ]
          ],
          "arrayminus": [
           [
            0.528538651245625
           ]
          ],
          "color": "rgb(0,152,255)",
          "thickness": 3,
          "type": "data",
          "visible": true,
          "width": 0
         },
         "legendgroup": "patient",
         "marker": {
          "color": "rgb(0,152,255)",
          "line": {
           "color": "rgb(0,152,255)",
           "width": 3
          },
          "size": 12,
          "symbol": "square"
         },
         "mode": "markers",
         "name": "patient",
         "offsetgroup": "-1",
         "opacity": 1,
         "showlegend": false,
         "type": "scatter",
         "x": [
          "iIPS"
         ],
         "xaxis": "x7",
         "y": [
          0.607678081520625
         ],
         "yaxis": "y7"
        },
        {
         "error_y": {
          "array": [
           [
            3.181387749073547
           ]
          ],
          "arrayminus": [
           [
            2.8620269121031994
           ]
          ],
          "color": "rgb(0,152,255)",
          "thickness": 3,
          "type": "data",
          "visible": true,
          "width": 0
         },
         "legendgroup": "control",
         "marker": {
          "color": "rgb(0,152,255)",
          "line": {
           "color": "rgb(0,152,255)",
           "width": 3
          },
          "size": 12,
          "symbol": "square"
         },
         "mode": "markers",
         "name": "control",
         "offsetgroup": "1",
         "opacity": 0.4,
         "showlegend": false,
         "type": "scatter",
         "x": [
          "iIPS"
         ],
         "xaxis": "x7",
         "y": [
          4.13408016314145
         ],
         "yaxis": "y7"
        },
        {
         "error_y": {
          "array": [
           [
            4.901589972594375
           ]
          ],
          "arrayminus": [
           [
            2.124040010118125
           ]
          ],
          "color": "rgb(0,152,255)",
          "thickness": 3,
          "type": "data",
          "visible": true,
          "width": 0
         },
         "legendgroup": "patient",
         "marker": {
          "color": "rgb(0,152,255)",
          "line": {
           "color": "rgb(0,152,255)",
           "width": 3
          },
          "size": 12,
          "symbol": "square"
         },
         "mode": "markers",
         "name": "patient",
         "offsetgroup": "-1",
         "opacity": 1,
         "showlegend": false,
         "type": "scatter",
         "x": [
          "iIPS"
         ],
         "xaxis": "x8",
         "y": [
          2.287422263048125
         ],
         "yaxis": "y8"
        },
        {
         "error_y": {
          "array": [
           [
            8.848646592451047
           ]
          ],
          "arrayminus": [
           [
            9.952437536944853
           ]
          ],
          "color": "rgb(0,152,255)",
          "thickness": 3,
          "type": "data",
          "visible": true,
          "width": 0
         },
         "legendgroup": "control",
         "marker": {
          "color": "rgb(0,152,255)",
          "line": {
           "color": "rgb(0,152,255)",
           "width": 3
          },
          "size": 12,
          "symbol": "square"
         },
         "mode": "markers",
         "name": "control",
         "offsetgroup": "1",
         "opacity": 0.4,
         "showlegend": false,
         "type": "scatter",
         "x": [
          "iIPS"
         ],
         "xaxis": "x8",
         "y": [
          17.9513488330358
         ],
         "yaxis": "y8"
        },
        {
         "error_y": {
          "array": [
           [
            0.3727961779170166
           ]
          ],
          "arrayminus": [
           [
            0.446737036028346
           ]
          ],
          "color": "rgb(44,255,150)",
          "thickness": 3,
          "type": "data",
          "visible": true,
          "width": 0
         },
         "legendgroup": "patient",
         "marker": {
          "color": "rgb(44,255,150)",
          "line": {
           "color": "rgb(44,255,150)",
           "width": 3
          },
          "size": 12,
          "symbol": "square"
         },
         "mode": "markers",
         "name": "patient",
         "offsetgroup": "-1",
         "opacity": 1,
         "showlegend": false,
         "type": "scatter",
         "x": [
          "sIPS"
         ],
         "xaxis": "x",
         "y": [
          1.2312020156639798
         ],
         "yaxis": "y"
        },
        {
         "error_y": {
          "array": [
           [
            0.6298992428677872
           ]
          ],
          "arrayminus": [
           [
            0.4637195860824952
           ]
          ],
          "color": "rgb(44,255,150)",
          "thickness": 3,
          "type": "data",
          "visible": true,
          "width": 0
         },
         "legendgroup": "control",
         "marker": {
          "color": "rgb(44,255,150)",
          "line": {
           "color": "rgb(44,255,150)",
           "width": 3
          },
          "size": 12,
          "symbol": "square"
         },
         "mode": "markers",
         "name": "control",
         "offsetgroup": "1",
         "opacity": 0.4,
         "showlegend": false,
         "type": "scatter",
         "x": [
          "sIPS"
         ],
         "xaxis": "x",
         "y": [
          1.5568562656985665
         ],
         "yaxis": "y"
        },
        {
         "error_y": {
          "array": [
           [
            3.8583427090173794
           ]
          ],
          "arrayminus": [
           [
            2.420055735307379
           ]
          ],
          "color": "rgb(44,255,150)",
          "thickness": 3,
          "type": "data",
          "visible": true,
          "width": 0
         },
         "legendgroup": "patient",
         "marker": {
          "color": "rgb(44,255,150)",
          "line": {
           "color": "rgb(44,255,150)",
           "width": 3
          },
          "size": 12,
          "symbol": "square"
         },
         "mode": "markers",
         "name": "patient",
         "offsetgroup": "-1",
         "opacity": 1,
         "showlegend": false,
         "type": "scatter",
         "x": [
          "sIPS"
         ],
         "xaxis": "x2",
         "y": [
          7.278173133619561
         ],
         "yaxis": "y2"
        },
        {
         "error_y": {
          "array": [
           [
            2.9100495221603833
           ]
          ],
          "arrayminus": [
           [
            2.546039388397281
           ]
          ],
          "color": "rgb(44,255,150)",
          "thickness": 3,
          "type": "data",
          "visible": true,
          "width": 0
         },
         "legendgroup": "control",
         "marker": {
          "color": "rgb(44,255,150)",
          "line": {
           "color": "rgb(44,255,150)",
           "width": 3
          },
          "size": 12,
          "symbol": "square"
         },
         "mode": "markers",
         "name": "control",
         "offsetgroup": "1",
         "opacity": 0.4,
         "showlegend": false,
         "type": "scatter",
         "x": [
          "sIPS"
         ],
         "xaxis": "x2",
         "y": [
          6.954179620587253
         ],
         "yaxis": "y2"
        },
        {
         "error_y": {
          "array": [
           [
            0.33993087245591935
           ]
          ],
          "arrayminus": [
           [
            0.35298307191538336
           ]
          ],
          "color": "rgb(44,255,150)",
          "thickness": 3,
          "type": "data",
          "visible": true,
          "width": 0
         },
         "legendgroup": "patient",
         "marker": {
          "color": "rgb(44,255,150)",
          "line": {
           "color": "rgb(44,255,150)",
           "width": 3
          },
          "size": 12,
          "symbol": "square"
         },
         "mode": "markers",
         "name": "patient",
         "offsetgroup": "-1",
         "opacity": 1,
         "showlegend": false,
         "type": "scatter",
         "x": [
          "sIPS"
         ],
         "xaxis": "x3",
         "y": [
          0.5356755055714097
         ],
         "yaxis": "y3"
        },
        {
         "error_y": {
          "array": [
           [
            1.81637916449594
           ]
          ],
          "arrayminus": [
           [
            1.020088187263545
           ]
          ],
          "color": "rgb(44,255,150)",
          "thickness": 3,
          "type": "data",
          "visible": true,
          "width": 0
         },
         "legendgroup": "control",
         "marker": {
          "color": "rgb(44,255,150)",
          "line": {
           "color": "rgb(44,255,150)",
           "width": 3
          },
          "size": 12,
          "symbol": "square"
         },
         "mode": "markers",
         "name": "control",
         "offsetgroup": "1",
         "opacity": 0.4,
         "showlegend": false,
         "type": "scatter",
         "x": [
          "sIPS"
         ],
         "xaxis": "x3",
         "y": [
          1.4775392318234744
         ],
         "yaxis": "y3"
        },
        {
         "error_y": {
          "array": [
           [
            0.3664883835794485
           ]
          ],
          "arrayminus": [
           [
            0.1951739593433738
           ]
          ],
          "color": "rgb(44,255,150)",
          "thickness": 3,
          "type": "data",
          "visible": true,
          "width": 0
         },
         "legendgroup": "patient",
         "marker": {
          "color": "rgb(44,255,150)",
          "line": {
           "color": "rgb(44,255,150)",
           "width": 3
          },
          "size": 12,
          "symbol": "square"
         },
         "mode": "markers",
         "name": "patient",
         "offsetgroup": "-1",
         "opacity": 1,
         "showlegend": false,
         "type": "scatter",
         "x": [
          "sIPS"
         ],
         "xaxis": "x4",
         "y": [
          0.3906906774951418
         ],
         "yaxis": "y4"
        },
        {
         "error_y": {
          "array": [
           [
            2.4691169321574975
           ]
          ],
          "arrayminus": [
           [
            1.7240769648492553
           ]
          ],
          "color": "rgb(44,255,150)",
          "thickness": 3,
          "type": "data",
          "visible": true,
          "width": 0
         },
         "legendgroup": "control",
         "marker": {
          "color": "rgb(44,255,150)",
          "line": {
           "color": "rgb(44,255,150)",
           "width": 3
          },
          "size": 12,
          "symbol": "square"
         },
         "mode": "markers",
         "name": "control",
         "offsetgroup": "1",
         "opacity": 0.4,
         "showlegend": false,
         "type": "scatter",
         "x": [
          "sIPS"
         ],
         "xaxis": "x4",
         "y": [
          2.330258899091308
         ],
         "yaxis": "y4"
        },
        {
         "error_y": {
          "array": [
           [
            0.037961825063190104
           ]
          ],
          "arrayminus": [
           [
            0.0242795863670714
           ]
          ],
          "color": "rgb(44,255,150)",
          "thickness": 3,
          "type": "data",
          "visible": true,
          "width": 0
         },
         "legendgroup": "patient",
         "marker": {
          "color": "rgb(44,255,150)",
          "line": {
           "color": "rgb(44,255,150)",
           "width": 3
          },
          "size": 12,
          "symbol": "square"
         },
         "mode": "markers",
         "name": "patient",
         "offsetgroup": "-1",
         "opacity": 1,
         "showlegend": false,
         "type": "scatter",
         "x": [
          "sIPS"
         ],
         "xaxis": "x5",
         "y": [
          0.0393571809057043
         ],
         "yaxis": "y5"
        },
        {
         "error_y": {
          "array": [
           [
            0.1413396972486205
           ]
          ],
          "arrayminus": [
           [
            0.049162694174124597
           ]
          ],
          "color": "rgb(44,255,150)",
          "thickness": 3,
          "type": "data",
          "visible": true,
          "width": 0
         },
         "legendgroup": "control",
         "marker": {
          "color": "rgb(44,255,150)",
          "line": {
           "color": "rgb(44,255,150)",
           "width": 3
          },
          "size": 12,
          "symbol": "square"
         },
         "mode": "markers",
         "name": "control",
         "offsetgroup": "1",
         "opacity": 0.4,
         "showlegend": false,
         "type": "scatter",
         "x": [
          "sIPS"
         ],
         "xaxis": "x5",
         "y": [
          0.0959338330677355
         ],
         "yaxis": "y5"
        },
        {
         "error_y": {
          "array": [
           [
            0.031495239901963595
           ]
          ],
          "arrayminus": [
           [
            0.025428736201140202
           ]
          ],
          "color": "rgb(44,255,150)",
          "thickness": 3,
          "type": "data",
          "visible": true,
          "width": 0
         },
         "legendgroup": "patient",
         "marker": {
          "color": "rgb(44,255,150)",
          "line": {
           "color": "rgb(44,255,150)",
           "width": 3
          },
          "size": 12,
          "symbol": "square"
         },
         "mode": "markers",
         "name": "patient",
         "offsetgroup": "-1",
         "opacity": 1,
         "showlegend": false,
         "type": "scatter",
         "x": [
          "sIPS"
         ],
         "xaxis": "x6",
         "y": [
          0.0683766376982438
         ],
         "yaxis": "y6"
        },
        {
         "error_y": {
          "array": [
           [
            0.0915100636658745
           ]
          ],
          "arrayminus": [
           [
            0.10700535555092908
           ]
          ],
          "color": "rgb(44,255,150)",
          "thickness": 3,
          "type": "data",
          "visible": true,
          "width": 0
         },
         "legendgroup": "control",
         "marker": {
          "color": "rgb(44,255,150)",
          "line": {
           "color": "rgb(44,255,150)",
           "width": 3
          },
          "size": 12,
          "symbol": "square"
         },
         "mode": "markers",
         "name": "control",
         "offsetgroup": "1",
         "opacity": 0.4,
         "showlegend": false,
         "type": "scatter",
         "x": [
          "sIPS"
         ],
         "xaxis": "x6",
         "y": [
          0.3025955014663775
         ],
         "yaxis": "y6"
        },
        {
         "error_y": {
          "array": [
           [
            0.7217853004670627
           ]
          ],
          "arrayminus": [
           [
            0.2871918427604374
           ]
          ],
          "color": "rgb(44,255,150)",
          "thickness": 3,
          "type": "data",
          "visible": true,
          "width": 0
         },
         "legendgroup": "patient",
         "marker": {
          "color": "rgb(44,255,150)",
          "line": {
           "color": "rgb(44,255,150)",
           "width": 3
          },
          "size": 12,
          "symbol": "square"
         },
         "mode": "markers",
         "name": "patient",
         "offsetgroup": "-1",
         "opacity": 1,
         "showlegend": false,
         "type": "scatter",
         "x": [
          "sIPS"
         ],
         "xaxis": "x7",
         "y": [
          0.3129726750604374
         ],
         "yaxis": "y7"
        },
        {
         "error_y": {
          "array": [
           [
            3.7604518228324464
           ]
          ],
          "arrayminus": [
           [
            2.3450014897234
           ]
          ],
          "color": "rgb(44,255,150)",
          "thickness": 3,
          "type": "data",
          "visible": true,
          "width": 0
         },
         "legendgroup": "control",
         "marker": {
          "color": "rgb(44,255,150)",
          "line": {
           "color": "rgb(44,255,150)",
           "width": 3
          },
          "size": 12,
          "symbol": "square"
         },
         "mode": "markers",
         "name": "control",
         "offsetgroup": "1",
         "opacity": 0.4,
         "showlegend": false,
         "type": "scatter",
         "x": [
          "sIPS"
         ],
         "xaxis": "x7",
         "y": [
          3.75310401943565
         ],
         "yaxis": "y7"
        },
        {
         "error_y": {
          "array": [
           [
            3.7438665806446876
           ]
          ],
          "arrayminus": [
           [
            1.4624495918840625
           ]
          ],
          "color": "rgb(44,255,150)",
          "thickness": 3,
          "type": "data",
          "visible": true,
          "width": 0
         },
         "legendgroup": "patient",
         "marker": {
          "color": "rgb(44,255,150)",
          "line": {
           "color": "rgb(44,255,150)",
           "width": 3
          },
          "size": 12,
          "symbol": "square"
         },
         "mode": "markers",
         "name": "patient",
         "offsetgroup": "-1",
         "opacity": 1,
         "showlegend": false,
         "type": "scatter",
         "x": [
          "sIPS"
         ],
         "xaxis": "x8",
         "y": [
          1.5715921721715624
         ],
         "yaxis": "y8"
        },
        {
         "error_y": {
          "array": [
           [
            15.069724045272494
           ]
          ],
          "arrayminus": [
           [
            15.13686910653875
           ]
          ],
          "color": "rgb(44,255,150)",
          "thickness": 3,
          "type": "data",
          "visible": true,
          "width": 0
         },
         "legendgroup": "control",
         "marker": {
          "color": "rgb(44,255,150)",
          "line": {
           "color": "rgb(44,255,150)",
           "width": 3
          },
          "size": 12,
          "symbol": "square"
         },
         "mode": "markers",
         "name": "control",
         "offsetgroup": "1",
         "opacity": 0.4,
         "showlegend": false,
         "type": "scatter",
         "x": [
          "sIPS"
         ],
         "xaxis": "x8",
         "y": [
          22.97327516517
         ],
         "yaxis": "y8"
        }
       ],
       "layout": {
        "annotations": [
         {
          "font": {
           "size": 16
          },
          "showarrow": false,
          "text": "Foveal pRF",
          "x": 0.23,
          "xanchor": "center",
          "xref": "paper",
          "y": 1,
          "yanchor": "bottom",
          "yref": "paper"
         },
         {
          "font": {
           "size": 16
          },
          "showarrow": false,
          "text": "Peripheral pRF",
          "x": 0.77,
          "xanchor": "center",
          "xref": "paper",
          "y": 1,
          "yanchor": "bottom",
          "yref": "paper"
         }
        ],
        "height": 1000,
        "legend": {
         "font": {
          "family": "Arial",
          "size": 15
         },
         "itemwidth": 30,
         "orientation": "h",
         "traceorder": "normal",
         "x": 0.8,
         "xanchor": "left",
         "y": 1.1,
         "yanchor": "top"
        },
        "margin": {
         "b": 100,
         "l": 100,
         "r": 50,
         "t": 100
        },
        "scattermode": "group",
        "template": {
         "data": {
          "barpolar": [
           {
            "marker": {
             "line": {
              "color": "rgba(0, 0, 0, 1)",
              "width": 1.5
             }
            },
            "showlegend": false,
            "type": "barpolar"
           }
          ],
          "pie": [
           {
            "direction": "clockwise",
            "hole": 0.4,
            "marker": {
             "line": {
              "width": 0
             }
            },
            "rotation": 0,
            "sort": false,
            "textposition": [
             "inside",
             "none"
            ],
            "type": "pie"
           }
          ],
          "violin": [
           {
            "box": {
             "visible": false
            },
            "hoveron": "violins",
            "line": {
             "color": "rgba(0, 0, 0, 1)",
             "width": 1.5
            },
            "meanline": {
             "visible": false
            },
            "points": false,
            "showlegend": false,
            "type": "violin",
            "width": 0.8
           }
          ]
         },
         "layout": {
          "annotationdefaults": {
           "font": {
            "color": "rgba(0, 0, 0, 1)",
            "family": "Arial",
            "size": 15
           }
          },
          "font": {
           "family": "Arial",
           "size": 15
          },
          "plot_bgcolor": "rgba(255, 255, 255, 1)",
          "polar": {
           "angularaxis": {
            "showticklabels": false,
            "ticks": "",
            "visible": false
           },
           "radialaxis": {
            "showticklabels": false,
            "ticks": "",
            "visible": false
           }
          },
          "xaxis": {
           "color": "rgba(0, 0, 0, 1)",
           "hoverformat": ".1f",
           "linewidth": 2,
           "showgrid": false,
           "tickfont": {
            "family": "Arial",
            "size": 15
           },
           "ticklen": 8,
           "ticks": "outside",
           "tickwidth": 2,
           "title": {
            "font": {
             "family": "Arial",
             "size": 15
            }
           },
           "visible": true,
           "zeroline": false,
           "zerolinecolor": "rgba(0, 0, 0, 1)",
           "zerolinewidth": 2
          },
          "yaxis": {
           "color": "rgba(0, 0, 0, 1)",
           "hoverformat": ".1f",
           "linewidth": 2,
           "showgrid": false,
           "tickfont": {
            "family": "Arial",
            "size": 15
           },
           "ticklen": 8,
           "ticks": "outside",
           "tickwidth": 2,
           "title": {
            "font": {
             "family": "Arial",
             "size": 15
            }
           },
           "visible": true,
           "zeroline": false,
           "zerolinecolor": "rgba(0, 0, 0, 1)",
           "zerolinewidth": 2
          }
         }
        },
        "title": {
         "xanchor": "left"
        },
        "width": 1080,
        "xaxis": {
         "anchor": "y",
         "autorange": true,
         "domain": [
          0,
          0.46
         ],
         "linecolor": "rgba(255,255,255,0)",
         "range": [
          -0.5,
          8.5
         ],
         "showline": true,
         "ticklen": 0,
         "type": "category"
        },
        "xaxis2": {
         "anchor": "y2",
         "autorange": true,
         "domain": [
          0.54,
          1
         ],
         "linecolor": "rgba(255,255,255,0)",
         "range": [
          -0.5,
          8.5
         ],
         "showline": true,
         "ticklen": 0,
         "type": "category"
        },
        "xaxis3": {
         "anchor": "y3",
         "autorange": true,
         "domain": [
          0,
          0.46
         ],
         "linecolor": "rgba(255,255,255,0)",
         "range": [
          -0.5,
          8.5
         ],
         "showline": true,
         "ticklen": 0,
         "type": "category"
        },
        "xaxis4": {
         "anchor": "y4",
         "autorange": true,
         "domain": [
          0.54,
          1
         ],
         "linecolor": "rgba(255,255,255,0)",
         "range": [
          -0.5,
          8.5
         ],
         "showline": true,
         "ticklen": 0,
         "type": "category"
        },
        "xaxis5": {
         "anchor": "y5",
         "autorange": true,
         "domain": [
          0,
          0.46
         ],
         "linecolor": "rgba(255,255,255,0)",
         "range": [
          -0.5,
          8.5
         ],
         "showline": true,
         "ticklen": 0,
         "type": "category"
        },
        "xaxis6": {
         "anchor": "y6",
         "autorange": true,
         "domain": [
          0.54,
          1
         ],
         "linecolor": "rgba(255,255,255,0)",
         "range": [
          -0.5,
          8.5
         ],
         "showline": true,
         "ticklen": 0,
         "type": "category"
        },
        "xaxis7": {
         "anchor": "y7",
         "autorange": true,
         "domain": [
          0,
          0.46
         ],
         "linecolor": "rgba(255,255,255,0)",
         "range": [
          -0.5,
          8.5
         ],
         "showline": true,
         "ticklen": 0,
         "type": "category"
        },
        "xaxis8": {
         "anchor": "y8",
         "autorange": true,
         "domain": [
          0.54,
          1
         ],
         "linecolor": "rgba(255,255,255,0)",
         "range": [
          -0.5,
          8.5
         ],
         "showline": true,
         "ticklen": 0,
         "type": "category"
        },
        "yaxis": {
         "anchor": "x",
         "domain": [
          0.81,
          1
         ],
         "nticks": 7,
         "range": [
          0,
          2.5
         ],
         "showline": true,
         "title": {
          "text": "pRF size (dva)"
         },
         "type": "linear"
        },
        "yaxis2": {
         "anchor": "x2",
         "domain": [
          0.81,
          1
         ],
         "nticks": 7,
         "range": [
          0,
          12
         ],
         "showline": true,
         "title": {
          "text": "pRF size (dva)"
         },
         "type": "linear"
        },
        "yaxis3": {
         "anchor": "x3",
         "domain": [
          0.54,
          0.73
         ],
         "nticks": 4,
         "range": [
          0,
          15
         ],
         "showline": true,
         "title": {
          "text": "pRF CM (mm/dva)"
         },
         "type": "linear"
        },
        "yaxis4": {
         "anchor": "x4",
         "domain": [
          0.54,
          0.73
         ],
         "nticks": 5,
         "range": [
          0,
          8
         ],
         "showline": true,
         "title": {
          "text": "pRF CM (mm/dva)"
         },
         "type": "linear"
        },
        "yaxis5": {
         "anchor": "x5",
         "domain": [
          0.27,
          0.46
         ],
         "nticks": 6,
         "range": [
          0,
          0.5
         ],
         "showline": true,
         "title": {
          "text": "pRF LOO R<sup>2</sup>"
         },
         "type": "linear"
        },
        "yaxis6": {
         "anchor": "x6",
         "domain": [
          0.27,
          0.46
         ],
         "nticks": 6,
         "range": [
          0,
          0.5
         ],
         "showline": true,
         "title": {
          "text": "pRF LOO R<sup>2</sup>"
         },
         "type": "linear"
        },
        "yaxis7": {
         "anchor": "x7",
         "domain": [
          0,
          0.19
         ],
         "nticks": 6,
         "range": [
          0,
          40
         ],
         "showline": true,
         "title": {
          "text": "Surface area (cm<sup>2</sup>)"
         },
         "type": "linear"
        },
        "yaxis8": {
         "anchor": "x8",
         "domain": [
          0,
          0.19
         ],
         "nticks": 6,
         "range": [
          0,
          40
         ],
         "showline": true,
         "title": {
          "text": "Surface area (cm<sup>2</sup>)"
         },
         "type": "linear"
        }
       }
      },
      "image/png": "[encoded data removed]",
      "text/html": [
       "<div>                            <div id=\"ab6e18a0-aa06-444c-b5cd-c8af387b600c\" class=\"plotly-graph-div\" style=\"height:1000px; width:1080px;\"></div>            <script type=\"text/javascript\">                require([\"plotly\"], function(Plotly) {                    window.PLOTLYENV=window.PLOTLYENV || {};                                    if (document.getElementById(\"ab6e18a0-aa06-444c-b5cd-c8af387b600c\")) {                    Plotly.newPlot(                        \"ab6e18a0-aa06-444c-b5cd-c8af387b600c\",                        [{\"error_y\":{\"array\":[[0.5426698684746958]],\"arrayminus\":[[0.6057250595484965]],\"color\":\"rgb(243,231,155)\",\"thickness\":3,\"type\":\"data\",\"visible\":true,\"width\":0},\"legendgroup\":\"patient\",\"marker\":{\"color\":\"rgb(243,231,155)\",\"line\":{\"color\":\"rgb(243,231,155)\",\"width\":3},\"size\":12,\"symbol\":\"square\"},\"mode\":\"markers\",\"name\":\"patient\",\"offsetgroup\":\"-1\",\"opacity\":1,\"showlegend\":true,\"x\":[\"V1\"],\"y\":[1.1238089529193156],\"type\":\"scatter\",\"xaxis\":\"x\",\"yaxis\":\"y\"},{\"error_y\":{\"array\":[[0.22273594824334197]],\"arrayminus\":[[0.15131495023834063]],\"color\":\"rgb(243,231,155)\",\"thickness\":3,\"type\":\"data\",\"visible\":true,\"width\":0},\"legendgroup\":\"control\",\"marker\":{\"color\":\"rgb(243,231,155)\",\"line\":{\"color\":\"rgb(243,231,155)\",\"width\":3},\"size\":12,\"symbol\":\"square\"},\"mode\":\"markers\",\"name\":\"control\",\"offsetgroup\":\"1\",\"opacity\":0.4,\"showlegend\":true,\"x\":[\"V1\"],\"y\":[0.9731659553212182],\"type\":\"scatter\",\"xaxis\":\"x\",\"yaxis\":\"y\"},{\"error_y\":{\"array\":[[4.112031363636634]],\"arrayminus\":[[1.6526579077952315]],\"color\":\"rgb(243,231,155)\",\"thickness\":3,\"type\":\"data\",\"visible\":true,\"width\":0},\"legendgroup\":\"patient\",\"marker\":{\"color\":\"rgb(243,231,155)\",\"line\":{\"color\":\"rgb(243,231,155)\",\"width\":3},\"size\":12,\"symbol\":\"square\"},\"mode\":\"markers\",\"name\":\"patient\",\"offsetgroup\":\"-1\",\"opacity\":1,\"showlegend\":false,\"x\":[\"V1\"],\"y\":[5.061237911133544],\"type\":\"scatter\",\"xaxis\":\"x2\",\"yaxis\":\"y2\"},{\"error_y\":{\"array\":[[1.0813718284808198]],\"arrayminus\":[[0.5437226953207879]],\"color\":\"rgb(243,231,155)\",\"thickness\":3,\"type\":\"data\",\"visible\":true,\"width\":0},\"legendgroup\":\"control\",\"marker\":{\"color\":\"rgb(243,231,155)\",\"line\":{\"color\":\"rgb(243,231,155)\",\"width\":3},\"size\":12,\"symbol\":\"square\"},\"mode\":\"markers\",\"name\":\"control\",\"offsetgroup\":\"1\",\"opacity\":0.4,\"showlegend\":false,\"x\":[\"V1\"],\"y\":[3.8610182641444446],\"type\":\"scatter\",\"xaxis\":\"x2\",\"yaxis\":\"y2\"},{\"error_y\":{\"array\":[[2.156657815781295]],\"arrayminus\":[[2.336675135719288]],\"color\":\"rgb(243,231,155)\",\"thickness\":3,\"type\":\"data\",\"visible\":true,\"width\":0},\"legendgroup\":\"patient\",\"marker\":{\"color\":\"rgb(243,231,155)\",\"line\":{\"color\":\"rgb(243,231,155)\",\"width\":3},\"size\":12,\"symbol\":\"square\"},\"mode\":\"markers\",\"name\":\"patient\",\"offsetgroup\":\"-1\",\"opacity\":1,\"showlegend\":false,\"x\":[\"V1\"],\"y\":[3.0508994303018397],\"type\":\"scatter\",\"xaxis\":\"x3\",\"yaxis\":\"y3\"},{\"error_y\":{\"array\":[[3.081688789576779]],\"arrayminus\":[[3.3458157669482036]],\"color\":\"rgb(243,231,155)\",\"thickness\":3,\"type\":\"data\",\"visible\":true,\"width\":0},\"legendgroup\":\"control\",\"marker\":{\"color\":\"rgb(243,231,155)\",\"line\":{\"color\":\"rgb(243,231,155)\",\"width\":3},\"size\":12,\"symbol\":\"square\"},\"mode\":\"markers\",\"name\":\"control\",\"offsetgroup\":\"1\",\"opacity\":0.4,\"showlegend\":false,\"x\":[\"V1\"],\"y\":[10.362728852200526],\"type\":\"scatter\",\"xaxis\":\"x3\",\"yaxis\":\"y3\"},{\"error_y\":{\"array\":[[2.921118355259245]],\"arrayminus\":[[2.031688782395263]],\"color\":\"rgb(243,231,155)\",\"thickness\":3,\"type\":\"data\",\"visible\":true,\"width\":0},\"legendgroup\":\"patient\",\"marker\":{\"color\":\"rgb(243,231,155)\",\"line\":{\"color\":\"rgb(243,231,155)\",\"width\":3},\"size\":12,\"symbol\":\"square\"},\"mode\":\"markers\",\"name\":\"patient\",\"offsetgroup\":\"-1\",\"opacity\":1,\"showlegend\":false,\"x\":[\"V1\"],\"y\":[2.453900624089356],\"type\":\"scatter\",\"xaxis\":\"x4\",\"yaxis\":\"y4\"},{\"error_y\":{\"array\":[[1.4405000262965741]],\"arrayminus\":[[1.022316371016338]],\"color\":\"rgb(243,231,155)\",\"thickness\":3,\"type\":\"data\",\"visible\":true,\"width\":0},\"legendgroup\":\"control\",\"marker\":{\"color\":\"rgb(243,231,155)\",\"line\":{\"color\":\"rgb(243,231,155)\",\"width\":3},\"size\":12,\"symbol\":\"square\"},\"mode\":\"markers\",\"name\":\"control\",\"offsetgroup\":\"1\",\"opacity\":0.4,\"showlegend\":false,\"x\":[\"V1\"],\"y\":[1.5983429074169904],\"type\":\"scatter\",\"xaxis\":\"x4\",\"yaxis\":\"y4\"},{\"error_y\":{\"array\":[[0.1316794841865768]],\"arrayminus\":[[0.1328653251572428]],\"color\":\"rgb(243,231,155)\",\"thickness\":3,\"type\":\"data\",\"visible\":true,\"width\":0},\"legendgroup\":\"patient\",\"marker\":{\"color\":\"rgb(243,231,155)\",\"line\":{\"color\":\"rgb(243,231,155)\",\"width\":3},\"size\":12,\"symbol\":\"square\"},\"mode\":\"markers\",\"name\":\"patient\",\"offsetgroup\":\"-1\",\"opacity\":1,\"showlegend\":false,\"x\":[\"V1\"],\"y\":[0.1994336836496566],\"type\":\"scatter\",\"xaxis\":\"x5\",\"yaxis\":\"y5\"},{\"error_y\":{\"array\":[[0.09238621846739375]],\"arrayminus\":[[0.09217162146067842]],\"color\":\"rgb(243,231,155)\",\"thickness\":3,\"type\":\"data\",\"visible\":true,\"width\":0},\"legendgroup\":\"control\",\"marker\":{\"color\":\"rgb(243,231,155)\",\"line\":{\"color\":\"rgb(243,231,155)\",\"width\":3},\"size\":12,\"symbol\":\"square\"},\"mode\":\"markers\",\"name\":\"control\",\"offsetgroup\":\"1\",\"opacity\":0.4,\"showlegend\":false,\"x\":[\"V1\"],\"y\":[0.4564397664361473],\"type\":\"scatter\",\"xaxis\":\"x5\",\"yaxis\":\"y5\"},{\"error_y\":{\"array\":[[0.1526782573567224]],\"arrayminus\":[[0.1076143911390374]],\"color\":\"rgb(243,231,155)\",\"thickness\":3,\"type\":\"data\",\"visible\":true,\"width\":0},\"legendgroup\":\"patient\",\"marker\":{\"color\":\"rgb(243,231,155)\",\"line\":{\"color\":\"rgb(243,231,155)\",\"width\":3},\"size\":12,\"symbol\":\"square\"},\"mode\":\"markers\",\"name\":\"patient\",\"offsetgroup\":\"-1\",\"opacity\":1,\"showlegend\":false,\"x\":[\"V1\"],\"y\":[0.2364247634854867],\"type\":\"scatter\",\"xaxis\":\"x6\",\"yaxis\":\"y6\"},{\"error_y\":{\"array\":[[0.12152211675250169]],\"arrayminus\":[[0.122166815251953]],\"color\":\"rgb(243,231,155)\",\"thickness\":3,\"type\":\"data\",\"visible\":true,\"width\":0},\"legendgroup\":\"control\",\"marker\":{\"color\":\"rgb(243,231,155)\",\"line\":{\"color\":\"rgb(243,231,155)\",\"width\":3},\"size\":12,\"symbol\":\"square\"},\"mode\":\"markers\",\"name\":\"control\",\"offsetgroup\":\"1\",\"opacity\":0.4,\"showlegend\":false,\"x\":[\"V1\"],\"y\":[0.2812756529774762],\"type\":\"scatter\",\"xaxis\":\"x6\",\"yaxis\":\"y6\"},{\"error_y\":{\"array\":[[10.732304412355747]],\"arrayminus\":[[9.101456516887124]],\"color\":\"rgb(243,231,155)\",\"thickness\":3,\"type\":\"data\",\"visible\":true,\"width\":0},\"legendgroup\":\"patient\",\"marker\":{\"color\":\"rgb(243,231,155)\",\"line\":{\"color\":\"rgb(243,231,155)\",\"width\":3},\"size\":12,\"symbol\":\"square\"},\"mode\":\"markers\",\"name\":\"patient\",\"offsetgroup\":\"-1\",\"opacity\":1,\"showlegend\":false,\"x\":[\"V1\"],\"y\":[10.324529875564624],\"type\":\"scatter\",\"xaxis\":\"x7\",\"yaxis\":\"y7\"},{\"error_y\":{\"array\":[[8.063003073616517]],\"arrayminus\":[[7.786433577329625]],\"color\":\"rgb(243,231,155)\",\"thickness\":3,\"type\":\"data\",\"visible\":true,\"width\":0},\"legendgroup\":\"control\",\"marker\":{\"color\":\"rgb(243,231,155)\",\"line\":{\"color\":\"rgb(243,231,155)\",\"width\":3},\"size\":12,\"symbol\":\"square\"},\"mode\":\"markers\",\"name\":\"control\",\"offsetgroup\":\"1\",\"opacity\":0.4,\"showlegend\":false,\"x\":[\"V1\"],\"y\":[24.0902160373475],\"type\":\"scatter\",\"xaxis\":\"x7\",\"yaxis\":\"y7\"},{\"error_y\":{\"array\":[[6.659024035543749]],\"arrayminus\":[[4.264088734498625]],\"color\":\"rgb(243,231,155)\",\"thickness\":3,\"type\":\"data\",\"visible\":true,\"width\":0},\"legendgroup\":\"patient\",\"marker\":{\"color\":\"rgb(243,231,155)\",\"line\":{\"color\":\"rgb(243,231,155)\",\"width\":3},\"size\":12,\"symbol\":\"square\"},\"mode\":\"markers\",\"name\":\"patient\",\"offsetgroup\":\"-1\",\"opacity\":1,\"showlegend\":false,\"x\":[\"V1\"],\"y\":[5.763000793244875],\"type\":\"scatter\",\"xaxis\":\"x8\",\"yaxis\":\"y8\"},{\"error_y\":{\"array\":[[2.704010947161023]],\"arrayminus\":[[1.6335555816252]],\"color\":\"rgb(243,231,155)\",\"thickness\":3,\"type\":\"data\",\"visible\":true,\"width\":0},\"legendgroup\":\"control\",\"marker\":{\"color\":\"rgb(243,231,155)\",\"line\":{\"color\":\"rgb(243,231,155)\",\"width\":3},\"size\":12,\"symbol\":\"square\"},\"mode\":\"markers\",\"name\":\"control\",\"offsetgroup\":\"1\",\"opacity\":0.4,\"showlegend\":false,\"x\":[\"V1\"],\"y\":[2.11768728397695],\"type\":\"scatter\",\"xaxis\":\"x8\",\"yaxis\":\"y8\"},{\"error_y\":{\"array\":[[0.4973283126540169]],\"arrayminus\":[[0.6639999954214527]],\"color\":\"rgb(250,196,132)\",\"thickness\":3,\"type\":\"data\",\"visible\":true,\"width\":0},\"legendgroup\":\"patient\",\"marker\":{\"color\":\"rgb(250,196,132)\",\"line\":{\"color\":\"rgb(250,196,132)\",\"width\":3},\"size\":12,\"symbol\":\"square\"},\"mode\":\"markers\",\"name\":\"patient\",\"offsetgroup\":\"-1\",\"opacity\":1,\"showlegend\":false,\"x\":[\"V2\"],\"y\":[1.3128227938226391],\"type\":\"scatter\",\"xaxis\":\"x\",\"yaxis\":\"y\"},{\"error_y\":{\"array\":[[0.2002748864126761]],\"arrayminus\":[[0.11324067014557782]],\"color\":\"rgb(250,196,132)\",\"thickness\":3,\"type\":\"data\",\"visible\":true,\"width\":0},\"legendgroup\":\"control\",\"marker\":{\"color\":\"rgb(250,196,132)\",\"line\":{\"color\":\"rgb(250,196,132)\",\"width\":3},\"size\":12,\"symbol\":\"square\"},\"mode\":\"markers\",\"name\":\"control\",\"offsetgroup\":\"1\",\"opacity\":0.4,\"showlegend\":false,\"x\":[\"V2\"],\"y\":[0.9627885913017028],\"type\":\"scatter\",\"xaxis\":\"x\",\"yaxis\":\"y\"},{\"error_y\":{\"array\":[[3.7675027106331482]],\"arrayminus\":[[1.601571251221951]],\"color\":\"rgb(250,196,132)\",\"thickness\":3,\"type\":\"data\",\"visible\":true,\"width\":0},\"legendgroup\":\"patient\",\"marker\":{\"color\":\"rgb(250,196,132)\",\"line\":{\"color\":\"rgb(250,196,132)\",\"width\":3},\"size\":12,\"symbol\":\"square\"},\"mode\":\"markers\",\"name\":\"patient\",\"offsetgroup\":\"-1\",\"opacity\":1,\"showlegend\":false,\"x\":[\"V2\"],\"y\":[5.123737901521413],\"type\":\"scatter\",\"xaxis\":\"x2\",\"yaxis\":\"y2\"},{\"error_y\":{\"array\":[[0.899512215199711]],\"arrayminus\":[[0.39525210310191605]],\"color\":\"rgb(250,196,132)\",\"thickness\":3,\"type\":\"data\",\"visible\":true,\"width\":0},\"legendgroup\":\"control\",\"marker\":{\"color\":\"rgb(250,196,132)\",\"line\":{\"color\":\"rgb(250,196,132)\",\"width\":3},\"size\":12,\"symbol\":\"square\"},\"mode\":\"markers\",\"name\":\"control\",\"offsetgroup\":\"1\",\"opacity\":0.4,\"showlegend\":false,\"x\":[\"V2\"],\"y\":[3.50586346138716],\"type\":\"scatter\",\"xaxis\":\"x2\",\"yaxis\":\"y2\"},{\"error_y\":{\"array\":[[2.0753242949609905]],\"arrayminus\":[[2.2982076967476073]],\"color\":\"rgb(250,196,132)\",\"thickness\":3,\"type\":\"data\",\"visible\":true,\"width\":0},\"legendgroup\":\"patient\",\"marker\":{\"color\":\"rgb(250,196,132)\",\"line\":{\"color\":\"rgb(250,196,132)\",\"width\":3},\"size\":12,\"symbol\":\"square\"},\"mode\":\"markers\",\"name\":\"patient\",\"offsetgroup\":\"-1\",\"opacity\":1,\"showlegend\":false,\"x\":[\"V2\"],\"y\":[2.913616862940429],\"type\":\"scatter\",\"xaxis\":\"x3\",\"yaxis\":\"y3\"},{\"error_y\":{\"array\":[[2.1663614691272777]],\"arrayminus\":[[2.72029728946762]],\"color\":\"rgb(250,196,132)\",\"thickness\":3,\"type\":\"data\",\"visible\":true,\"width\":0},\"legendgroup\":\"control\",\"marker\":{\"color\":\"rgb(250,196,132)\",\"line\":{\"color\":\"rgb(250,196,132)\",\"width\":3},\"size\":12,\"symbol\":\"square\"},\"mode\":\"markers\",\"name\":\"control\",\"offsetgroup\":\"1\",\"opacity\":0.4,\"showlegend\":false,\"x\":[\"V2\"],\"y\":[12.004403110354929],\"type\":\"scatter\",\"xaxis\":\"x3\",\"yaxis\":\"y3\"},{\"error_y\":{\"array\":[[2.22048105341292]],\"arrayminus\":[[1.5737697439136524]],\"color\":\"rgb(250,196,132)\",\"thickness\":3,\"type\":\"data\",\"visible\":true,\"width\":0},\"legendgroup\":\"patient\",\"marker\":{\"color\":\"rgb(250,196,132)\",\"line\":{\"color\":\"rgb(250,196,132)\",\"width\":3},\"size\":12,\"symbol\":\"square\"},\"mode\":\"markers\",\"name\":\"patient\",\"offsetgroup\":\"-1\",\"opacity\":1,\"showlegend\":false,\"x\":[\"V2\"],\"y\":[2.146710591141261],\"type\":\"scatter\",\"xaxis\":\"x4\",\"yaxis\":\"y4\"},{\"error_y\":{\"array\":[[3.656623327404951]],\"arrayminus\":[[1.4409150631397072]],\"color\":\"rgb(250,196,132)\",\"thickness\":3,\"type\":\"data\",\"visible\":true,\"width\":0},\"legendgroup\":\"control\",\"marker\":{\"color\":\"rgb(250,196,132)\",\"line\":{\"color\":\"rgb(250,196,132)\",\"width\":3},\"size\":12,\"symbol\":\"square\"},\"mode\":\"markers\",\"name\":\"control\",\"offsetgroup\":\"1\",\"opacity\":0.4,\"showlegend\":false,\"x\":[\"V2\"],\"y\":[2.042513893125978],\"type\":\"scatter\",\"xaxis\":\"x4\",\"yaxis\":\"y4\"},{\"error_y\":{\"array\":[[0.10566256855007322]],\"arrayminus\":[[0.1345417199039982]],\"color\":\"rgb(250,196,132)\",\"thickness\":3,\"type\":\"data\",\"visible\":true,\"width\":0},\"legendgroup\":\"patient\",\"marker\":{\"color\":\"rgb(250,196,132)\",\"line\":{\"color\":\"rgb(250,196,132)\",\"width\":3},\"size\":12,\"symbol\":\"square\"},\"mode\":\"markers\",\"name\":\"patient\",\"offsetgroup\":\"-1\",\"opacity\":1,\"showlegend\":false,\"x\":[\"V2\"],\"y\":[0.1975329780810336],\"type\":\"scatter\",\"xaxis\":\"x5\",\"yaxis\":\"y5\"},{\"error_y\":{\"array\":[[0.08252078700492133]],\"arrayminus\":[[0.1025883642317445]],\"color\":\"rgb(250,196,132)\",\"thickness\":3,\"type\":\"data\",\"visible\":true,\"width\":0},\"legendgroup\":\"control\",\"marker\":{\"color\":\"rgb(250,196,132)\",\"line\":{\"color\":\"rgb(250,196,132)\",\"width\":3},\"size\":12,\"symbol\":\"square\"},\"mode\":\"markers\",\"name\":\"control\",\"offsetgroup\":\"1\",\"opacity\":0.4,\"showlegend\":false,\"x\":[\"V2\"],\"y\":[0.4308855730542806],\"type\":\"scatter\",\"xaxis\":\"x5\",\"yaxis\":\"y5\"},{\"error_y\":{\"array\":[[0.09343987574032589]],\"arrayminus\":[[0.124835362856305]],\"color\":\"rgb(250,196,132)\",\"thickness\":3,\"type\":\"data\",\"visible\":true,\"width\":0},\"legendgroup\":\"patient\",\"marker\":{\"color\":\"rgb(250,196,132)\",\"line\":{\"color\":\"rgb(250,196,132)\",\"width\":3},\"size\":12,\"symbol\":\"square\"},\"mode\":\"markers\",\"name\":\"patient\",\"offsetgroup\":\"-1\",\"opacity\":1,\"showlegend\":false,\"x\":[\"V2\"],\"y\":[0.2456179073534592],\"type\":\"scatter\",\"xaxis\":\"x6\",\"yaxis\":\"y6\"},{\"error_y\":{\"array\":[[0.11748863395899012]],\"arrayminus\":[[0.10428694020706811]],\"color\":\"rgb(250,196,132)\",\"thickness\":3,\"type\":\"data\",\"visible\":true,\"width\":0},\"legendgroup\":\"control\",\"marker\":{\"color\":\"rgb(250,196,132)\",\"line\":{\"color\":\"rgb(250,196,132)\",\"width\":3},\"size\":12,\"symbol\":\"square\"},\"mode\":\"markers\",\"name\":\"control\",\"offsetgroup\":\"1\",\"opacity\":0.4,\"showlegend\":false,\"x\":[\"V2\"],\"y\":[0.2257875767487576],\"type\":\"scatter\",\"xaxis\":\"x6\",\"yaxis\":\"y6\"},{\"error_y\":{\"array\":[[8.662582411961935]],\"arrayminus\":[[7.294410268496687]],\"color\":\"rgb(250,196,132)\",\"thickness\":3,\"type\":\"data\",\"visible\":true,\"width\":0},\"legendgroup\":\"patient\",\"marker\":{\"color\":\"rgb(250,196,132)\",\"line\":{\"color\":\"rgb(250,196,132)\",\"width\":3},\"size\":12,\"symbol\":\"square\"},\"mode\":\"markers\",\"name\":\"patient\",\"offsetgroup\":\"-1\",\"opacity\":1,\"showlegend\":false,\"x\":[\"V2\"],\"y\":[7.8435246228248126],\"type\":\"scatter\",\"xaxis\":\"x7\",\"yaxis\":\"y7\"},{\"error_y\":{\"array\":[[5.38968671710407]],\"arrayminus\":[[6.059078500223478]],\"color\":\"rgb(250,196,132)\",\"thickness\":3,\"type\":\"data\",\"visible\":true,\"width\":0},\"legendgroup\":\"control\",\"marker\":{\"color\":\"rgb(250,196,132)\",\"line\":{\"color\":\"rgb(250,196,132)\",\"width\":3},\"size\":12,\"symbol\":\"square\"},\"mode\":\"markers\",\"name\":\"control\",\"offsetgroup\":\"1\",\"opacity\":0.4,\"showlegend\":false,\"x\":[\"V2\"],\"y\":[22.4615212483774],\"type\":\"scatter\",\"xaxis\":\"x7\",\"yaxis\":\"y7\"},{\"error_y\":{\"array\":[[4.069434211216437]],\"arrayminus\":[[3.8070834534871874]],\"color\":\"rgb(250,196,132)\",\"thickness\":3,\"type\":\"data\",\"visible\":true,\"width\":0},\"legendgroup\":\"patient\",\"marker\":{\"color\":\"rgb(250,196,132)\",\"line\":{\"color\":\"rgb(250,196,132)\",\"width\":3},\"size\":12,\"symbol\":\"square\"},\"mode\":\"markers\",\"name\":\"patient\",\"offsetgroup\":\"-1\",\"opacity\":1,\"showlegend\":false,\"x\":[\"V2\"],\"y\":[5.887828000619687],\"type\":\"scatter\",\"xaxis\":\"x8\",\"yaxis\":\"y8\"},{\"error_y\":{\"array\":[[2.4425227860704983]],\"arrayminus\":[[1.0043152744295]],\"color\":\"rgb(250,196,132)\",\"thickness\":3,\"type\":\"data\",\"visible\":true,\"width\":0},\"legendgroup\":\"control\",\"marker\":{\"color\":\"rgb(250,196,132)\",\"line\":{\"color\":\"rgb(250,196,132)\",\"width\":3},\"size\":12,\"symbol\":\"square\"},\"mode\":\"markers\",\"name\":\"control\",\"offsetgroup\":\"1\",\"opacity\":0.4,\"showlegend\":false,\"x\":[\"V2\"],\"y\":[1.154223807557],\"type\":\"scatter\",\"xaxis\":\"x8\",\"yaxis\":\"y8\"},{\"error_y\":{\"array\":[[0.5284512665532186]],\"arrayminus\":[[0.6029694631792087]],\"color\":\"rgb(248,160,126)\",\"thickness\":3,\"type\":\"data\",\"visible\":true,\"width\":0},\"legendgroup\":\"patient\",\"marker\":{\"color\":\"rgb(248,160,126)\",\"line\":{\"color\":\"rgb(248,160,126)\",\"width\":3},\"size\":12,\"symbol\":\"square\"},\"mode\":\"markers\",\"name\":\"patient\",\"offsetgroup\":\"-1\",\"opacity\":1,\"showlegend\":false,\"x\":[\"V3\"],\"y\":[1.2903054994478134],\"type\":\"scatter\",\"xaxis\":\"x\",\"yaxis\":\"y\"},{\"error_y\":{\"array\":[[0.23874601319256827]],\"arrayminus\":[[0.22392519457975313]],\"color\":\"rgb(248,160,126)\",\"thickness\":3,\"type\":\"data\",\"visible\":true,\"width\":0},\"legendgroup\":\"control\",\"marker\":{\"color\":\"rgb(248,160,126)\",\"line\":{\"color\":\"rgb(248,160,126)\",\"width\":3},\"size\":12,\"symbol\":\"square\"},\"mode\":\"markers\",\"name\":\"control\",\"offsetgroup\":\"1\",\"opacity\":0.4,\"showlegend\":false,\"x\":[\"V3\"],\"y\":[1.1403051770656023],\"type\":\"scatter\",\"xaxis\":\"x\",\"yaxis\":\"y\"},{\"error_y\":{\"array\":[[4.158807756481181]],\"arrayminus\":[[1.8682480022879697]],\"color\":\"rgb(248,160,126)\",\"thickness\":3,\"type\":\"data\",\"visible\":true,\"width\":0},\"legendgroup\":\"patient\",\"marker\":{\"color\":\"rgb(248,160,126)\",\"line\":{\"color\":\"rgb(248,160,126)\",\"width\":3},\"size\":12,\"symbol\":\"square\"},\"mode\":\"markers\",\"name\":\"patient\",\"offsetgroup\":\"-1\",\"opacity\":1,\"showlegend\":false,\"x\":[\"V3\"],\"y\":[5.618701444792633],\"type\":\"scatter\",\"xaxis\":\"x2\",\"yaxis\":\"y2\"},{\"error_y\":{\"array\":[[0.6725107937600998]],\"arrayminus\":[[0.36182410096803563]],\"color\":\"rgb(248,160,126)\",\"thickness\":3,\"type\":\"data\",\"visible\":true,\"width\":0},\"legendgroup\":\"control\",\"marker\":{\"color\":\"rgb(248,160,126)\",\"line\":{\"color\":\"rgb(248,160,126)\",\"width\":3},\"size\":12,\"symbol\":\"square\"},\"mode\":\"markers\",\"name\":\"control\",\"offsetgroup\":\"1\",\"opacity\":0.4,\"showlegend\":false,\"x\":[\"V3\"],\"y\":[3.296540222883878],\"type\":\"scatter\",\"xaxis\":\"x2\",\"yaxis\":\"y2\"},{\"error_y\":{\"array\":[[2.1227264383069486]],\"arrayminus\":[[2.171909126422492]],\"color\":\"rgb(248,160,126)\",\"thickness\":3,\"type\":\"data\",\"visible\":true,\"width\":0},\"legendgroup\":\"patient\",\"marker\":{\"color\":\"rgb(248,160,126)\",\"line\":{\"color\":\"rgb(248,160,126)\",\"width\":3},\"size\":12,\"symbol\":\"square\"},\"mode\":\"markers\",\"name\":\"patient\",\"offsetgroup\":\"-1\",\"opacity\":1,\"showlegend\":false,\"x\":[\"V3\"],\"y\":[2.857478676687037],\"type\":\"scatter\",\"xaxis\":\"x3\",\"yaxis\":\"y3\"},{\"error_y\":{\"array\":[[2.3843184055393305]],\"arrayminus\":[[2.9975130789688427]],\"color\":\"rgb(248,160,126)\",\"thickness\":3,\"type\":\"data\",\"visible\":true,\"width\":0},\"legendgroup\":\"control\",\"marker\":{\"color\":\"rgb(248,160,126)\",\"line\":{\"color\":\"rgb(248,160,126)\",\"width\":3},\"size\":12,\"symbol\":\"square\"},\"mode\":\"markers\",\"name\":\"control\",\"offsetgroup\":\"1\",\"opacity\":0.4,\"showlegend\":false,\"x\":[\"V3\"],\"y\":[10.945412061304808],\"type\":\"scatter\",\"xaxis\":\"x3\",\"yaxis\":\"y3\"},{\"error_y\":{\"array\":[[1.6013420407881824]],\"arrayminus\":[[1.431392517112301]],\"color\":\"rgb(248,160,126)\",\"thickness\":3,\"type\":\"data\",\"visible\":true,\"width\":0},\"legendgroup\":\"patient\",\"marker\":{\"color\":\"rgb(248,160,126)\",\"line\":{\"color\":\"rgb(248,160,126)\",\"width\":3},\"size\":12,\"symbol\":\"square\"},\"mode\":\"markers\",\"name\":\"patient\",\"offsetgroup\":\"-1\",\"opacity\":1,\"showlegend\":false,\"x\":[\"V3\"],\"y\":[1.898666751097593],\"type\":\"scatter\",\"xaxis\":\"x4\",\"yaxis\":\"y4\"},{\"error_y\":{\"array\":[[3.549307482738563]],\"arrayminus\":[[1.9782037704552882]],\"color\":\"rgb(248,160,126)\",\"thickness\":3,\"type\":\"data\",\"visible\":true,\"width\":0},\"legendgroup\":\"control\",\"marker\":{\"color\":\"rgb(248,160,126)\",\"line\":{\"color\":\"rgb(248,160,126)\",\"width\":3},\"size\":12,\"symbol\":\"square\"},\"mode\":\"markers\",\"name\":\"control\",\"offsetgroup\":\"1\",\"opacity\":0.4,\"showlegend\":false,\"x\":[\"V3\"],\"y\":[2.840677534866288],\"type\":\"scatter\",\"xaxis\":\"x4\",\"yaxis\":\"y4\"},{\"error_y\":{\"array\":[[0.1160717977464453]],\"arrayminus\":[[0.12224785577350689]],\"color\":\"rgb(248,160,126)\",\"thickness\":3,\"type\":\"data\",\"visible\":true,\"width\":0},\"legendgroup\":\"patient\",\"marker\":{\"color\":\"rgb(248,160,126)\",\"line\":{\"color\":\"rgb(248,160,126)\",\"width\":3},\"size\":12,\"symbol\":\"square\"},\"mode\":\"markers\",\"name\":\"patient\",\"offsetgroup\":\"-1\",\"opacity\":1,\"showlegend\":false,\"x\":[\"V3\"],\"y\":[0.1701571835637201],\"type\":\"scatter\",\"xaxis\":\"x5\",\"yaxis\":\"y5\"},{\"error_y\":{\"array\":[[0.07842221259316634]],\"arrayminus\":[[0.09493803439958337]],\"color\":\"rgb(248,160,126)\",\"thickness\":3,\"type\":\"data\",\"visible\":true,\"width\":0},\"legendgroup\":\"control\",\"marker\":{\"color\":\"rgb(248,160,126)\",\"line\":{\"color\":\"rgb(248,160,126)\",\"width\":3},\"size\":12,\"symbol\":\"square\"},\"mode\":\"markers\",\"name\":\"control\",\"offsetgroup\":\"1\",\"opacity\":0.4,\"showlegend\":false,\"x\":[\"V3\"],\"y\":[0.4198371006321169],\"type\":\"scatter\",\"xaxis\":\"x5\",\"yaxis\":\"y5\"},{\"error_y\":{\"array\":[[0.0887608685808943]],\"arrayminus\":[[0.0959759371266179]],\"color\":\"rgb(248,160,126)\",\"thickness\":3,\"type\":\"data\",\"visible\":true,\"width\":0},\"legendgroup\":\"patient\",\"marker\":{\"color\":\"rgb(248,160,126)\",\"line\":{\"color\":\"rgb(248,160,126)\",\"width\":3},\"size\":12,\"symbol\":\"square\"},\"mode\":\"markers\",\"name\":\"patient\",\"offsetgroup\":\"-1\",\"opacity\":1,\"showlegend\":false,\"x\":[\"V3\"],\"y\":[0.2219340188296862],\"type\":\"scatter\",\"xaxis\":\"x6\",\"yaxis\":\"y6\"},{\"error_y\":{\"array\":[[0.12405372974291101]],\"arrayminus\":[[0.10932554690020688]],\"color\":\"rgb(248,160,126)\",\"thickness\":3,\"type\":\"data\",\"visible\":true,\"width\":0},\"legendgroup\":\"control\",\"marker\":{\"color\":\"rgb(248,160,126)\",\"line\":{\"color\":\"rgb(248,160,126)\",\"width\":3},\"size\":12,\"symbol\":\"square\"},\"mode\":\"markers\",\"name\":\"control\",\"offsetgroup\":\"1\",\"opacity\":0.4,\"showlegend\":false,\"x\":[\"V3\"],\"y\":[0.2536025436987063],\"type\":\"scatter\",\"xaxis\":\"x6\",\"yaxis\":\"y6\"},{\"error_y\":{\"array\":[[10.353370010175876]],\"arrayminus\":[[5.396854437340375]],\"color\":\"rgb(248,160,126)\",\"thickness\":3,\"type\":\"data\",\"visible\":true,\"width\":0},\"legendgroup\":\"patient\",\"marker\":{\"color\":\"rgb(248,160,126)\",\"line\":{\"color\":\"rgb(248,160,126)\",\"width\":3},\"size\":12,\"symbol\":\"square\"},\"mode\":\"markers\",\"name\":\"patient\",\"offsetgroup\":\"-1\",\"opacity\":1,\"showlegend\":false,\"x\":[\"V3\"],\"y\":[5.661263903929125],\"type\":\"scatter\",\"xaxis\":\"x7\",\"yaxis\":\"y7\"},{\"error_y\":{\"array\":[[3.7452146127048493]],\"arrayminus\":[[4.801368232261151]],\"color\":\"rgb(248,160,126)\",\"thickness\":3,\"type\":\"data\",\"visible\":true,\"width\":0},\"legendgroup\":\"control\",\"marker\":{\"color\":\"rgb(248,160,126)\",\"line\":{\"color\":\"rgb(248,160,126)\",\"width\":3},\"size\":12,\"symbol\":\"square\"},\"mode\":\"markers\",\"name\":\"control\",\"offsetgroup\":\"1\",\"opacity\":0.4,\"showlegend\":false,\"x\":[\"V3\"],\"y\":[17.9360932838789],\"type\":\"scatter\",\"xaxis\":\"x7\",\"yaxis\":\"y7\"},{\"error_y\":{\"array\":[[6.158628347058812]],\"arrayminus\":[[4.312123568070688]],\"color\":\"rgb(248,160,126)\",\"thickness\":3,\"type\":\"data\",\"visible\":true,\"width\":0},\"legendgroup\":\"patient\",\"marker\":{\"color\":\"rgb(248,160,126)\",\"line\":{\"color\":\"rgb(248,160,126)\",\"width\":3},\"size\":12,\"symbol\":\"square\"},\"mode\":\"markers\",\"name\":\"patient\",\"offsetgroup\":\"-1\",\"opacity\":1,\"showlegend\":false,\"x\":[\"V3\"],\"y\":[5.707385867783188],\"type\":\"scatter\",\"xaxis\":\"x8\",\"yaxis\":\"y8\"},{\"error_y\":{\"array\":[[2.339471379373248]],\"arrayminus\":[[1.1664777201365]],\"color\":\"rgb(248,160,126)\",\"thickness\":3,\"type\":\"data\",\"visible\":true,\"width\":0},\"legendgroup\":\"control\",\"marker\":{\"color\":\"rgb(248,160,126)\",\"line\":{\"color\":\"rgb(248,160,126)\",\"width\":3},\"size\":12,\"symbol\":\"square\"},\"mode\":\"markers\",\"name\":\"control\",\"offsetgroup\":\"1\",\"opacity\":0.4,\"showlegend\":false,\"x\":[\"V3\"],\"y\":[1.586063065496],\"type\":\"scatter\",\"xaxis\":\"x8\",\"yaxis\":\"y8\"},{\"error_y\":{\"array\":[[0.3739278031882105]],\"arrayminus\":[[0.8061664545440812]],\"color\":\"rgb(235,127,134)\",\"thickness\":3,\"type\":\"data\",\"visible\":true,\"width\":0},\"legendgroup\":\"patient\",\"marker\":{\"color\":\"rgb(235,127,134)\",\"line\":{\"color\":\"rgb(235,127,134)\",\"width\":3},\"size\":12,\"symbol\":\"square\"},\"mode\":\"markers\",\"name\":\"patient\",\"offsetgroup\":\"-1\",\"opacity\":1,\"showlegend\":false,\"x\":[\"V3AB\"],\"y\":[1.552831566133987],\"type\":\"scatter\",\"xaxis\":\"x\",\"yaxis\":\"y\"},{\"error_y\":{\"array\":[[0.2684501907156034]],\"arrayminus\":[[0.21676902469620374]],\"color\":\"rgb(235,127,134)\",\"thickness\":3,\"type\":\"data\",\"visible\":true,\"width\":0},\"legendgroup\":\"control\",\"marker\":{\"color\":\"rgb(235,127,134)\",\"line\":{\"color\":\"rgb(235,127,134)\",\"width\":3},\"size\":12,\"symbol\":\"square\"},\"mode\":\"markers\",\"name\":\"control\",\"offsetgroup\":\"1\",\"opacity\":0.4,\"showlegend\":false,\"x\":[\"V3AB\"],\"y\":[1.625481856000187],\"type\":\"scatter\",\"xaxis\":\"x\",\"yaxis\":\"y\"},{\"error_y\":{\"array\":[[4.465112735579285]],\"arrayminus\":[[2.242237626054676]],\"color\":\"rgb(235,127,134)\",\"thickness\":3,\"type\":\"data\",\"visible\":true,\"width\":0},\"legendgroup\":\"patient\",\"marker\":{\"color\":\"rgb(235,127,134)\",\"line\":{\"color\":\"rgb(235,127,134)\",\"width\":3},\"size\":12,\"symbol\":\"square\"},\"mode\":\"markers\",\"name\":\"patient\",\"offsetgroup\":\"-1\",\"opacity\":1,\"showlegend\":false,\"x\":[\"V3AB\"],\"y\":[6.521962694516694],\"type\":\"scatter\",\"xaxis\":\"x2\",\"yaxis\":\"y2\"},{\"error_y\":{\"array\":[[0.9962040934208352]],\"arrayminus\":[[0.7641091591269191]],\"color\":\"rgb(235,127,134)\",\"thickness\":3,\"type\":\"data\",\"visible\":true,\"width\":0},\"legendgroup\":\"control\",\"marker\":{\"color\":\"rgb(235,127,134)\",\"line\":{\"color\":\"rgb(235,127,134)\",\"width\":3},\"size\":12,\"symbol\":\"square\"},\"mode\":\"markers\",\"name\":\"control\",\"offsetgroup\":\"1\",\"opacity\":0.4,\"showlegend\":false,\"x\":[\"V3AB\"],\"y\":[4.088184321100252],\"type\":\"scatter\",\"xaxis\":\"x2\",\"yaxis\":\"y2\"},{\"error_y\":{\"array\":[[1.8699233525226944]],\"arrayminus\":[[1.0896802541673996]],\"color\":\"rgb(235,127,134)\",\"thickness\":3,\"type\":\"data\",\"visible\":true,\"width\":0},\"legendgroup\":\"patient\",\"marker\":{\"color\":\"rgb(235,127,134)\",\"line\":{\"color\":\"rgb(235,127,134)\",\"width\":3},\"size\":12,\"symbol\":\"square\"},\"mode\":\"markers\",\"name\":\"patient\",\"offsetgroup\":\"-1\",\"opacity\":1,\"showlegend\":false,\"x\":[\"V3AB\"],\"y\":[1.2480146772562184],\"type\":\"scatter\",\"xaxis\":\"x3\",\"yaxis\":\"y3\"},{\"error_y\":{\"array\":[[4.163859132376256]],\"arrayminus\":[[2.382669098295814]],\"color\":\"rgb(235,127,134)\",\"thickness\":3,\"type\":\"data\",\"visible\":true,\"width\":0},\"legendgroup\":\"control\",\"marker\":{\"color\":\"rgb(235,127,134)\",\"line\":{\"color\":\"rgb(235,127,134)\",\"width\":3},\"size\":12,\"symbol\":\"square\"},\"mode\":\"markers\",\"name\":\"control\",\"offsetgroup\":\"1\",\"opacity\":0.4,\"showlegend\":false,\"x\":[\"V3AB\"],\"y\":[7.522757638262512],\"type\":\"scatter\",\"xaxis\":\"x3\",\"yaxis\":\"y3\"},{\"error_y\":{\"array\":[[1.273269188983189]],\"arrayminus\":[[0.767900717474918]],\"color\":\"rgb(235,127,134)\",\"thickness\":3,\"type\":\"data\",\"visible\":true,\"width\":0},\"legendgroup\":\"patient\",\"marker\":{\"color\":\"rgb(235,127,134)\",\"line\":{\"color\":\"rgb(235,127,134)\",\"width\":3},\"size\":12,\"symbol\":\"square\"},\"mode\":\"markers\",\"name\":\"patient\",\"offsetgroup\":\"-1\",\"opacity\":1,\"showlegend\":false,\"x\":[\"V3AB\"],\"y\":[1.0422628369934457],\"type\":\"scatter\",\"xaxis\":\"x4\",\"yaxis\":\"y4\"},{\"error_y\":{\"array\":[[3.6831487430990215]],\"arrayminus\":[[2.3276913457599298]],\"color\":\"rgb(235,127,134)\",\"thickness\":3,\"type\":\"data\",\"visible\":true,\"width\":0},\"legendgroup\":\"control\",\"marker\":{\"color\":\"rgb(235,127,134)\",\"line\":{\"color\":\"rgb(235,127,134)\",\"width\":3},\"size\":12,\"symbol\":\"square\"},\"mode\":\"markers\",\"name\":\"control\",\"offsetgroup\":\"1\",\"opacity\":0.4,\"showlegend\":false,\"x\":[\"V3AB\"],\"y\":[4.414699436440642],\"type\":\"scatter\",\"xaxis\":\"x4\",\"yaxis\":\"y4\"},{\"error_y\":{\"array\":[[0.10087908538285528]],\"arrayminus\":[[0.0888153507982915]],\"color\":\"rgb(235,127,134)\",\"thickness\":3,\"type\":\"data\",\"visible\":true,\"width\":0},\"legendgroup\":\"patient\",\"marker\":{\"color\":\"rgb(235,127,134)\",\"line\":{\"color\":\"rgb(235,127,134)\",\"width\":3},\"size\":12,\"symbol\":\"square\"},\"mode\":\"markers\",\"name\":\"patient\",\"offsetgroup\":\"-1\",\"opacity\":1,\"showlegend\":false,\"x\":[\"V3AB\"],\"y\":[0.1345846111179485],\"type\":\"scatter\",\"xaxis\":\"x5\",\"yaxis\":\"y5\"},{\"error_y\":{\"array\":[[0.11170208041389329]],\"arrayminus\":[[0.10261525311896363]],\"color\":\"rgb(235,127,134)\",\"thickness\":3,\"type\":\"data\",\"visible\":true,\"width\":0},\"legendgroup\":\"control\",\"marker\":{\"color\":\"rgb(235,127,134)\",\"line\":{\"color\":\"rgb(235,127,134)\",\"width\":3},\"size\":12,\"symbol\":\"square\"},\"mode\":\"markers\",\"name\":\"control\",\"offsetgroup\":\"1\",\"opacity\":0.4,\"showlegend\":false,\"x\":[\"V3AB\"],\"y\":[0.4104579104909005],\"type\":\"scatter\",\"xaxis\":\"x5\",\"yaxis\":\"y5\"},{\"error_y\":{\"array\":[[0.0766091854449292]],\"arrayminus\":[[0.037935068872567895]],\"color\":\"rgb(235,127,134)\",\"thickness\":3,\"type\":\"data\",\"visible\":true,\"width\":0},\"legendgroup\":\"patient\",\"marker\":{\"color\":\"rgb(235,127,134)\",\"line\":{\"color\":\"rgb(235,127,134)\",\"width\":3},\"size\":12,\"symbol\":\"square\"},\"mode\":\"markers\",\"name\":\"patient\",\"offsetgroup\":\"-1\",\"opacity\":1,\"showlegend\":false,\"x\":[\"V3AB\"],\"y\":[0.1706161360616349],\"type\":\"scatter\",\"xaxis\":\"x6\",\"yaxis\":\"y6\"},{\"error_y\":{\"array\":[[0.1142893589307033]],\"arrayminus\":[[0.1250859446161441]],\"color\":\"rgb(235,127,134)\",\"thickness\":3,\"type\":\"data\",\"visible\":true,\"width\":0},\"legendgroup\":\"control\",\"marker\":{\"color\":\"rgb(235,127,134)\",\"line\":{\"color\":\"rgb(235,127,134)\",\"width\":3},\"size\":12,\"symbol\":\"square\"},\"mode\":\"markers\",\"name\":\"control\",\"offsetgroup\":\"1\",\"opacity\":0.4,\"showlegend\":false,\"x\":[\"V3AB\"],\"y\":[0.3592855095226129],\"type\":\"scatter\",\"xaxis\":\"x6\",\"yaxis\":\"y6\"},{\"error_y\":{\"array\":[[3.4909748389398754]],\"arrayminus\":[[1.331831486610125]],\"color\":\"rgb(235,127,134)\",\"thickness\":3,\"type\":\"data\",\"visible\":true,\"width\":0},\"legendgroup\":\"patient\",\"marker\":{\"color\":\"rgb(235,127,134)\",\"line\":{\"color\":\"rgb(235,127,134)\",\"width\":3},\"size\":12,\"symbol\":\"square\"},\"mode\":\"markers\",\"name\":\"patient\",\"offsetgroup\":\"-1\",\"opacity\":1,\"showlegend\":false,\"x\":[\"V3AB\"],\"y\":[1.389361304722625],\"type\":\"scatter\",\"xaxis\":\"x7\",\"yaxis\":\"y7\"},{\"error_y\":{\"array\":[[3.002291993678024]],\"arrayminus\":[[3.1062330136056]],\"color\":\"rgb(235,127,134)\",\"thickness\":3,\"type\":\"data\",\"visible\":true,\"width\":0},\"legendgroup\":\"control\",\"marker\":{\"color\":\"rgb(235,127,134)\",\"line\":{\"color\":\"rgb(235,127,134)\",\"width\":3},\"size\":12,\"symbol\":\"square\"},\"mode\":\"markers\",\"name\":\"control\",\"offsetgroup\":\"1\",\"opacity\":0.4,\"showlegend\":false,\"x\":[\"V3AB\"],\"y\":[7.16423889108835],\"type\":\"scatter\",\"xaxis\":\"x7\",\"yaxis\":\"y7\"},{\"error_y\":{\"array\":[[4.437011814207063]],\"arrayminus\":[[3.354226730834188]],\"color\":\"rgb(235,127,134)\",\"thickness\":3,\"type\":\"data\",\"visible\":true,\"width\":0},\"legendgroup\":\"patient\",\"marker\":{\"color\":\"rgb(235,127,134)\",\"line\":{\"color\":\"rgb(235,127,134)\",\"width\":3},\"size\":12,\"symbol\":\"square\"},\"mode\":\"markers\",\"name\":\"patient\",\"offsetgroup\":\"-1\",\"opacity\":1,\"showlegend\":false,\"x\":[\"V3AB\"],\"y\":[4.189467627104188],\"type\":\"scatter\",\"xaxis\":\"x8\",\"yaxis\":\"y8\"},{\"error_y\":{\"array\":[[5.6632579952198]],\"arrayminus\":[[3.7545501261424494]],\"color\":\"rgb(235,127,134)\",\"thickness\":3,\"type\":\"data\",\"visible\":true,\"width\":0},\"legendgroup\":\"control\",\"marker\":{\"color\":\"rgb(235,127,134)\",\"line\":{\"color\":\"rgb(235,127,134)\",\"width\":3},\"size\":12,\"symbol\":\"square\"},\"mode\":\"markers\",\"name\":\"control\",\"offsetgroup\":\"1\",\"opacity\":0.4,\"showlegend\":false,\"x\":[\"V3AB\"],\"y\":[7.4906091452812],\"type\":\"scatter\",\"xaxis\":\"x8\",\"yaxis\":\"y8\"},{\"error_y\":{\"array\":[[0.6081133991885859]],\"arrayminus\":[[0.77157623860221]],\"color\":\"rgb(150,0,90)\",\"thickness\":3,\"type\":\"data\",\"visible\":true,\"width\":0},\"legendgroup\":\"patient\",\"marker\":{\"color\":\"rgb(150,0,90)\",\"line\":{\"color\":\"rgb(150,0,90)\",\"width\":3},\"size\":12,\"symbol\":\"square\"},\"mode\":\"markers\",\"name\":\"patient\",\"offsetgroup\":\"-1\",\"opacity\":1,\"showlegend\":false,\"x\":[\"LO\"],\"y\":[1.2336080268715437],\"type\":\"scatter\",\"xaxis\":\"x\",\"yaxis\":\"y\"},{\"error_y\":{\"array\":[[0.26976352038564855]],\"arrayminus\":[[0.2212632417862248]],\"color\":\"rgb(150,0,90)\",\"thickness\":3,\"type\":\"data\",\"visible\":true,\"width\":0},\"legendgroup\":\"control\",\"marker\":{\"color\":\"rgb(150,0,90)\",\"line\":{\"color\":\"rgb(150,0,90)\",\"width\":3},\"size\":12,\"symbol\":\"square\"},\"mode\":\"markers\",\"name\":\"control\",\"offsetgroup\":\"1\",\"opacity\":0.4,\"showlegend\":false,\"x\":[\"LO\"],\"y\":[1.5214025349285558],\"type\":\"scatter\",\"xaxis\":\"x\",\"yaxis\":\"y\"},{\"error_y\":{\"array\":[[3.900425611678492]],\"arrayminus\":[[1.6233346655441219]],\"color\":\"rgb(150,0,90)\",\"thickness\":3,\"type\":\"data\",\"visible\":true,\"width\":0},\"legendgroup\":\"patient\",\"marker\":{\"color\":\"rgb(150,0,90)\",\"line\":{\"color\":\"rgb(150,0,90)\",\"width\":3},\"size\":12,\"symbol\":\"square\"},\"mode\":\"markers\",\"name\":\"patient\",\"offsetgroup\":\"-1\",\"opacity\":1,\"showlegend\":false,\"x\":[\"LO\"],\"y\":[5.736876396075757],\"type\":\"scatter\",\"xaxis\":\"x2\",\"yaxis\":\"y2\"},{\"error_y\":{\"array\":[[1.8907135791078717]],\"arrayminus\":[[1.0904421927087973]],\"color\":\"rgb(150,0,90)\",\"thickness\":3,\"type\":\"data\",\"visible\":true,\"width\":0},\"legendgroup\":\"control\",\"marker\":{\"color\":\"rgb(150,0,90)\",\"line\":{\"color\":\"rgb(150,0,90)\",\"width\":3},\"size\":12,\"symbol\":\"square\"},\"mode\":\"markers\",\"name\":\"control\",\"offsetgroup\":\"1\",\"opacity\":0.4,\"showlegend\":false,\"x\":[\"LO\"],\"y\":[4.832317076316535],\"type\":\"scatter\",\"xaxis\":\"x2\",\"yaxis\":\"y2\"},{\"error_y\":{\"array\":[[1.8966958956249589]],\"arrayminus\":[[2.3968227725129263]],\"color\":\"rgb(150,0,90)\",\"thickness\":3,\"type\":\"data\",\"visible\":true,\"width\":0},\"legendgroup\":\"patient\",\"marker\":{\"color\":\"rgb(150,0,90)\",\"line\":{\"color\":\"rgb(150,0,90)\",\"width\":3},\"size\":12,\"symbol\":\"square\"},\"mode\":\"markers\",\"name\":\"patient\",\"offsetgroup\":\"-1\",\"opacity\":1,\"showlegend\":false,\"x\":[\"LO\"],\"y\":[3.272898542667664],\"type\":\"scatter\",\"xaxis\":\"x3\",\"yaxis\":\"y3\"},{\"error_y\":{\"array\":[[4.659861498216939]],\"arrayminus\":[[3.735269403033122]],\"color\":\"rgb(150,0,90)\",\"thickness\":3,\"type\":\"data\",\"visible\":true,\"width\":0},\"legendgroup\":\"control\",\"marker\":{\"color\":\"rgb(150,0,90)\",\"line\":{\"color\":\"rgb(150,0,90)\",\"width\":3},\"size\":12,\"symbol\":\"square\"},\"mode\":\"markers\",\"name\":\"control\",\"offsetgroup\":\"1\",\"opacity\":0.4,\"showlegend\":false,\"x\":[\"LO\"],\"y\":[9.612460362445544],\"type\":\"scatter\",\"xaxis\":\"x3\",\"yaxis\":\"y3\"},{\"error_y\":{\"array\":[[3.7514716785130044]],\"arrayminus\":[[1.9590560289270702]],\"color\":\"rgb(150,0,90)\",\"thickness\":3,\"type\":\"data\",\"visible\":true,\"width\":0},\"legendgroup\":\"patient\",\"marker\":{\"color\":\"rgb(150,0,90)\",\"line\":{\"color\":\"rgb(150,0,90)\",\"width\":3},\"size\":12,\"symbol\":\"square\"},\"mode\":\"markers\",\"name\":\"patient\",\"offsetgroup\":\"-1\",\"opacity\":1,\"showlegend\":false,\"x\":[\"LO\"],\"y\":[2.3027520393578618],\"type\":\"scatter\",\"xaxis\":\"x4\",\"yaxis\":\"y4\"},{\"error_y\":{\"array\":[[3.360465511650249]],\"arrayminus\":[[2.6534668648663193]],\"color\":\"rgb(150,0,90)\",\"thickness\":3,\"type\":\"data\",\"visible\":true,\"width\":0},\"legendgroup\":\"control\",\"marker\":{\"color\":\"rgb(150,0,90)\",\"line\":{\"color\":\"rgb(150,0,90)\",\"width\":3},\"size\":12,\"symbol\":\"square\"},\"mode\":\"markers\",\"name\":\"control\",\"offsetgroup\":\"1\",\"opacity\":0.4,\"showlegend\":false,\"x\":[\"LO\"],\"y\":[4.356281576598109],\"type\":\"scatter\",\"xaxis\":\"x4\",\"yaxis\":\"y4\"},{\"error_y\":{\"array\":[[0.11142658774305018]],\"arrayminus\":[[0.0668535933745415]],\"color\":\"rgb(150,0,90)\",\"thickness\":3,\"type\":\"data\",\"visible\":true,\"width\":0},\"legendgroup\":\"patient\",\"marker\":{\"color\":\"rgb(150,0,90)\",\"line\":{\"color\":\"rgb(150,0,90)\",\"width\":3},\"size\":12,\"symbol\":\"square\"},\"mode\":\"markers\",\"name\":\"patient\",\"offsetgroup\":\"-1\",\"opacity\":1,\"showlegend\":false,\"x\":[\"LO\"],\"y\":[0.1132756371634777],\"type\":\"scatter\",\"xaxis\":\"x5\",\"yaxis\":\"y5\"},{\"error_y\":{\"array\":[[0.0790348242924348]],\"arrayminus\":[[0.07752538090805519]],\"color\":\"rgb(150,0,90)\",\"thickness\":3,\"type\":\"data\",\"visible\":true,\"width\":0},\"legendgroup\":\"control\",\"marker\":{\"color\":\"rgb(150,0,90)\",\"line\":{\"color\":\"rgb(150,0,90)\",\"width\":3},\"size\":12,\"symbol\":\"square\"},\"mode\":\"markers\",\"name\":\"control\",\"offsetgroup\":\"1\",\"opacity\":0.4,\"showlegend\":false,\"x\":[\"LO\"],\"y\":[0.3083993232079344],\"type\":\"scatter\",\"xaxis\":\"x5\",\"yaxis\":\"y5\"},{\"error_y\":{\"array\":[[0.10193184394295798]],\"arrayminus\":[[0.0929864272140799]],\"color\":\"rgb(150,0,90)\",\"thickness\":3,\"type\":\"data\",\"visible\":true,\"width\":0},\"legendgroup\":\"patient\",\"marker\":{\"color\":\"rgb(150,0,90)\",\"line\":{\"color\":\"rgb(150,0,90)\",\"width\":3},\"size\":12,\"symbol\":\"square\"},\"mode\":\"markers\",\"name\":\"patient\",\"offsetgroup\":\"-1\",\"opacity\":1,\"showlegend\":false,\"x\":[\"LO\"],\"y\":[0.1572714044349133],\"type\":\"scatter\",\"xaxis\":\"x6\",\"yaxis\":\"y6\"},{\"error_y\":{\"array\":[[0.14713693830330432]],\"arrayminus\":[[0.1261130864519697]],\"color\":\"rgb(150,0,90)\",\"thickness\":3,\"type\":\"data\",\"visible\":true,\"width\":0},\"legendgroup\":\"control\",\"marker\":{\"color\":\"rgb(150,0,90)\",\"line\":{\"color\":\"rgb(150,0,90)\",\"width\":3},\"size\":12,\"symbol\":\"square\"},\"mode\":\"markers\",\"name\":\"control\",\"offsetgroup\":\"1\",\"opacity\":0.4,\"showlegend\":false,\"x\":[\"LO\"],\"y\":[0.3139991701720707],\"type\":\"scatter\",\"xaxis\":\"x6\",\"yaxis\":\"y6\"},{\"error_y\":{\"array\":[[3.902498413677812]],\"arrayminus\":[[2.2554258861521874]],\"color\":\"rgb(150,0,90)\",\"thickness\":3,\"type\":\"data\",\"visible\":true,\"width\":0},\"legendgroup\":\"patient\",\"marker\":{\"color\":\"rgb(150,0,90)\",\"line\":{\"color\":\"rgb(150,0,90)\",\"width\":3},\"size\":12,\"symbol\":\"square\"},\"mode\":\"markers\",\"name\":\"patient\",\"offsetgroup\":\"-1\",\"opacity\":1,\"showlegend\":false,\"x\":[\"LO\"],\"y\":[2.3716353103459373],\"type\":\"scatter\",\"xaxis\":\"x7\",\"yaxis\":\"y7\"},{\"error_y\":{\"array\":[[3.54913181174585]],\"arrayminus\":[[4.0547592919054]],\"color\":\"rgb(150,0,90)\",\"thickness\":3,\"type\":\"data\",\"visible\":true,\"width\":0},\"legendgroup\":\"control\",\"marker\":{\"color\":\"rgb(150,0,90)\",\"line\":{\"color\":\"rgb(150,0,90)\",\"width\":3},\"size\":12,\"symbol\":\"square\"},\"mode\":\"markers\",\"name\":\"control\",\"offsetgroup\":\"1\",\"opacity\":0.4,\"showlegend\":false,\"x\":[\"LO\"],\"y\":[7.795409733109651],\"type\":\"scatter\",\"xaxis\":\"x7\",\"yaxis\":\"y7\"},{\"error_y\":{\"array\":[[4.023968544972187]],\"arrayminus\":[[3.0739238308003127]],\"color\":\"rgb(150,0,90)\",\"thickness\":3,\"type\":\"data\",\"visible\":true,\"width\":0},\"legendgroup\":\"patient\",\"marker\":{\"color\":\"rgb(150,0,90)\",\"line\":{\"color\":\"rgb(150,0,90)\",\"width\":3},\"size\":12,\"symbol\":\"square\"},\"mode\":\"markers\",\"name\":\"patient\",\"offsetgroup\":\"-1\",\"opacity\":1,\"showlegend\":false,\"x\":[\"LO\"],\"y\":[3.3024287539578125],\"type\":\"scatter\",\"xaxis\":\"x8\",\"yaxis\":\"y8\"},{\"error_y\":{\"array\":[[9.446047205204053]],\"arrayminus\":[[6.6058385098456975]],\"color\":\"rgb(150,0,90)\",\"thickness\":3,\"type\":\"data\",\"visible\":true,\"width\":0},\"legendgroup\":\"control\",\"marker\":{\"color\":\"rgb(150,0,90)\",\"line\":{\"color\":\"rgb(150,0,90)\",\"width\":3},\"size\":12,\"symbol\":\"square\"},\"mode\":\"markers\",\"name\":\"control\",\"offsetgroup\":\"1\",\"opacity\":0.4,\"showlegend\":false,\"x\":[\"LO\"],\"y\":[11.635483639342947],\"type\":\"scatter\",\"xaxis\":\"x8\",\"yaxis\":\"y8\"},{\"error_y\":{\"array\":[[0.4452878900231758]],\"arrayminus\":[[0.42558387079717885]],\"color\":\"rgb(0,0,200)\",\"thickness\":3,\"type\":\"data\",\"visible\":true,\"width\":0},\"legendgroup\":\"patient\",\"marker\":{\"color\":\"rgb(0,0,200)\",\"line\":{\"color\":\"rgb(0,0,200)\",\"width\":3},\"size\":12,\"symbol\":\"square\"},\"mode\":\"markers\",\"name\":\"patient\",\"offsetgroup\":\"-1\",\"opacity\":1,\"showlegend\":false,\"x\":[\"VO\"],\"y\":[1.389653024376771],\"type\":\"scatter\",\"xaxis\":\"x\",\"yaxis\":\"y\"},{\"error_y\":{\"array\":[[0.239299888390351]],\"arrayminus\":[[0.21071148279844154]],\"color\":\"rgb(0,0,200)\",\"thickness\":3,\"type\":\"data\",\"visible\":true,\"width\":0},\"legendgroup\":\"control\",\"marker\":{\"color\":\"rgb(0,0,200)\",\"line\":{\"color\":\"rgb(0,0,200)\",\"width\":3},\"size\":12,\"symbol\":\"square\"},\"mode\":\"markers\",\"name\":\"control\",\"offsetgroup\":\"1\",\"opacity\":0.4,\"showlegend\":false,\"x\":[\"VO\"],\"y\":[1.653138704881126],\"type\":\"scatter\",\"xaxis\":\"x\",\"yaxis\":\"y\"},{\"error_y\":{\"array\":[[4.139001635356429]],\"arrayminus\":[[2.0694220125992233]],\"color\":\"rgb(0,0,200)\",\"thickness\":3,\"type\":\"data\",\"visible\":true,\"width\":0},\"legendgroup\":\"patient\",\"marker\":{\"color\":\"rgb(0,0,200)\",\"line\":{\"color\":\"rgb(0,0,200)\",\"width\":3},\"size\":12,\"symbol\":\"square\"},\"mode\":\"markers\",\"name\":\"patient\",\"offsetgroup\":\"-1\",\"opacity\":1,\"showlegend\":false,\"x\":[\"VO\"],\"y\":[6.235093803337287],\"type\":\"scatter\",\"xaxis\":\"x2\",\"yaxis\":\"y2\"},{\"error_y\":{\"array\":[[1.2144853975234202]],\"arrayminus\":[[1.0957938351708014]],\"color\":\"rgb(0,0,200)\",\"thickness\":3,\"type\":\"data\",\"visible\":true,\"width\":0},\"legendgroup\":\"control\",\"marker\":{\"color\":\"rgb(0,0,200)\",\"line\":{\"color\":\"rgb(0,0,200)\",\"width\":3},\"size\":12,\"symbol\":\"square\"},\"mode\":\"markers\",\"name\":\"control\",\"offsetgroup\":\"1\",\"opacity\":0.4,\"showlegend\":false,\"x\":[\"VO\"],\"y\":[5.043484982676096],\"type\":\"scatter\",\"xaxis\":\"x2\",\"yaxis\":\"y2\"},{\"error_y\":{\"array\":[[1.5717532437005026]],\"arrayminus\":[[1.2279991344518075]],\"color\":\"rgb(0,0,200)\",\"thickness\":3,\"type\":\"data\",\"visible\":true,\"width\":0},\"legendgroup\":\"patient\",\"marker\":{\"color\":\"rgb(0,0,200)\",\"line\":{\"color\":\"rgb(0,0,200)\",\"width\":3},\"size\":12,\"symbol\":\"square\"},\"mode\":\"markers\",\"name\":\"patient\",\"offsetgroup\":\"-1\",\"opacity\":1,\"showlegend\":false,\"x\":[\"VO\"],\"y\":[1.5427188654071444],\"type\":\"scatter\",\"xaxis\":\"x3\",\"yaxis\":\"y3\"},{\"error_y\":{\"array\":[[2.783485173068142]],\"arrayminus\":[[2.1216198952021657]],\"color\":\"rgb(0,0,200)\",\"thickness\":3,\"type\":\"data\",\"visible\":true,\"width\":0},\"legendgroup\":\"control\",\"marker\":{\"color\":\"rgb(0,0,200)\",\"line\":{\"color\":\"rgb(0,0,200)\",\"width\":3},\"size\":12,\"symbol\":\"square\"},\"mode\":\"markers\",\"name\":\"control\",\"offsetgroup\":\"1\",\"opacity\":0.4,\"showlegend\":false,\"x\":[\"VO\"],\"y\":[7.524638124301314],\"type\":\"scatter\",\"xaxis\":\"x3\",\"yaxis\":\"y3\"},{\"error_y\":{\"array\":[[0.7345346954946295]],\"arrayminus\":[[0.6385980716073798]],\"color\":\"rgb(0,0,200)\",\"thickness\":3,\"type\":\"data\",\"visible\":true,\"width\":0},\"legendgroup\":\"patient\",\"marker\":{\"color\":\"rgb(0,0,200)\",\"line\":{\"color\":\"rgb(0,0,200)\",\"width\":3},\"size\":12,\"symbol\":\"square\"},\"mode\":\"markers\",\"name\":\"patient\",\"offsetgroup\":\"-1\",\"opacity\":1,\"showlegend\":false,\"x\":[\"VO\"],\"y\":[0.9130390352314766],\"type\":\"scatter\",\"xaxis\":\"x4\",\"yaxis\":\"y4\"},{\"error_y\":{\"array\":[[1.7635024928944691]],\"arrayminus\":[[1.7289056977054948]],\"color\":\"rgb(0,0,200)\",\"thickness\":3,\"type\":\"data\",\"visible\":true,\"width\":0},\"legendgroup\":\"control\",\"marker\":{\"color\":\"rgb(0,0,200)\",\"line\":{\"color\":\"rgb(0,0,200)\",\"width\":3},\"size\":12,\"symbol\":\"square\"},\"mode\":\"markers\",\"name\":\"control\",\"offsetgroup\":\"1\",\"opacity\":0.4,\"showlegend\":false,\"x\":[\"VO\"],\"y\":[3.109704869653341],\"type\":\"scatter\",\"xaxis\":\"x4\",\"yaxis\":\"y4\"},{\"error_y\":{\"array\":[[0.1281754925014871]],\"arrayminus\":[[0.0990199245183021]],\"color\":\"rgb(0,0,200)\",\"thickness\":3,\"type\":\"data\",\"visible\":true,\"width\":0},\"legendgroup\":\"patient\",\"marker\":{\"color\":\"rgb(0,0,200)\",\"line\":{\"color\":\"rgb(0,0,200)\",\"width\":3},\"size\":12,\"symbol\":\"square\"},\"mode\":\"markers\",\"name\":\"patient\",\"offsetgroup\":\"-1\",\"opacity\":1,\"showlegend\":false,\"x\":[\"VO\"],\"y\":[0.1280797137071725],\"type\":\"scatter\",\"xaxis\":\"x5\",\"yaxis\":\"y5\"},{\"error_y\":{\"array\":[[0.1304967630160343]],\"arrayminus\":[[0.09436197761505183]],\"color\":\"rgb(0,0,200)\",\"thickness\":3,\"type\":\"data\",\"visible\":true,\"width\":0},\"legendgroup\":\"control\",\"marker\":{\"color\":\"rgb(0,0,200)\",\"line\":{\"color\":\"rgb(0,0,200)\",\"width\":3},\"size\":12,\"symbol\":\"square\"},\"mode\":\"markers\",\"name\":\"control\",\"offsetgroup\":\"1\",\"opacity\":0.4,\"showlegend\":false,\"x\":[\"VO\"],\"y\":[0.3442328151943869],\"type\":\"scatter\",\"xaxis\":\"x5\",\"yaxis\":\"y5\"},{\"error_y\":{\"array\":[[0.07037499213150211]],\"arrayminus\":[[0.08512825244004668]],\"color\":\"rgb(0,0,200)\",\"thickness\":3,\"type\":\"data\",\"visible\":true,\"width\":0},\"legendgroup\":\"patient\",\"marker\":{\"color\":\"rgb(0,0,200)\",\"line\":{\"color\":\"rgb(0,0,200)\",\"width\":3},\"size\":12,\"symbol\":\"square\"},\"mode\":\"markers\",\"name\":\"patient\",\"offsetgroup\":\"-1\",\"opacity\":1,\"showlegend\":false,\"x\":[\"VO\"],\"y\":[0.1458254335418596],\"type\":\"scatter\",\"xaxis\":\"x6\",\"yaxis\":\"y6\"},{\"error_y\":{\"array\":[[0.11052998155261512]],\"arrayminus\":[[0.0922198961826044]],\"color\":\"rgb(0,0,200)\",\"thickness\":3,\"type\":\"data\",\"visible\":true,\"width\":0},\"legendgroup\":\"control\",\"marker\":{\"color\":\"rgb(0,0,200)\",\"line\":{\"color\":\"rgb(0,0,200)\",\"width\":3},\"size\":12,\"symbol\":\"square\"},\"mode\":\"markers\",\"name\":\"control\",\"offsetgroup\":\"1\",\"opacity\":0.4,\"showlegend\":false,\"x\":[\"VO\"],\"y\":[0.2514270924308627],\"type\":\"scatter\",\"xaxis\":\"x6\",\"yaxis\":\"y6\"},{\"error_y\":{\"array\":[[4.92855841368625]],\"arrayminus\":[[2.2577378638425003]],\"color\":\"rgb(0,0,200)\",\"thickness\":3,\"type\":\"data\",\"visible\":true,\"width\":0},\"legendgroup\":\"patient\",\"marker\":{\"color\":\"rgb(0,0,200)\",\"line\":{\"color\":\"rgb(0,0,200)\",\"width\":3},\"size\":12,\"symbol\":\"square\"},\"mode\":\"markers\",\"name\":\"patient\",\"offsetgroup\":\"-1\",\"opacity\":1,\"showlegend\":false,\"x\":[\"VO\"],\"y\":[2.360027177595],\"type\":\"scatter\",\"xaxis\":\"x7\",\"yaxis\":\"y7\"},{\"error_y\":{\"array\":[[6.631076561258997]],\"arrayminus\":[[4.2546157999142515]],\"color\":\"rgb(0,0,200)\",\"thickness\":3,\"type\":\"data\",\"visible\":true,\"width\":0},\"legendgroup\":\"control\",\"marker\":{\"color\":\"rgb(0,0,200)\",\"line\":{\"color\":\"rgb(0,0,200)\",\"width\":3},\"size\":12,\"symbol\":\"square\"},\"mode\":\"markers\",\"name\":\"control\",\"offsetgroup\":\"1\",\"opacity\":0.4,\"showlegend\":false,\"x\":[\"VO\"],\"y\":[13.86998876001375],\"type\":\"scatter\",\"xaxis\":\"x7\",\"yaxis\":\"y7\"},{\"error_y\":{\"array\":[[3.496085599533125]],\"arrayminus\":[[2.877034069171875]],\"color\":\"rgb(0,0,200)\",\"thickness\":3,\"type\":\"data\",\"visible\":true,\"width\":0},\"legendgroup\":\"patient\",\"marker\":{\"color\":\"rgb(0,0,200)\",\"line\":{\"color\":\"rgb(0,0,200)\",\"width\":3},\"size\":12,\"symbol\":\"square\"},\"mode\":\"markers\",\"name\":\"patient\",\"offsetgroup\":\"-1\",\"opacity\":1,\"showlegend\":false,\"x\":[\"VO\"],\"y\":[3.343549411141875],\"type\":\"scatter\",\"xaxis\":\"x8\",\"yaxis\":\"y8\"},{\"error_y\":{\"array\":[[13.98069516011595]],\"arrayminus\":[[16.179424444025102]],\"color\":\"rgb(0,0,200)\",\"thickness\":3,\"type\":\"data\",\"visible\":true,\"width\":0},\"legendgroup\":\"control\",\"marker\":{\"color\":\"rgb(0,0,200)\",\"line\":{\"color\":\"rgb(0,0,200)\",\"width\":3},\"size\":12,\"symbol\":\"square\"},\"mode\":\"markers\",\"name\":\"control\",\"offsetgroup\":\"1\",\"opacity\":0.4,\"showlegend\":false,\"x\":[\"VO\"],\"y\":[27.5967871410296],\"type\":\"scatter\",\"xaxis\":\"x8\",\"yaxis\":\"y8\"},{\"error_y\":{\"array\":[[0.5168086680604866]],\"arrayminus\":[[0.7302991625025649]],\"color\":\"rgb(0,25,255)\",\"thickness\":3,\"type\":\"data\",\"visible\":true,\"width\":0},\"legendgroup\":\"patient\",\"marker\":{\"color\":\"rgb(0,25,255)\",\"line\":{\"color\":\"rgb(0,25,255)\",\"width\":3},\"size\":12,\"symbol\":\"square\"},\"mode\":\"markers\",\"name\":\"patient\",\"offsetgroup\":\"-1\",\"opacity\":1,\"showlegend\":false,\"x\":[\"hMT+\"],\"y\":[1.4288408002554909],\"type\":\"scatter\",\"xaxis\":\"x\",\"yaxis\":\"y\"},{\"error_y\":{\"array\":[[0.3537704792067793]],\"arrayminus\":[[0.4000454906130124]],\"color\":\"rgb(0,25,255)\",\"thickness\":3,\"type\":\"data\",\"visible\":true,\"width\":0},\"legendgroup\":\"control\",\"marker\":{\"color\":\"rgb(0,25,255)\",\"line\":{\"color\":\"rgb(0,25,255)\",\"width\":3},\"size\":12,\"symbol\":\"square\"},\"mode\":\"markers\",\"name\":\"control\",\"offsetgroup\":\"1\",\"opacity\":0.4,\"showlegend\":false,\"x\":[\"hMT+\"],\"y\":[1.7914707294209655],\"type\":\"scatter\",\"xaxis\":\"x\",\"yaxis\":\"y\"},{\"error_y\":{\"array\":[[3.1926927617025624]],\"arrayminus\":[[2.7264564256175747]],\"color\":\"rgb(0,25,255)\",\"thickness\":3,\"type\":\"data\",\"visible\":true,\"width\":0},\"legendgroup\":\"patient\",\"marker\":{\"color\":\"rgb(0,25,255)\",\"line\":{\"color\":\"rgb(0,25,255)\",\"width\":3},\"size\":12,\"symbol\":\"square\"},\"mode\":\"markers\",\"name\":\"patient\",\"offsetgroup\":\"-1\",\"opacity\":1,\"showlegend\":false,\"x\":[\"hMT+\"],\"y\":[7.651655965140484],\"type\":\"scatter\",\"xaxis\":\"x2\",\"yaxis\":\"y2\"},{\"error_y\":{\"array\":[[3.9002855489120902]],\"arrayminus\":[[2.2826595334094497]],\"color\":\"rgb(0,25,255)\",\"thickness\":3,\"type\":\"data\",\"visible\":true,\"width\":0},\"legendgroup\":\"control\",\"marker\":{\"color\":\"rgb(0,25,255)\",\"line\":{\"color\":\"rgb(0,25,255)\",\"width\":3},\"size\":12,\"symbol\":\"square\"},\"mode\":\"markers\",\"name\":\"control\",\"offsetgroup\":\"1\",\"opacity\":0.4,\"showlegend\":false,\"x\":[\"hMT+\"],\"y\":[7.176276948513833],\"type\":\"scatter\",\"xaxis\":\"x2\",\"yaxis\":\"y2\"},{\"error_y\":{\"array\":[[0.4677480666062609]],\"arrayminus\":[[0.3413076802357027]],\"color\":\"rgb(0,25,255)\",\"thickness\":3,\"type\":\"data\",\"visible\":true,\"width\":0},\"legendgroup\":\"patient\",\"marker\":{\"color\":\"rgb(0,25,255)\",\"line\":{\"color\":\"rgb(0,25,255)\",\"width\":3},\"size\":12,\"symbol\":\"square\"},\"mode\":\"markers\",\"name\":\"patient\",\"offsetgroup\":\"-1\",\"opacity\":1,\"showlegend\":false,\"x\":[\"hMT+\"],\"y\":[0.5584799557727135],\"type\":\"scatter\",\"xaxis\":\"x3\",\"yaxis\":\"y3\"},{\"error_y\":{\"array\":[[5.534070925484529]],\"arrayminus\":[[2.4179236517040383]],\"color\":\"rgb(0,25,255)\",\"thickness\":3,\"type\":\"data\",\"visible\":true,\"width\":0},\"legendgroup\":\"control\",\"marker\":{\"color\":\"rgb(0,25,255)\",\"line\":{\"color\":\"rgb(0,25,255)\",\"width\":3},\"size\":12,\"symbol\":\"square\"},\"mode\":\"markers\",\"name\":\"control\",\"offsetgroup\":\"1\",\"opacity\":0.4,\"showlegend\":false,\"x\":[\"hMT+\"],\"y\":[2.7186814216291806],\"type\":\"scatter\",\"xaxis\":\"x3\",\"yaxis\":\"y3\"},{\"error_y\":{\"array\":[[0.40154651261794594]],\"arrayminus\":[[0.4029546239390184]],\"color\":\"rgb(0,25,255)\",\"thickness\":3,\"type\":\"data\",\"visible\":true,\"width\":0},\"legendgroup\":\"patient\",\"marker\":{\"color\":\"rgb(0,25,255)\",\"line\":{\"color\":\"rgb(0,25,255)\",\"width\":3},\"size\":12,\"symbol\":\"square\"},\"mode\":\"markers\",\"name\":\"patient\",\"offsetgroup\":\"-1\",\"opacity\":1,\"showlegend\":false,\"x\":[\"hMT+\"],\"y\":[0.5235076070329081],\"type\":\"scatter\",\"xaxis\":\"x4\",\"yaxis\":\"y4\"},{\"error_y\":{\"array\":[[1.9678702839922948]],\"arrayminus\":[[1.3507986781092387]],\"color\":\"rgb(0,25,255)\",\"thickness\":3,\"type\":\"data\",\"visible\":true,\"width\":0},\"legendgroup\":\"control\",\"marker\":{\"color\":\"rgb(0,25,255)\",\"line\":{\"color\":\"rgb(0,25,255)\",\"width\":3},\"size\":12,\"symbol\":\"square\"},\"mode\":\"markers\",\"name\":\"control\",\"offsetgroup\":\"1\",\"opacity\":0.4,\"showlegend\":false,\"x\":[\"hMT+\"],\"y\":[1.868801202696582],\"type\":\"scatter\",\"xaxis\":\"x4\",\"yaxis\":\"y4\"},{\"error_y\":{\"array\":[[0.1298817093749438]],\"arrayminus\":[[0.053797679214775296]],\"color\":\"rgb(0,25,255)\",\"thickness\":3,\"type\":\"data\",\"visible\":true,\"width\":0},\"legendgroup\":\"patient\",\"marker\":{\"color\":\"rgb(0,25,255)\",\"line\":{\"color\":\"rgb(0,25,255)\",\"width\":3},\"size\":12,\"symbol\":\"square\"},\"mode\":\"markers\",\"name\":\"patient\",\"offsetgroup\":\"-1\",\"opacity\":1,\"showlegend\":false,\"x\":[\"hMT+\"],\"y\":[0.0759910601931673],\"type\":\"scatter\",\"xaxis\":\"x5\",\"yaxis\":\"y5\"},{\"error_y\":{\"array\":[[0.1757424232131621]],\"arrayminus\":[[0.1055679648472895]],\"color\":\"rgb(0,25,255)\",\"thickness\":3,\"type\":\"data\",\"visible\":true,\"width\":0},\"legendgroup\":\"control\",\"marker\":{\"color\":\"rgb(0,25,255)\",\"line\":{\"color\":\"rgb(0,25,255)\",\"width\":3},\"size\":12,\"symbol\":\"square\"},\"mode\":\"markers\",\"name\":\"control\",\"offsetgroup\":\"1\",\"opacity\":0.4,\"showlegend\":false,\"x\":[\"hMT+\"],\"y\":[0.1482571309696953],\"type\":\"scatter\",\"xaxis\":\"x5\",\"yaxis\":\"y5\"},{\"error_y\":{\"array\":[[0.0743031975260045]],\"arrayminus\":[[0.0652953548258745]],\"color\":\"rgb(0,25,255)\",\"thickness\":3,\"type\":\"data\",\"visible\":true,\"width\":0},\"legendgroup\":\"patient\",\"marker\":{\"color\":\"rgb(0,25,255)\",\"line\":{\"color\":\"rgb(0,25,255)\",\"width\":3},\"size\":12,\"symbol\":\"square\"},\"mode\":\"markers\",\"name\":\"patient\",\"offsetgroup\":\"-1\",\"opacity\":1,\"showlegend\":false,\"x\":[\"hMT+\"],\"y\":[0.141403879179694],\"type\":\"scatter\",\"xaxis\":\"x6\",\"yaxis\":\"y6\"},{\"error_y\":{\"array\":[[0.08818938124661296]],\"arrayminus\":[[0.13850936133457542]],\"color\":\"rgb(0,25,255)\",\"thickness\":3,\"type\":\"data\",\"visible\":true,\"width\":0},\"legendgroup\":\"control\",\"marker\":{\"color\":\"rgb(0,25,255)\",\"line\":{\"color\":\"rgb(0,25,255)\",\"width\":3},\"size\":12,\"symbol\":\"square\"},\"mode\":\"markers\",\"name\":\"control\",\"offsetgroup\":\"1\",\"opacity\":0.4,\"showlegend\":false,\"x\":[\"hMT+\"],\"y\":[0.3451745807343256],\"type\":\"scatter\",\"xaxis\":\"x6\",\"yaxis\":\"y6\"},{\"error_y\":{\"array\":[[0.7190430730224167]],\"arrayminus\":[[0.2731244698093333]],\"color\":\"rgb(0,25,255)\",\"thickness\":3,\"type\":\"data\",\"visible\":true,\"width\":0},\"legendgroup\":\"patient\",\"marker\":{\"color\":\"rgb(0,25,255)\",\"line\":{\"color\":\"rgb(0,25,255)\",\"width\":3},\"size\":12,\"symbol\":\"square\"},\"mode\":\"markers\",\"name\":\"patient\",\"offsetgroup\":\"-1\",\"opacity\":1,\"showlegend\":false,\"x\":[\"hMT+\"],\"y\":[0.3141285573743333],\"type\":\"scatter\",\"xaxis\":\"x7\",\"yaxis\":\"y7\"},{\"error_y\":{\"array\":[[1.6339172151927497]],\"arrayminus\":[[0.8804816718992501]],\"color\":\"rgb(0,25,255)\",\"thickness\":3,\"type\":\"data\",\"visible\":true,\"width\":0},\"legendgroup\":\"control\",\"marker\":{\"color\":\"rgb(0,25,255)\",\"line\":{\"color\":\"rgb(0,25,255)\",\"width\":3},\"size\":12,\"symbol\":\"square\"},\"mode\":\"markers\",\"name\":\"control\",\"offsetgroup\":\"1\",\"opacity\":0.4,\"showlegend\":false,\"x\":[\"hMT+\"],\"y\":[1.19142865939],\"type\":\"scatter\",\"xaxis\":\"x7\",\"yaxis\":\"y7\"},{\"error_y\":{\"array\":[[2.65592728683525]],\"arrayminus\":[[1.78128264044475]],\"color\":\"rgb(0,25,255)\",\"thickness\":3,\"type\":\"data\",\"visible\":true,\"width\":0},\"legendgroup\":\"patient\",\"marker\":{\"color\":\"rgb(0,25,255)\",\"line\":{\"color\":\"rgb(0,25,255)\",\"width\":3},\"size\":12,\"symbol\":\"square\"},\"mode\":\"markers\",\"name\":\"patient\",\"offsetgroup\":\"-1\",\"opacity\":1,\"showlegend\":false,\"x\":[\"hMT+\"],\"y\":[1.88743877255725],\"type\":\"scatter\",\"xaxis\":\"x8\",\"yaxis\":\"y8\"},{\"error_y\":{\"array\":[[5.423023810310848]],\"arrayminus\":[[4.271801818669149]],\"color\":\"rgb(0,25,255)\",\"thickness\":3,\"type\":\"data\",\"visible\":true,\"width\":0},\"legendgroup\":\"control\",\"marker\":{\"color\":\"rgb(0,25,255)\",\"line\":{\"color\":\"rgb(0,25,255)\",\"width\":3},\"size\":12,\"symbol\":\"square\"},\"mode\":\"markers\",\"name\":\"control\",\"offsetgroup\":\"1\",\"opacity\":0.4,\"showlegend\":false,\"x\":[\"hMT+\"],\"y\":[8.1440385989984],\"type\":\"scatter\",\"xaxis\":\"x8\",\"yaxis\":\"y8\"},{\"error_y\":{\"array\":[[0.634527634146062]],\"arrayminus\":[[0.6435529806776766]],\"color\":\"rgb(0,152,255)\",\"thickness\":3,\"type\":\"data\",\"visible\":true,\"width\":0},\"legendgroup\":\"patient\",\"marker\":{\"color\":\"rgb(0,152,255)\",\"line\":{\"color\":\"rgb(0,152,255)\",\"width\":3},\"size\":12,\"symbol\":\"square\"},\"mode\":\"markers\",\"name\":\"patient\",\"offsetgroup\":\"-1\",\"opacity\":1,\"showlegend\":false,\"x\":[\"iIPS\"],\"y\":[1.3472699741281111],\"type\":\"scatter\",\"xaxis\":\"x\",\"yaxis\":\"y\"},{\"error_y\":{\"array\":[[0.3694807881632307]],\"arrayminus\":[[0.35710761535098734]],\"color\":\"rgb(0,152,255)\",\"thickness\":3,\"type\":\"data\",\"visible\":true,\"width\":0},\"legendgroup\":\"control\",\"marker\":{\"color\":\"rgb(0,152,255)\",\"line\":{\"color\":\"rgb(0,152,255)\",\"width\":3},\"size\":12,\"symbol\":\"square\"},\"mode\":\"markers\",\"name\":\"control\",\"offsetgroup\":\"1\",\"opacity\":0.4,\"showlegend\":false,\"x\":[\"iIPS\"],\"y\":[1.6803138524347372],\"type\":\"scatter\",\"xaxis\":\"x\",\"yaxis\":\"y\"},{\"error_y\":{\"array\":[[3.965327540724254]],\"arrayminus\":[[2.3434631114811024]],\"color\":\"rgb(0,152,255)\",\"thickness\":3,\"type\":\"data\",\"visible\":true,\"width\":0},\"legendgroup\":\"patient\",\"marker\":{\"color\":\"rgb(0,152,255)\",\"line\":{\"color\":\"rgb(0,152,255)\",\"width\":3},\"size\":12,\"symbol\":\"square\"},\"mode\":\"markers\",\"name\":\"patient\",\"offsetgroup\":\"-1\",\"opacity\":1,\"showlegend\":false,\"x\":[\"iIPS\"],\"y\":[6.573397792076158],\"type\":\"scatter\",\"xaxis\":\"x2\",\"yaxis\":\"y2\"},{\"error_y\":{\"array\":[[1.4194308644629583]],\"arrayminus\":[[1.4572909091727642]],\"color\":\"rgb(0,152,255)\",\"thickness\":3,\"type\":\"data\",\"visible\":true,\"width\":0},\"legendgroup\":\"control\",\"marker\":{\"color\":\"rgb(0,152,255)\",\"line\":{\"color\":\"rgb(0,152,255)\",\"width\":3},\"size\":12,\"symbol\":\"square\"},\"mode\":\"markers\",\"name\":\"control\",\"offsetgroup\":\"1\",\"opacity\":0.4,\"showlegend\":false,\"x\":[\"iIPS\"],\"y\":[5.831485399128834],\"type\":\"scatter\",\"xaxis\":\"x2\",\"yaxis\":\"y2\"},{\"error_y\":{\"array\":[[0.6423308232759816]],\"arrayminus\":[[0.29460420859349956]],\"color\":\"rgb(0,152,255)\",\"thickness\":3,\"type\":\"data\",\"visible\":true,\"width\":0},\"legendgroup\":\"patient\",\"marker\":{\"color\":\"rgb(0,152,255)\",\"line\":{\"color\":\"rgb(0,152,255)\",\"width\":3},\"size\":12,\"symbol\":\"square\"},\"mode\":\"markers\",\"name\":\"patient\",\"offsetgroup\":\"-1\",\"opacity\":1,\"showlegend\":false,\"x\":[\"iIPS\"],\"y\":[0.6159146126844534],\"type\":\"scatter\",\"xaxis\":\"x3\",\"yaxis\":\"y3\"},{\"error_y\":{\"array\":[[2.7488591715521813]],\"arrayminus\":[[1.597114057564458]],\"color\":\"rgb(0,152,255)\",\"thickness\":3,\"type\":\"data\",\"visible\":true,\"width\":0},\"legendgroup\":\"control\",\"marker\":{\"color\":\"rgb(0,152,255)\",\"line\":{\"color\":\"rgb(0,152,255)\",\"width\":3},\"size\":12,\"symbol\":\"square\"},\"mode\":\"markers\",\"name\":\"control\",\"offsetgroup\":\"1\",\"opacity\":0.4,\"showlegend\":false,\"x\":[\"iIPS\"],\"y\":[2.223684351017297],\"type\":\"scatter\",\"xaxis\":\"x3\",\"yaxis\":\"y3\"},{\"error_y\":{\"array\":[[0.356570103247394]],\"arrayminus\":[[0.2967772020458248]],\"color\":\"rgb(0,152,255)\",\"thickness\":3,\"type\":\"data\",\"visible\":true,\"width\":0},\"legendgroup\":\"patient\",\"marker\":{\"color\":\"rgb(0,152,255)\",\"line\":{\"color\":\"rgb(0,152,255)\",\"width\":3},\"size\":12,\"symbol\":\"square\"},\"mode\":\"markers\",\"name\":\"patient\",\"offsetgroup\":\"-1\",\"opacity\":1,\"showlegend\":false,\"x\":[\"iIPS\"],\"y\":[0.5377473271409405],\"type\":\"scatter\",\"xaxis\":\"x4\",\"yaxis\":\"y4\"},{\"error_y\":{\"array\":[[2.74109180653691]],\"arrayminus\":[[1.9515183405795622]],\"color\":\"rgb(0,152,255)\",\"thickness\":3,\"type\":\"data\",\"visible\":true,\"width\":0},\"legendgroup\":\"control\",\"marker\":{\"color\":\"rgb(0,152,255)\",\"line\":{\"color\":\"rgb(0,152,255)\",\"width\":3},\"size\":12,\"symbol\":\"square\"},\"mode\":\"markers\",\"name\":\"control\",\"offsetgroup\":\"1\",\"opacity\":0.4,\"showlegend\":false,\"x\":[\"iIPS\"],\"y\":[2.922500664706341],\"type\":\"scatter\",\"xaxis\":\"x4\",\"yaxis\":\"y4\"},{\"error_y\":{\"array\":[[0.06763204135958169]],\"arrayminus\":[[0.042262014849927296]],\"color\":\"rgb(0,152,255)\",\"thickness\":3,\"type\":\"data\",\"visible\":true,\"width\":0},\"legendgroup\":\"patient\",\"marker\":{\"color\":\"rgb(0,152,255)\",\"line\":{\"color\":\"rgb(0,152,255)\",\"width\":3},\"size\":12,\"symbol\":\"square\"},\"mode\":\"markers\",\"name\":\"patient\",\"offsetgroup\":\"-1\",\"opacity\":1,\"showlegend\":false,\"x\":[\"iIPS\"],\"y\":[0.0741193079983037],\"type\":\"scatter\",\"xaxis\":\"x5\",\"yaxis\":\"y5\"},{\"error_y\":{\"array\":[[0.1770307863495112]],\"arrayminus\":[[0.1357803106320945]],\"color\":\"rgb(0,152,255)\",\"thickness\":3,\"type\":\"data\",\"visible\":true,\"width\":0},\"legendgroup\":\"control\",\"marker\":{\"color\":\"rgb(0,152,255)\",\"line\":{\"color\":\"rgb(0,152,255)\",\"width\":3},\"size\":12,\"symbol\":\"square\"},\"mode\":\"markers\",\"name\":\"control\",\"offsetgroup\":\"1\",\"opacity\":0.4,\"showlegend\":false,\"x\":[\"iIPS\"],\"y\":[0.2301721500221377],\"type\":\"scatter\",\"xaxis\":\"x5\",\"yaxis\":\"y5\"},{\"error_y\":{\"array\":[[0.04697570567655579]],\"arrayminus\":[[0.05445433724407241]],\"color\":\"rgb(0,152,255)\",\"thickness\":3,\"type\":\"data\",\"visible\":true,\"width\":0},\"legendgroup\":\"patient\",\"marker\":{\"color\":\"rgb(0,152,255)\",\"line\":{\"color\":\"rgb(0,152,255)\",\"width\":3},\"size\":12,\"symbol\":\"square\"},\"mode\":\"markers\",\"name\":\"patient\",\"offsetgroup\":\"-1\",\"opacity\":1,\"showlegend\":false,\"x\":[\"iIPS\"],\"y\":[0.0979842284924689],\"type\":\"scatter\",\"xaxis\":\"x6\",\"yaxis\":\"y6\"},{\"error_y\":{\"array\":[[0.14548141326771258]],\"arrayminus\":[[0.1260822147559043]],\"color\":\"rgb(0,152,255)\",\"thickness\":3,\"type\":\"data\",\"visible\":true,\"width\":0},\"legendgroup\":\"control\",\"marker\":{\"color\":\"rgb(0,152,255)\",\"line\":{\"color\":\"rgb(0,152,255)\",\"width\":3},\"size\":12,\"symbol\":\"square\"},\"mode\":\"markers\",\"name\":\"control\",\"offsetgroup\":\"1\",\"opacity\":0.4,\"showlegend\":false,\"x\":[\"iIPS\"],\"y\":[0.3239798557996118],\"type\":\"scatter\",\"xaxis\":\"x6\",\"yaxis\":\"y6\"},{\"error_y\":{\"array\":[[1.5079279028993753]],\"arrayminus\":[[0.528538651245625]],\"color\":\"rgb(0,152,255)\",\"thickness\":3,\"type\":\"data\",\"visible\":true,\"width\":0},\"legendgroup\":\"patient\",\"marker\":{\"color\":\"rgb(0,152,255)\",\"line\":{\"color\":\"rgb(0,152,255)\",\"width\":3},\"size\":12,\"symbol\":\"square\"},\"mode\":\"markers\",\"name\":\"patient\",\"offsetgroup\":\"-1\",\"opacity\":1,\"showlegend\":false,\"x\":[\"iIPS\"],\"y\":[0.607678081520625],\"type\":\"scatter\",\"xaxis\":\"x7\",\"yaxis\":\"y7\"},{\"error_y\":{\"array\":[[3.181387749073547]],\"arrayminus\":[[2.8620269121031994]],\"color\":\"rgb(0,152,255)\",\"thickness\":3,\"type\":\"data\",\"visible\":true,\"width\":0},\"legendgroup\":\"control\",\"marker\":{\"color\":\"rgb(0,152,255)\",\"line\":{\"color\":\"rgb(0,152,255)\",\"width\":3},\"size\":12,\"symbol\":\"square\"},\"mode\":\"markers\",\"name\":\"control\",\"offsetgroup\":\"1\",\"opacity\":0.4,\"showlegend\":false,\"x\":[\"iIPS\"],\"y\":[4.13408016314145],\"type\":\"scatter\",\"xaxis\":\"x7\",\"yaxis\":\"y7\"},{\"error_y\":{\"array\":[[4.901589972594375]],\"arrayminus\":[[2.124040010118125]],\"color\":\"rgb(0,152,255)\",\"thickness\":3,\"type\":\"data\",\"visible\":true,\"width\":0},\"legendgroup\":\"patient\",\"marker\":{\"color\":\"rgb(0,152,255)\",\"line\":{\"color\":\"rgb(0,152,255)\",\"width\":3},\"size\":12,\"symbol\":\"square\"},\"mode\":\"markers\",\"name\":\"patient\",\"offsetgroup\":\"-1\",\"opacity\":1,\"showlegend\":false,\"x\":[\"iIPS\"],\"y\":[2.287422263048125],\"type\":\"scatter\",\"xaxis\":\"x8\",\"yaxis\":\"y8\"},{\"error_y\":{\"array\":[[8.848646592451047]],\"arrayminus\":[[9.952437536944853]],\"color\":\"rgb(0,152,255)\",\"thickness\":3,\"type\":\"data\",\"visible\":true,\"width\":0},\"legendgroup\":\"control\",\"marker\":{\"color\":\"rgb(0,152,255)\",\"line\":{\"color\":\"rgb(0,152,255)\",\"width\":3},\"size\":12,\"symbol\":\"square\"},\"mode\":\"markers\",\"name\":\"control\",\"offsetgroup\":\"1\",\"opacity\":0.4,\"showlegend\":false,\"x\":[\"iIPS\"],\"y\":[17.9513488330358],\"type\":\"scatter\",\"xaxis\":\"x8\",\"yaxis\":\"y8\"},{\"error_y\":{\"array\":[[0.3727961779170166]],\"arrayminus\":[[0.446737036028346]],\"color\":\"rgb(44,255,150)\",\"thickness\":3,\"type\":\"data\",\"visible\":true,\"width\":0},\"legendgroup\":\"patient\",\"marker\":{\"color\":\"rgb(44,255,150)\",\"line\":{\"color\":\"rgb(44,255,150)\",\"width\":3},\"size\":12,\"symbol\":\"square\"},\"mode\":\"markers\",\"name\":\"patient\",\"offsetgroup\":\"-1\",\"opacity\":1,\"showlegend\":false,\"x\":[\"sIPS\"],\"y\":[1.2312020156639798],\"type\":\"scatter\",\"xaxis\":\"x\",\"yaxis\":\"y\"},{\"error_y\":{\"array\":[[0.6298992428677872]],\"arrayminus\":[[0.4637195860824952]],\"color\":\"rgb(44,255,150)\",\"thickness\":3,\"type\":\"data\",\"visible\":true,\"width\":0},\"legendgroup\":\"control\",\"marker\":{\"color\":\"rgb(44,255,150)\",\"line\":{\"color\":\"rgb(44,255,150)\",\"width\":3},\"size\":12,\"symbol\":\"square\"},\"mode\":\"markers\",\"name\":\"control\",\"offsetgroup\":\"1\",\"opacity\":0.4,\"showlegend\":false,\"x\":[\"sIPS\"],\"y\":[1.5568562656985665],\"type\":\"scatter\",\"xaxis\":\"x\",\"yaxis\":\"y\"},{\"error_y\":{\"array\":[[3.8583427090173794]],\"arrayminus\":[[2.420055735307379]],\"color\":\"rgb(44,255,150)\",\"thickness\":3,\"type\":\"data\",\"visible\":true,\"width\":0},\"legendgroup\":\"patient\",\"marker\":{\"color\":\"rgb(44,255,150)\",\"line\":{\"color\":\"rgb(44,255,150)\",\"width\":3},\"size\":12,\"symbol\":\"square\"},\"mode\":\"markers\",\"name\":\"patient\",\"offsetgroup\":\"-1\",\"opacity\":1,\"showlegend\":false,\"x\":[\"sIPS\"],\"y\":[7.278173133619561],\"type\":\"scatter\",\"xaxis\":\"x2\",\"yaxis\":\"y2\"},{\"error_y\":{\"array\":[[2.9100495221603833]],\"arrayminus\":[[2.546039388397281]],\"color\":\"rgb(44,255,150)\",\"thickness\":3,\"type\":\"data\",\"visible\":true,\"width\":0},\"legendgroup\":\"control\",\"marker\":{\"color\":\"rgb(44,255,150)\",\"line\":{\"color\":\"rgb(44,255,150)\",\"width\":3},\"size\":12,\"symbol\":\"square\"},\"mode\":\"markers\",\"name\":\"control\",\"offsetgroup\":\"1\",\"opacity\":0.4,\"showlegend\":false,\"x\":[\"sIPS\"],\"y\":[6.954179620587253],\"type\":\"scatter\",\"xaxis\":\"x2\",\"yaxis\":\"y2\"},{\"error_y\":{\"array\":[[0.33993087245591935]],\"arrayminus\":[[0.35298307191538336]],\"color\":\"rgb(44,255,150)\",\"thickness\":3,\"type\":\"data\",\"visible\":true,\"width\":0},\"legendgroup\":\"patient\",\"marker\":{\"color\":\"rgb(44,255,150)\",\"line\":{\"color\":\"rgb(44,255,150)\",\"width\":3},\"size\":12,\"symbol\":\"square\"},\"mode\":\"markers\",\"name\":\"patient\",\"offsetgroup\":\"-1\",\"opacity\":1,\"showlegend\":false,\"x\":[\"sIPS\"],\"y\":[0.5356755055714097],\"type\":\"scatter\",\"xaxis\":\"x3\",\"yaxis\":\"y3\"},{\"error_y\":{\"array\":[[1.81637916449594]],\"arrayminus\":[[1.020088187263545]],\"color\":\"rgb(44,255,150)\",\"thickness\":3,\"type\":\"data\",\"visible\":true,\"width\":0},\"legendgroup\":\"control\",\"marker\":{\"color\":\"rgb(44,255,150)\",\"line\":{\"color\":\"rgb(44,255,150)\",\"width\":3},\"size\":12,\"symbol\":\"square\"},\"mode\":\"markers\",\"name\":\"control\",\"offsetgroup\":\"1\",\"opacity\":0.4,\"showlegend\":false,\"x\":[\"sIPS\"],\"y\":[1.4775392318234744],\"type\":\"scatter\",\"xaxis\":\"x3\",\"yaxis\":\"y3\"},{\"error_y\":{\"array\":[[0.3664883835794485]],\"arrayminus\":[[0.1951739593433738]],\"color\":\"rgb(44,255,150)\",\"thickness\":3,\"type\":\"data\",\"visible\":true,\"width\":0},\"legendgroup\":\"patient\",\"marker\":{\"color\":\"rgb(44,255,150)\",\"line\":{\"color\":\"rgb(44,255,150)\",\"width\":3},\"size\":12,\"symbol\":\"square\"},\"mode\":\"markers\",\"name\":\"patient\",\"offsetgroup\":\"-1\",\"opacity\":1,\"showlegend\":false,\"x\":[\"sIPS\"],\"y\":[0.3906906774951418],\"type\":\"scatter\",\"xaxis\":\"x4\",\"yaxis\":\"y4\"},{\"error_y\":{\"array\":[[2.4691169321574975]],\"arrayminus\":[[1.7240769648492553]],\"color\":\"rgb(44,255,150)\",\"thickness\":3,\"type\":\"data\",\"visible\":true,\"width\":0},\"legendgroup\":\"control\",\"marker\":{\"color\":\"rgb(44,255,150)\",\"line\":{\"color\":\"rgb(44,255,150)\",\"width\":3},\"size\":12,\"symbol\":\"square\"},\"mode\":\"markers\",\"name\":\"control\",\"offsetgroup\":\"1\",\"opacity\":0.4,\"showlegend\":false,\"x\":[\"sIPS\"],\"y\":[2.330258899091308],\"type\":\"scatter\",\"xaxis\":\"x4\",\"yaxis\":\"y4\"},{\"error_y\":{\"array\":[[0.037961825063190104]],\"arrayminus\":[[0.0242795863670714]],\"color\":\"rgb(44,255,150)\",\"thickness\":3,\"type\":\"data\",\"visible\":true,\"width\":0},\"legendgroup\":\"patient\",\"marker\":{\"color\":\"rgb(44,255,150)\",\"line\":{\"color\":\"rgb(44,255,150)\",\"width\":3},\"size\":12,\"symbol\":\"square\"},\"mode\":\"markers\",\"name\":\"patient\",\"offsetgroup\":\"-1\",\"opacity\":1,\"showlegend\":false,\"x\":[\"sIPS\"],\"y\":[0.0393571809057043],\"type\":\"scatter\",\"xaxis\":\"x5\",\"yaxis\":\"y5\"},{\"error_y\":{\"array\":[[0.1413396972486205]],\"arrayminus\":[[0.049162694174124597]],\"color\":\"rgb(44,255,150)\",\"thickness\":3,\"type\":\"data\",\"visible\":true,\"width\":0},\"legendgroup\":\"control\",\"marker\":{\"color\":\"rgb(44,255,150)\",\"line\":{\"color\":\"rgb(44,255,150)\",\"width\":3},\"size\":12,\"symbol\":\"square\"},\"mode\":\"markers\",\"name\":\"control\",\"offsetgroup\":\"1\",\"opacity\":0.4,\"showlegend\":false,\"x\":[\"sIPS\"],\"y\":[0.0959338330677355],\"type\":\"scatter\",\"xaxis\":\"x5\",\"yaxis\":\"y5\"},{\"error_y\":{\"array\":[[0.031495239901963595]],\"arrayminus\":[[0.025428736201140202]],\"color\":\"rgb(44,255,150)\",\"thickness\":3,\"type\":\"data\",\"visible\":true,\"width\":0},\"legendgroup\":\"patient\",\"marker\":{\"color\":\"rgb(44,255,150)\",\"line\":{\"color\":\"rgb(44,255,150)\",\"width\":3},\"size\":12,\"symbol\":\"square\"},\"mode\":\"markers\",\"name\":\"patient\",\"offsetgroup\":\"-1\",\"opacity\":1,\"showlegend\":false,\"x\":[\"sIPS\"],\"y\":[0.0683766376982438],\"type\":\"scatter\",\"xaxis\":\"x6\",\"yaxis\":\"y6\"},{\"error_y\":{\"array\":[[0.0915100636658745]],\"arrayminus\":[[0.10700535555092908]],\"color\":\"rgb(44,255,150)\",\"thickness\":3,\"type\":\"data\",\"visible\":true,\"width\":0},\"legendgroup\":\"control\",\"marker\":{\"color\":\"rgb(44,255,150)\",\"line\":{\"color\":\"rgb(44,255,150)\",\"width\":3},\"size\":12,\"symbol\":\"square\"},\"mode\":\"markers\",\"name\":\"control\",\"offsetgroup\":\"1\",\"opacity\":0.4,\"showlegend\":false,\"x\":[\"sIPS\"],\"y\":[0.3025955014663775],\"type\":\"scatter\",\"xaxis\":\"x6\",\"yaxis\":\"y6\"},{\"error_y\":{\"array\":[[0.7217853004670627]],\"arrayminus\":[[0.2871918427604374]],\"color\":\"rgb(44,255,150)\",\"thickness\":3,\"type\":\"data\",\"visible\":true,\"width\":0},\"legendgroup\":\"patient\",\"marker\":{\"color\":\"rgb(44,255,150)\",\"line\":{\"color\":\"rgb(44,255,150)\",\"width\":3},\"size\":12,\"symbol\":\"square\"},\"mode\":\"markers\",\"name\":\"patient\",\"offsetgroup\":\"-1\",\"opacity\":1,\"showlegend\":false,\"x\":[\"sIPS\"],\"y\":[0.3129726750604374],\"type\":\"scatter\",\"xaxis\":\"x7\",\"yaxis\":\"y7\"},{\"error_y\":{\"array\":[[3.7604518228324464]],\"arrayminus\":[[2.3450014897234]],\"color\":\"rgb(44,255,150)\",\"thickness\":3,\"type\":\"data\",\"visible\":true,\"width\":0},\"legendgroup\":\"control\",\"marker\":{\"color\":\"rgb(44,255,150)\",\"line\":{\"color\":\"rgb(44,255,150)\",\"width\":3},\"size\":12,\"symbol\":\"square\"},\"mode\":\"markers\",\"name\":\"control\",\"offsetgroup\":\"1\",\"opacity\":0.4,\"showlegend\":false,\"x\":[\"sIPS\"],\"y\":[3.75310401943565],\"type\":\"scatter\",\"xaxis\":\"x7\",\"yaxis\":\"y7\"},{\"error_y\":{\"array\":[[3.7438665806446876]],\"arrayminus\":[[1.4624495918840625]],\"color\":\"rgb(44,255,150)\",\"thickness\":3,\"type\":\"data\",\"visible\":true,\"width\":0},\"legendgroup\":\"patient\",\"marker\":{\"color\":\"rgb(44,255,150)\",\"line\":{\"color\":\"rgb(44,255,150)\",\"width\":3},\"size\":12,\"symbol\":\"square\"},\"mode\":\"markers\",\"name\":\"patient\",\"offsetgroup\":\"-1\",\"opacity\":1,\"showlegend\":false,\"x\":[\"sIPS\"],\"y\":[1.5715921721715624],\"type\":\"scatter\",\"xaxis\":\"x8\",\"yaxis\":\"y8\"},{\"error_y\":{\"array\":[[15.069724045272494]],\"arrayminus\":[[15.13686910653875]],\"color\":\"rgb(44,255,150)\",\"thickness\":3,\"type\":\"data\",\"visible\":true,\"width\":0},\"legendgroup\":\"control\",\"marker\":{\"color\":\"rgb(44,255,150)\",\"line\":{\"color\":\"rgb(44,255,150)\",\"width\":3},\"size\":12,\"symbol\":\"square\"},\"mode\":\"markers\",\"name\":\"control\",\"offsetgroup\":\"1\",\"opacity\":0.4,\"showlegend\":false,\"x\":[\"sIPS\"],\"y\":[22.97327516517],\"type\":\"scatter\",\"xaxis\":\"x8\",\"yaxis\":\"y8\"}],                        {\"template\":{\"data\":{\"barpolar\":[{\"marker\":{\"line\":{\"color\":\"rgba(0,0,0,1)\",\"width\":1.5}},\"showlegend\":false,\"type\":\"barpolar\"}],\"pie\":[{\"direction\":\"clockwise\",\"hole\":0.4,\"marker\":{\"line\":{\"width\":0}},\"rotation\":0,\"sort\":false,\"textposition\":[\"inside\",\"none\"],\"type\":\"pie\"}],\"violin\":[{\"box\":{\"visible\":false},\"hoveron\":\"violins\",\"line\":{\"color\":\"rgba(0, 0, 0, 1)\",\"width\":1.5},\"meanline\":{\"visible\":false},\"points\":false,\"showlegend\":false,\"width\":0.8,\"type\":\"violin\"}]},\"layout\":{\"annotationdefaults\":{\"font\":{\"color\":\"rgba(0, 0, 0, 1)\",\"family\":\"Arial\",\"size\":15}},\"font\":{\"family\":\"Arial\",\"size\":15},\"plot_bgcolor\":\"rgba(255, 255, 255, 1)\",\"polar\":{\"angularaxis\":{\"showticklabels\":false,\"ticks\":\"\",\"visible\":false},\"radialaxis\":{\"showticklabels\":false,\"ticks\":\"\",\"visible\":false}},\"xaxis\":{\"color\":\"rgba(0, 0, 0, 1)\",\"hoverformat\":\".1f\",\"linewidth\":2,\"showgrid\":false,\"tickfont\":{\"family\":\"Arial\",\"size\":15},\"ticklen\":8,\"ticks\":\"outside\",\"tickwidth\":2,\"title\":{\"font\":{\"family\":\"Arial\",\"size\":15}},\"visible\":true,\"zeroline\":false,\"zerolinecolor\":\"rgba(0, 0, 0, 1)\",\"zerolinewidth\":2},\"yaxis\":{\"color\":\"rgba(0, 0, 0, 1)\",\"hoverformat\":\".1f\",\"linewidth\":2,\"showgrid\":false,\"tickfont\":{\"family\":\"Arial\",\"size\":15},\"ticklen\":8,\"ticks\":\"outside\",\"tickwidth\":2,\"title\":{\"font\":{\"family\":\"Arial\",\"size\":15}},\"visible\":true,\"zeroline\":false,\"zerolinecolor\":\"rgba(0, 0, 0, 1)\",\"zerolinewidth\":2}}},\"xaxis\":{\"anchor\":\"y\",\"domain\":[0.0,0.46],\"showline\":true,\"ticklen\":0,\"linecolor\":\"rgba(255,255,255,0)\"},\"yaxis\":{\"anchor\":\"x\",\"domain\":[0.81,1.0],\"title\":{\"text\":\"pRF size (dva)\"},\"showline\":true,\"range\":[0,2.5],\"nticks\":7},\"xaxis2\":{\"anchor\":\"y2\",\"domain\":[0.54,1.0],\"showline\":true,\"ticklen\":0,\"linecolor\":\"rgba(255,255,255,0)\"},\"yaxis2\":{\"anchor\":\"x2\",\"domain\":[0.81,1.0],\"title\":{\"text\":\"pRF size (dva)\"},\"showline\":true,\"range\":[0,12],\"nticks\":7},\"xaxis3\":{\"anchor\":\"y3\",\"domain\":[0.0,0.46],\"showline\":true,\"ticklen\":0,\"linecolor\":\"rgba(255,255,255,0)\"},\"yaxis3\":{\"anchor\":\"x3\",\"domain\":[0.54,0.73],\"title\":{\"text\":\"pRF CM (mm\\u002fdva)\"},\"showline\":true,\"range\":[0,15],\"nticks\":4},\"xaxis4\":{\"anchor\":\"y4\",\"domain\":[0.54,1.0],\"showline\":true,\"ticklen\":0,\"linecolor\":\"rgba(255,255,255,0)\"},\"yaxis4\":{\"anchor\":\"x4\",\"domain\":[0.54,0.73],\"title\":{\"text\":\"pRF CM (mm\\u002fdva)\"},\"showline\":true,\"range\":[0,8],\"nticks\":5},\"xaxis5\":{\"anchor\":\"y5\",\"domain\":[0.0,0.46],\"showline\":true,\"ticklen\":0,\"linecolor\":\"rgba(255,255,255,0)\"},\"yaxis5\":{\"anchor\":\"x5\",\"domain\":[0.27,0.46],\"title\":{\"text\":\"pRF LOO R\\u003csup\\u003e2\\u003c\\u002fsup\\u003e\"},\"showline\":true,\"range\":[0,0.5],\"nticks\":6},\"xaxis6\":{\"anchor\":\"y6\",\"domain\":[0.54,1.0],\"showline\":true,\"ticklen\":0,\"linecolor\":\"rgba(255,255,255,0)\"},\"yaxis6\":{\"anchor\":\"x6\",\"domain\":[0.27,0.46],\"title\":{\"text\":\"pRF LOO R\\u003csup\\u003e2\\u003c\\u002fsup\\u003e\"},\"showline\":true,\"range\":[0,0.5],\"nticks\":6},\"xaxis7\":{\"anchor\":\"y7\",\"domain\":[0.0,0.46],\"showline\":true,\"ticklen\":0,\"linecolor\":\"rgba(255,255,255,0)\"},\"yaxis7\":{\"anchor\":\"x7\",\"domain\":[0.0,0.19],\"title\":{\"text\":\"Surface area (cm\\u003csup\\u003e2\\u003c\\u002fsup\\u003e)\"},\"showline\":true,\"range\":[0,40],\"nticks\":6},\"xaxis8\":{\"anchor\":\"y8\",\"domain\":[0.54,1.0],\"showline\":true,\"ticklen\":0,\"linecolor\":\"rgba(255,255,255,0)\"},\"yaxis8\":{\"anchor\":\"x8\",\"domain\":[0.0,0.19],\"title\":{\"text\":\"Surface area (cm\\u003csup\\u003e2\\u003c\\u002fsup\\u003e)\"},\"showline\":true,\"range\":[0,40],\"nticks\":6},\"annotations\":[{\"font\":{\"size\":16},\"showarrow\":false,\"text\":\"Foveal pRF\",\"x\":0.23,\"xanchor\":\"center\",\"xref\":\"paper\",\"y\":1.0,\"yanchor\":\"bottom\",\"yref\":\"paper\"},{\"font\":{\"size\":16},\"showarrow\":false,\"text\":\"Peripheral pRF\",\"x\":0.77,\"xanchor\":\"center\",\"xref\":\"paper\",\"y\":1.0,\"yanchor\":\"bottom\",\"yref\":\"paper\"}],\"scattermode\":\"group\",\"legend\":{\"x\":0.8,\"font\":{\"family\":\"Arial\",\"size\":15},\"orientation\":\"h\",\"y\":1.1,\"yanchor\":\"top\",\"xanchor\":\"left\",\"traceorder\":\"normal\",\"itemwidth\":30},\"title\":{\"xanchor\":\"left\"},\"margin\":{\"l\":100,\"r\":50,\"t\":100,\"b\":100},\"height\":1000,\"width\":1080},                        {\"responsive\": true}                    ).then(function(){\n",
       "                            \n",
       "var gd = document.getElementById('ab6e18a0-aa06-444c-b5cd-c8af387b600c');\n",
       "var x = new MutationObserver(function (mutations, observer) {{\n",
       "        var display = window.getComputedStyle(gd).display;\n",
       "        if (!display || display === 'none') {{\n",
       "            console.log([gd, 'removed!']);\n",
       "            Plotly.purge(gd);\n",
       "            observer.disconnect();\n",
       "        }}\n",
       "}});\n",
       "\n",
       "// Listen for the removal of the full notebook cells\n",
       "var notebookContainer = gd.closest('#notebook-container');\n",
       "if (notebookContainer) {{\n",
       "    x.observe(notebookContainer, {childList: true});\n",
       "}}\n",
       "\n",
       "// Listen for the clearing of the current output cell\n",
       "var outputEl = gd.closest('.output');\n",
       "if (outputEl) {{\n",
       "    x.observe(outputEl, {childList: true});\n",
       "}}\n",
       "\n",
       "                        })                };                });            </script>        </div>"
      ]
     },
     "metadata": {},
     "output_type": "display_data"
    }
   ],
   "source": [
    "# def prf_ecc_cat_plot(df_ecc_cat, fig_width, fig_height, rois, roi_colors, comp_group):\n",
    "#     \"\"\"\n",
    "#     Make eccentricity category plots\n",
    "\n",
    "#     Parameters\n",
    "#     ----------\n",
    "#     df_params_avg : dataframe\n",
    "#     fig_width : figure width in pixels\n",
    "#     fig_height : figure height in pixels\n",
    "#     rois : list of rois\n",
    "#     roi_colors : list of rgb colors for plotly\n",
    "#     comp_group : group of comparison (e.g. 'patient')\n",
    "    \n",
    "#     Returns\n",
    "#     -------\n",
    "#     fig : eccentricity category plot\n",
    "#     \"\"\"\n",
    "\n",
    "# to delete\n",
    "df_ecc_cat = df_subject_type\n",
    "fig_width = 1080\n",
    "fig_height = 1000\n",
    "rois = rois\n",
    "roi_colors = roi_colors\n",
    "ecc_categories = ecc_categories\n",
    "comp_group = 'patient'\n",
    "comp_col = 'subject_type'\n",
    "\n",
    "# General figure settings\n",
    "template_specs = dict(axes_color=\"rgba(0, 0, 0, 1)\",\n",
    "                      axes_width=2,\n",
    "                      axes_font_size=15,\n",
    "                      bg_col=\"rgba(255, 255, 255, 1)\",\n",
    "                      font='Arial',\n",
    "                      title_font_size=15,\n",
    "                      plot_width=1.5)\n",
    "\n",
    "# General figure settings\n",
    "fig_template = plotly_template(template_specs)\n",
    "\n",
    "rows, cols = 4,2\n",
    "fig = make_subplots(rows=rows, \n",
    "                    cols=cols, \n",
    "                    print_grid=False, \n",
    "                    vertical_spacing=0.08, \n",
    "                    horizontal_spacing=0.08,\n",
    "                    subplot_titles=(\"Foveal pRF\", \"Peripheral pRF\", \"\", \"\"),\n",
    "                   )\n",
    "\n",
    "type_results = ['prf_size', 'pcm', 'prf_loo_r2', 'vert_area']\n",
    "for j, roi in enumerate(rois):    \n",
    "    for i, type_res in enumerate(type_results, 1):\n",
    "        \n",
    "        if type_res == 'vert_area':\n",
    "            y_comp_col = '{}_sum_mean'.format(type_res)\n",
    "            ci_down_col = '{}_sum_ci_down'.format(type_res)\n",
    "            ci_up_col = '{}_sum_ci_up'.format(type_res)\n",
    "        else:\n",
    "            y_comp_col = '{}_weighted_avg_mean'.format(type_res)\n",
    "            ci_down_col = '{}_weighted_avg_ci_down'.format(type_res)\n",
    "            ci_up_col = '{}_weighted_avg_ci_up'.format(type_res)\n",
    "        \n",
    "        for k, ecc_cat in enumerate(ecc_categories, 1):\n",
    "    \n",
    "                \n",
    "            for comp_type in [comp_group, 'control']:\n",
    "                if comp_type == comp_group:\n",
    "                    offsetgroup=-1\n",
    "                    opacity=1\n",
    "                elif comp_type == 'control':\n",
    "                    offsetgroup=+1\n",
    "                    opacity=0.4\n",
    "\n",
    "\n",
    "                if (j+i+k)==2: showlegend=True\n",
    "                else: showlegend=False\n",
    "                \n",
    "                y_comp = df_ecc_cat.loc[(df_ecc_cat.roi==roi) & \n",
    "                                        (df_ecc_cat.ecc_category==ecc_cat) & \n",
    "                                        (df_ecc_cat.subject_type==comp_type)][y_comp_col]\n",
    "                ci_down_comp = df_ecc_cat.loc[(df_ecc_cat.roi==roi) & \n",
    "                                              (df_ecc_cat.ecc_category==ecc_cat) & \n",
    "                                              (df_ecc_cat.subject_type==comp_type)][ci_down_col]\n",
    "                ci_up_comp = df_ecc_cat.loc[(df_ecc_cat.roi==roi) & \n",
    "                                            (df_ecc_cat.ecc_category==ecc_cat) & \n",
    "                                            (df_ecc_cat.subject_type==comp_type)][ci_up_col]\n",
    "                \n",
    "                fig.add_trace(go.Scatter(x=[roi],\n",
    "                                         y=tuple(y_comp),\n",
    "                                         name=comp_type,\n",
    "                                         opacity=opacity,\n",
    "                                         mode='markers', \n",
    "                                         marker=dict(symbol=\"square\",\n",
    "                                                     color=roi_colors[j],\n",
    "                                                     size=12, \n",
    "                                                     line=dict(color=roi_colors[j], \n",
    "                                                               width=3)),\n",
    "                                         legendgroup=comp_type,\n",
    "                                         offsetgroup=offsetgroup,\n",
    "                                         error_y=dict(type='data', \n",
    "                                                      array=[ci_up_comp - y_comp], \n",
    "                                                      arrayminus=[y_comp - ci_down_comp],\n",
    "                                                      visible=True, \n",
    "                                                      thickness=3,\n",
    "                                                      width=0, \n",
    "                                                      color=roi_colors[j]),\n",
    "                                         showlegend=showlegend), \n",
    "                              row=i, col=k)\n",
    "\n",
    "\n",
    "fig.update_yaxes(showline=True, range=[0, 2.5], nticks=7, title_text='pRF size (dva)', row=1, col=1)\n",
    "fig.update_yaxes(showline=True, range=[0, 12], nticks=7, title_text='pRF size (dva)', row=1, col=2)\n",
    "fig.update_yaxes(showline=True, range=[0, 15], nticks=4, title_text='pRF CM (mm/dva)', row=2, col=1)\n",
    "fig.update_yaxes(showline=True, range=[0, 8], nticks=5, title_text='pRF CM (mm/dva)', row=2, col=2)\n",
    "fig.update_yaxes(showline=True, range=[0, 0.5], nticks=6, title_text='pRF LOO R<sup>2</sup>', row=3, col=1)\n",
    "fig.update_yaxes(showline=True, range=[0, 0.5], nticks=6, title_text='pRF LOO R<sup>2</sup>', row=3, col=2)\n",
    "fig.update_yaxes(showline=True, range=[0, 40], nticks=6, title_text='Surface area (cm<sup>2</sup>)', row=4, col=1)\n",
    "fig.update_yaxes(showline=True, range=[0, 40], nticks=6, title_text='Surface area (cm<sup>2</sup>)', row=4, col=2)\n",
    "\n",
    "fig.update_xaxes(showline=True, ticklen=0, linecolor=('rgba(255,255,255,0)'))\n",
    "\n",
    "fig.update_layout(scattermode='group')\n",
    "fig.update_layout(legend=dict(x=0.8))\n",
    "fig.update_layout(height=fig_height, \n",
    "                  width=fig_width, \n",
    "                  title_xanchor=\"left\",\n",
    "                  legend=dict(orientation=\"h\", \n",
    "                              font_family=template_specs['font'],\n",
    "                              font_size=template_specs['axes_font_size'],\n",
    "                              y=1.1, \n",
    "                              yanchor='top', \n",
    "                              xanchor='left', \n",
    "                              traceorder='normal', \n",
    "                              itemwidth=30), \n",
    "                  template=fig_template,\n",
    "                  margin_l=100,\n",
    "                  margin_r=50,\n",
    "                  margin_t=100, \n",
    "                  margin_b=100)\n",
    "\n",
    "fig.show()"
   ]
  },
  {
   "cell_type": "code",
   "execution_count": null,
   "id": "e8d2ba2d-42df-4685-9c5b-ddc102f7f68e",
   "metadata": {},
   "outputs": [],
   "source": [
    "\n"
   ]
  }
 ],
 "metadata": {
  "kernelspec": {
   "display_name": "mszinte",
   "language": "python",
   "name": "mszinte"
  },
  "language_info": {
   "codemirror_mode": {
    "name": "ipython",
    "version": 3
   },
   "file_extension": ".py",
   "mimetype": "text/x-python",
   "name": "python",
   "nbconvert_exporter": "python",
   "pygments_lexer": "ipython3",
   "version": "3.9.13"
  }
 },
 "nbformat": 4,
 "nbformat_minor": 5
}
